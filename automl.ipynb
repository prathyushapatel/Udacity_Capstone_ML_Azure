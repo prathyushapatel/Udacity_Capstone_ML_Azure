{
  "cells": [
    {
      "cell_type": "markdown",
      "source": [
        "# Automated ML\n",
        "\n",
        "TODO: Import Dependencies. In the cell below, import all the dependencies that you will need to complete the project."
      ],
      "metadata": {}
    },
    {
      "cell_type": "code",
      "source": [
        "import azureml.core\n",
        "import pandas as pd\n",
        "from azureml.core.workspace import Workspace\n",
        "from azureml.train.automl.run import AutoMLRun\n",
        "import time\n",
        "import logging\n",
        "from sklearn import datasets\n",
        "from matplotlib import pyplot as plt\n",
        "from matplotlib.pyplot import imshow\n",
        "import random\n",
        "import numpy as np\n",
        "\n",
        "import os\n",
        "import pandas as pd\n",
        "import numpy as np\n",
        "import json\n",
        "import requests\n",
        "import joblib\n",
        "from sklearn.metrics import confusion_matrix\n",
        "import itertools\n",
        "import time\n",
        "import logging\n",
        "\n",
        "from azureml.core import Dataset, Workspace, Experiment\n",
        "from azureml.core.compute import ComputeTarget, AmlCompute\n",
        "from azureml.core.compute_target import ComputeTargetException\n",
        "from azureml.widgets import RunDetails\n",
        "from azureml.train.automl import AutoMLConfig\n",
        "\n",
        "from azureml.core.experiment import Experiment\n",
        "from azureml.core.model import InferenceConfig\n",
        "from azureml.core.webservice import AciWebservice, Webservice\n",
        "from azureml.core.model import Model\n",
        "from azureml.core.environment import Environment"
      ],
      "outputs": [],
      "execution_count": 4,
      "metadata": {
        "gather": {
          "logged": 1612690563751
        },
        "jupyter": {
          "outputs_hidden": false,
          "source_hidden": false
        },
        "nteract": {
          "transient": {
            "deleting": false
          }
        }
      }
    },
    {
      "cell_type": "code",
      "source": [
        "ws = Workspace.from_config()\n",
        "print(ws.name, ws.resource_group, ws.location, ws.subscription_id, sep = '\\n')"
      ],
      "outputs": [
        {
          "output_type": "stream",
          "name": "stdout",
          "text": [
            "quick-starts-ws-137788\n",
            "aml-quickstarts-137788\n",
            "southcentralus\n",
            "48a74bb7-9950-4cc1-9caa-5d50f995cc55\n"
          ]
        }
      ],
      "execution_count": 5,
      "metadata": {
        "gather": {
          "logged": 1612690568083
        }
      }
    },
    {
      "cell_type": "code",
      "source": [
        "# choose a name for experiment\n",
        "experiment_name = 'MNIST_Experiment_1'\n",
        "project_folder = './'\n",
        "\n",
        "experiment = Experiment(ws, experiment_name)\n",
        "experiment"
      ],
      "outputs": [
        {
          "output_type": "execute_result",
          "execution_count": 6,
          "data": {
            "text/plain": "Experiment(Name: MNIST_Experiment_1,\nWorkspace: quick-starts-ws-137788)",
            "text/html": "<table style=\"width:100%\"><tr><th>Name</th><th>Workspace</th><th>Report Page</th><th>Docs Page</th></tr><tr><td>MNIST_Experiment_1</td><td>quick-starts-ws-137788</td><td><a href=\"https://ml.azure.com/experiments/MNIST_Experiment_1?wsid=/subscriptions/48a74bb7-9950-4cc1-9caa-5d50f995cc55/resourcegroups/aml-quickstarts-137788/workspaces/quick-starts-ws-137788\" target=\"_blank\" rel=\"noopener\">Link to Azure Machine Learning studio</a></td><td><a href=\"https://docs.microsoft.com/en-us/python/api/azureml-core/azureml.core.experiment.Experiment?view=azure-ml-py\" target=\"_blank\" rel=\"noopener\">Link to Documentation</a></td></tr></table>"
          },
          "metadata": {}
        }
      ],
      "execution_count": 6,
      "metadata": {
        "gather": {
          "logged": 1612690573009
        }
      }
    },
    {
      "cell_type": "code",
      "source": [
        "import os\n",
        "\n",
        "output = {}\n",
        "output['SDK version'] = azureml.core.VERSION\n",
        "output['Subscription ID'] = ws.subscription_id\n",
        "output['Workspace'] = ws.name\n",
        "output['Resource Group'] = ws.resource_group\n",
        "output['Location'] = ws.location\n",
        "output['Project Directory'] = project_folder\n",
        "pd.set_option('display.max_colwidth', -1)\n",
        "pd.DataFrame(data=output, index=['']).T"
      ],
      "outputs": [
        {
          "output_type": "execute_result",
          "execution_count": 7,
          "data": {
            "text/plain": "                                                       \nSDK version        1.20.0                              \nSubscription ID    48a74bb7-9950-4cc1-9caa-5d50f995cc55\nWorkspace          quick-starts-ws-137788              \nResource Group     aml-quickstarts-137788              \nLocation           southcentralus                      \nProject Directory  ./                                  ",
            "text/html": "<div>\n<style scoped>\n    .dataframe tbody tr th:only-of-type {\n        vertical-align: middle;\n    }\n\n    .dataframe tbody tr th {\n        vertical-align: top;\n    }\n\n    .dataframe thead th {\n        text-align: right;\n    }\n</style>\n<table border=\"1\" class=\"dataframe\">\n  <thead>\n    <tr style=\"text-align: right;\">\n      <th></th>\n      <th></th>\n    </tr>\n  </thead>\n  <tbody>\n    <tr>\n      <th>SDK version</th>\n      <td>1.20.0</td>\n    </tr>\n    <tr>\n      <th>Subscription ID</th>\n      <td>48a74bb7-9950-4cc1-9caa-5d50f995cc55</td>\n    </tr>\n    <tr>\n      <th>Workspace</th>\n      <td>quick-starts-ws-137788</td>\n    </tr>\n    <tr>\n      <th>Resource Group</th>\n      <td>aml-quickstarts-137788</td>\n    </tr>\n    <tr>\n      <th>Location</th>\n      <td>southcentralus</td>\n    </tr>\n    <tr>\n      <th>Project Directory</th>\n      <td>./</td>\n    </tr>\n  </tbody>\n</table>\n</div>"
          },
          "metadata": {}
        }
      ],
      "execution_count": 7,
      "metadata": {
        "gather": {
          "logged": 1612690575303
        }
      }
    },
    {
      "cell_type": "markdown",
      "source": [
        "## Create or Attach an AmlCompute cluster"
      ],
      "metadata": {}
    },
    {
      "cell_type": "code",
      "source": [
        "cpu_cluster_name = \"AUTOML-cluster\"\n",
        "\n",
        "# Verify that cluster does not exist already\n",
        "try:\n",
        "    compute_target = ComputeTarget(workspace=ws, name=cpu_cluster_name)\n",
        "    print('Found existing cluster, use it.')\n",
        "except ComputeTargetException:\n",
        "    compute_config = AmlCompute.provisioning_configuration(vm_size='STANDARD_D12_V2',\n",
        "                                                           max_nodes=5)\n",
        "    compute_target = ComputeTarget.create(ws, cpu_cluster_name, compute_config)\n",
        "\n",
        "compute_target.wait_for_completion(show_output=True)"
      ],
      "outputs": [
        {
          "output_type": "stream",
          "name": "stdout",
          "text": [
            "Creating\n",
            "Succeeded\n",
            "AmlCompute wait for completion finished\n",
            "\n",
            "Minimum number of nodes requested have been provisioned\n"
          ]
        }
      ],
      "execution_count": 8,
      "metadata": {
        "gather": {
          "logged": 1612690600017
        }
      }
    },
    {
      "cell_type": "markdown",
      "source": [
        "## Dataset\n",
        "\n",
        "### Overview\n",
        "TODO: In this markdown cell, give an overview of the dataset you are using. Also mention the task you will be performing.\n",
        "\n",
        "\n",
        "TODO: Get data. In the cell below, write code to access the data you will be using in this project. Remember that the dataset needs to be external."
      ],
      "metadata": {}
    },
    {
      "cell_type": "code",
      "source": [
        "from sklearn import datasets\n",
        "\n",
        "digits = datasets.load_digits()\n",
        "\n",
        "# Exclude the first 100 rows from training so that they can be used for test.\n",
        "X_train = digits.data[100:,:]\n",
        "y_train = digits.target[100:]"
      ],
      "outputs": [],
      "execution_count": 9,
      "metadata": {
        "gather": {
          "logged": 1612690607451
        }
      }
    },
    {
      "cell_type": "code",
      "source": [
        "count = 0\n",
        "sample_size = 30\n",
        "plt.figure(figsize = (16, 6))\n",
        "for i in np.random.permutation(X_train.shape[0])[:sample_size]:\n",
        "    count = count + 1\n",
        "    plt.subplot(1, sample_size, count)\n",
        "    plt.axhline('')\n",
        "    plt.axvline('')\n",
        "    plt.text(x = 2, y = -2, s = y_train[i], fontsize = 18)\n",
        "    plt.imshow(X_train[i].reshape(8, 8), cmap = plt.cm.Greys)\n",
        "plt.show()"
      ],
      "outputs": [
        {
          "output_type": "display_data",
          "data": {
            "text/plain": "<Figure size 1152x432 with 30 Axes>",
            "image/png": "[encoded data removed]"
          },
          "metadata": {
            "needs_background": "light"
          }
        }
      ],
      "execution_count": 10,
      "metadata": {
        "gather": {
          "logged": 1612690612694
        }
      }
    },
    {
      "cell_type": "code",
      "source": [
        "from sklearn import datasets\n",
        "from azureml.core.dataset import Dataset\n",
        "from scipy import sparse\n",
        "import numpy as np\n",
        "import pandas as pd\n",
        "import os\n",
        "\n",
        "# Create a project_folder if it doesn't exist\n",
        "if not os.path.isdir('data'):\n",
        "    os.mkdir('data')\n",
        "    \n",
        "if not os.path.exists('project_folder'):\n",
        "    os.makedirs('project_folder')\n",
        "\n",
        "X = pd.DataFrame(digits.data[100:,:])\n",
        "y = pd.DataFrame(digits.target[100:])\n",
        "\n",
        "# merge X and y\n",
        "label = \"digit\"\n",
        "X[label] = y\n",
        "\n",
        "training_data = X\n",
        "\n",
        "training_data.to_csv('data/digits.csv')\n",
        "ds = ws.get_default_datastore()\n",
        "ds.upload(src_dir='./data', target_path='digitsdata', overwrite=True, show_progress=True)\n",
        "\n",
        "training_data = Dataset.Tabular.from_delimited_files(path=ds.path('digitsdata/digits.csv'))"
      ],
      "outputs": [
        {
          "output_type": "stream",
          "name": "stdout",
          "text": [
            "Uploading an estimated of 1 files\n",
            "Uploading ./data/digits.csv\n",
            "Uploaded ./data/digits.csv, 1 files out of an estimated total of 1\n",
            "Uploaded 1 files\n"
          ]
        }
      ],
      "execution_count": 11,
      "metadata": {
        "gather": {
          "logged": 1612690622437
        }
      }
    },
    {
      "cell_type": "markdown",
      "source": [
        "## AutoML Configuration\n",
        "\n",
        "TODO: Explain why you chose the automl settings and cofiguration you used below."
      ],
      "metadata": {}
    },
    {
      "cell_type": "code",
      "source": [
        "# TODO: Put your automl settings here\n",
        "\n",
        "automl_settings = {\n",
        "    \"name\": \"AutoML_Demo_Experiment_{0}\".format(time.time()),\n",
        "    \"experiment_timeout_minutes\" : 20,\n",
        "    \"enable_early_stopping\" : True,\n",
        "    \"iteration_timeout_minutes\": 10,\n",
        "    \"n_cross_validations\": 5,\n",
        "    \"primary_metric\": 'AUC_weighted',\n",
        "    \"max_concurrent_iterations\": 10,\n",
        "}\n",
        "\n",
        "automl_config = AutoMLConfig(task='classification',\n",
        "                             debug_log='automl_errors.log',\n",
        "                             path=project_folder,\n",
        "                             compute_target=compute_target,\n",
        "                             training_data=training_data,\n",
        "                             label_column_name=label,\n",
        "                             **automl_settings,\n",
        "                             )"
      ],
      "outputs": [],
      "execution_count": 13,
      "metadata": {
        "gather": {
          "logged": 1612690637979
        },
        "jupyter": {
          "outputs_hidden": false,
          "source_hidden": false
        },
        "nteract": {
          "transient": {
            "deleting": false
          }
        }
      }
    },
    {
      "cell_type": "code",
      "source": [
        "# TODO: Submit your experiment\n",
        "from azureml.core.experiment import Experiment\n",
        "experiment=Experiment(ws, experiment_name)\n",
        "remote_run = experiment.submit(automl_config, show_output=True)"
      ],
      "outputs": [
        {
          "output_type": "stream",
          "name": "stdout",
          "text": [
            "Running on remote.\n",
            "No run_configuration provided, running on AUTOML-cluster with default configuration\n",
            "Running on remote compute: AUTOML-cluster\n",
            "Parent Run ID: AutoML_3d5d6ba0-f3ac-4b65-82f1-eebd553cf63b\n",
            "\n",
            "Current status: FeaturesGeneration. Generating features for the dataset.\n",
            "Current status: DatasetCrossValidationSplit. Generating individually featurized CV splits.\n",
            "Current status: ModelSelection. Beginning model selection.\n",
            "\n",
            "****************************************************************************************************\n",
            "DATA GUARDRAILS: \n",
            "\n",
            "TYPE:         Class balancing detection\n",
            "STATUS:       PASSED\n",
            "DESCRIPTION:  Your inputs were analyzed, and all classes are balanced in your training data.\n",
            "              Learn more about imbalanced data: https://aka.ms/AutomatedMLImbalancedData\n",
            "\n",
            "****************************************************************************************************\n",
            "\n",
            "TYPE:         Missing feature values imputation\n",
            "STATUS:       PASSED\n",
            "DESCRIPTION:  No feature missing values were detected in the training data.\n",
            "              Learn more about missing value imputation: https://aka.ms/AutomatedMLFeaturization\n",
            "\n",
            "****************************************************************************************************\n",
            "\n",
            "TYPE:         High cardinality feature detection\n",
            "STATUS:       PASSED\n",
            "DESCRIPTION:  Your inputs were analyzed, and no high cardinality features were detected.\n",
            "              Learn more about high cardinality feature handling: https://aka.ms/AutomatedMLFeaturization\n",
            "\n",
            "****************************************************************************************************\n",
            "\n",
            "****************************************************************************************************\n",
            "ITERATION: The iteration being evaluated.\n",
            "PIPELINE: A summary description of the pipeline being evaluated.\n",
            "DURATION: Time taken for the current iteration.\n",
            "METRIC: The result of computing score on the fitted pipeline.\n",
            "BEST: The best observed score thus far.\n",
            "****************************************************************************************************\n",
            "\n",
            " ITERATION   PIPELINE                                       DURATION      METRIC      BEST\n",
            "         0   MaxAbsScaler LightGBM                          0:01:19       0.9993    0.9993\n",
            "         9   SparseNormalizer KNN                           0:01:07       0.9986    0.9993\n",
            "         6   StandardScalerWrapper RandomForest             0:01:11       0.9949    0.9993\n",
            "         3   RobustScaler ExtremeRandomTrees                0:01:09       0.9929    0.9993\n",
            "         7   MinMaxScaler ExtremeRandomTrees                0:02:32       0.9652    0.9993\n",
            "         1   MaxAbsScaler XGBoostClassifier                 0:02:42       0.9991    0.9993\n",
            "         2   MinMaxScaler RandomForest                      0:02:34       0.9859    0.9993\n",
            "         4   MinMaxScaler RandomForest                      0:02:34       0.9951    0.9993\n",
            "        10   MinMaxScaler ExtremeRandomTrees                0:01:07       0.9888    0.9993\n",
            "         5   MinMaxScaler RandomForest                      0:01:14       0.9819    0.9993\n",
            "         8   MinMaxScaler ExtremeRandomTrees                0:01:14       0.9931    0.9993\n",
            "        12   StandardScalerWrapper RandomForest             0:01:04       0.9743    0.9993\n",
            "        11   RobustScaler ExtremeRandomTrees                0:01:12       0.9767    0.9993\n",
            "        13   StandardScalerWrapper SGD                      0:01:08       0.9970    0.9993\n",
            "        14   RobustScaler RandomForest                      0:01:15       0.9766    0.9993\n",
            "        15   StandardScalerWrapper KNN                      0:01:08       0.9979    0.9993\n",
            "        16   MinMaxScaler RandomForest                      0:01:08       0.9857    0.9993\n",
            "        17   MinMaxScaler ExtremeRandomTrees                0:01:06       0.9869    0.9993\n",
            "        18   MaxAbsScaler RandomForest                      0:01:07       0.9898    0.9993\n",
            "        20   MaxAbsScaler RandomForest                      0:01:07       0.9918    0.9993\n",
            "        19   StandardScalerWrapper XGBoostClassifier        0:01:14       0.9960    0.9993\n",
            "        21   MaxAbsScaler ExtremeRandomTrees                0:01:05       0.9706    0.9993\n",
            "        22   MaxAbsScaler ExtremeRandomTrees                0:01:09       0.9948    0.9993\n",
            "        23   StandardScalerWrapper SVM                      0:01:18       0.9996    0.9996\n",
            "        24   MaxAbsScaler LightGBM                          0:01:09       0.9980    0.9996\n",
            "        25   SparseNormalizer LightGBM                      0:01:15       0.9858    0.9996\n",
            "        27   StandardScalerWrapper SVM                      0:01:06       0.9995    0.9996\n",
            "        26   MinMaxScaler SVM                               0:01:19       0.9999    0.9999\n",
            "        28   StandardScalerWrapper SVM                      0:01:18       0.9995    0.9999\n",
            "        29   RobustScaler SVM                               0:01:17       0.9995    0.9999\n",
            "        31   MaxAbsScaler KNN                               0:01:06       0.9988    0.9999\n",
            "        30   SparseNormalizer LightGBM                      0:01:36       0.9970    0.9999\n",
            "        32   RobustScaler KNN                               0:01:11       0.9980    0.9999\n",
            "        33   RobustScaler KNN                               0:01:11       0.9954    0.9999\n",
            "        34   StandardScalerWrapper KNN                      0:01:10       0.9968    0.9999\n",
            "        37   RobustScaler SVM                               0:01:07       0.9995    0.9999\n",
            "        35   MaxAbsScaler SVM                               0:01:24       0.0188    0.9999\n",
            "        36   RobustScaler KNN                               0:01:14       0.9959    0.9999\n",
            "        38   TruncatedSVDWrapper XGBoostClassifier          0:01:10       0.9982    0.9999\n",
            "        39   RobustScaler SVM                               0:01:13       0.9995    0.9999\n",
            "        40   MinMaxScaler SVM                               0:01:25       0.0454    0.9999\n",
            "        41   TruncatedSVDWrapper XGBoostClassifier          0:01:22       0.9949    0.9999\n",
            "        42   RobustScaler SVM                               0:01:16       0.9995    0.9999\n",
            "        43   SparseNormalizer XGBoostClassifier             0:01:24       0.9977    0.9999\n",
            "        44   RobustScaler SVM                               0:01:06       0.9995    0.9999\n",
            "        45   PCA SVM                                        0:01:15       0.5600    0.9999\n",
            "        46   RobustScaler SVM                               0:01:13       0.9994    0.9999\n",
            "        47   MinMaxScaler SVM                               0:01:00       0.9999    0.9999\n",
            "ERROR: {\n",
            "    \"additional_properties\": {},\n",
            "    \"error\": {\n",
            "        \"additional_properties\": {\n",
            "            \"debugInfo\": null\n",
            "        },\n",
            "        \"code\": \"UserError\",\n",
            "        \"severity\": null,\n",
            "        \"message\": \"Experiment timeout reached, please consider increasing your experiment timeout.\",\n",
            "        \"message_format\": \"Experiment timeout reached, please consider increasing your experiment timeout.\",\n",
            "        \"message_parameters\": {},\n",
            "        \"reference_code\": null,\n",
            "        \"details_uri\": null,\n",
            "        \"target\": null,\n",
            "        \"details\": [],\n",
            "        \"inner_error\": {\n",
            "            \"additional_properties\": {},\n",
            "            \"code\": \"ResourceExhausted\",\n",
            "            \"inner_error\": {\n",
            "                \"additional_properties\": {},\n",
            "                \"code\": \"Timeout\",\n",
            "                \"inner_error\": {\n",
            "                    \"additional_properties\": {},\n",
            "                    \"code\": \"ExperimentTimeoutForIterations\",\n",
            "                    \"inner_error\": null\n",
            "                }\n",
            "            }\n",
            "        }\n",
            "    },\n",
            "    \"correlation\": null,\n",
            "    \"environment\": null,\n",
            "    \"location\": null,\n",
            "    \"time\": {},\n",
            "    \"component_name\": null\n",
            "}\n",
            "        48   StandardScalerWrapper SVM                      0:00:43          nan    0.9999\n",
            "ERROR: {\n",
            "    \"additional_properties\": {},\n",
            "    \"error\": {\n",
            "        \"additional_properties\": {\n",
            "            \"debugInfo\": null\n",
            "        },\n",
            "        \"code\": \"UserError\",\n",
            "        \"severity\": null,\n",
            "        \"message\": \"Experiment timeout reached, please consider increasing your experiment timeout.\",\n",
            "        \"message_format\": \"Experiment timeout reached, please consider increasing your experiment timeout.\",\n",
            "        \"message_parameters\": {},\n",
            "        \"reference_code\": null,\n",
            "        \"details_uri\": null,\n",
            "        \"target\": null,\n",
            "        \"details\": [],\n",
            "        \"inner_error\": {\n",
            "            \"additional_properties\": {},\n",
            "            \"code\": \"ResourceExhausted\",\n",
            "            \"inner_error\": {\n",
            "                \"additional_properties\": {},\n",
            "                \"code\": \"Timeout\",\n",
            "                \"inner_error\": {\n",
            "                    \"additional_properties\": {},\n",
            "                    \"code\": \"ExperimentTimeoutForIterations\",\n",
            "                    \"inner_error\": null\n",
            "                }\n",
            "            }\n",
            "        }\n",
            "    },\n",
            "    \"correlation\": null,\n",
            "    \"environment\": null,\n",
            "    \"location\": null,\n",
            "    \"time\": {},\n",
            "    \"component_name\": null\n",
            "}\n",
            "        49   TruncatedSVDWrapper XGBoostClassifier          0:00:48          nan    0.9999\n",
            "ERROR: {\n",
            "    \"additional_properties\": {},\n",
            "    \"error\": {\n",
            "        \"additional_properties\": {\n",
            "            \"debugInfo\": null\n",
            "        },\n",
            "        \"code\": \"UserError\",\n",
            "        \"severity\": null,\n",
            "        \"message\": \"Experiment timeout reached, please consider increasing your experiment timeout.\",\n",
            "        \"message_format\": \"Experiment timeout reached, please consider increasing your experiment timeout.\",\n",
            "        \"message_parameters\": {},\n",
            "        \"reference_code\": null,\n",
            "        \"details_uri\": null,\n",
            "        \"target\": null,\n",
            "        \"details\": [],\n",
            "        \"inner_error\": {\n",
            "            \"additional_properties\": {},\n",
            "            \"code\": \"ResourceExhausted\",\n",
            "            \"inner_error\": {\n",
            "                \"additional_properties\": {},\n",
            "                \"code\": \"Timeout\",\n",
            "                \"inner_error\": {\n",
            "                    \"additional_properties\": {},\n",
            "                    \"code\": \"ExperimentTimeoutForIterations\",\n",
            "                    \"inner_error\": null\n",
            "                }\n",
            "            }\n",
            "        }\n",
            "    },\n",
            "    \"correlation\": null,\n",
            "    \"environment\": null,\n",
            "    \"location\": null,\n",
            "    \"time\": {},\n",
            "    \"component_name\": null\n",
            "}\n",
            "        50                                                  0:00:10          nan    0.9999\n",
            "ERROR: {\n",
            "    \"additional_properties\": {},\n",
            "    \"error\": {\n",
            "        \"additional_properties\": {\n",
            "            \"debugInfo\": null\n",
            "        },\n",
            "        \"code\": \"UserError\",\n",
            "        \"severity\": null,\n",
            "        \"message\": \"Experiment timeout reached, please consider increasing your experiment timeout.\",\n",
            "        \"message_format\": \"Experiment timeout reached, please consider increasing your experiment timeout.\",\n",
            "        \"message_parameters\": {},\n",
            "        \"reference_code\": null,\n",
            "        \"details_uri\": null,\n",
            "        \"target\": null,\n",
            "        \"details\": [],\n",
            "        \"inner_error\": {\n",
            "            \"additional_properties\": {},\n",
            "            \"code\": \"ResourceExhausted\",\n",
            "            \"inner_error\": {\n",
            "                \"additional_properties\": {},\n",
            "                \"code\": \"Timeout\",\n",
            "                \"inner_error\": {\n",
            "                    \"additional_properties\": {},\n",
            "                    \"code\": \"ExperimentTimeoutForIterations\",\n",
            "                    \"inner_error\": null\n",
            "                }\n",
            "            }\n",
            "        }\n",
            "    },\n",
            "    \"correlation\": null,\n",
            "    \"environment\": null,\n",
            "    \"location\": null,\n",
            "    \"time\": {},\n",
            "    \"component_name\": null\n",
            "}\n",
            "        51                                                  0:00:18          nan    0.9999\n",
            "ERROR: {\n",
            "    \"additional_properties\": {},\n",
            "    \"error\": {\n",
            "        \"additional_properties\": {\n",
            "            \"debugInfo\": null\n",
            "        },\n",
            "        \"code\": \"UserError\",\n",
            "        \"severity\": null,\n",
            "        \"message\": \"Experiment timeout reached, please consider increasing your experiment timeout.\",\n",
            "        \"message_format\": \"Experiment timeout reached, please consider increasing your experiment timeout.\",\n",
            "        \"message_parameters\": {},\n",
            "        \"reference_code\": null,\n",
            "        \"details_uri\": null,\n",
            "        \"target\": null,\n",
            "        \"details\": [],\n",
            "        \"inner_error\": {\n",
            "            \"additional_properties\": {},\n",
            "            \"code\": \"ResourceExhausted\",\n",
            "            \"inner_error\": {\n",
            "                \"additional_properties\": {},\n",
            "                \"code\": \"Timeout\",\n",
            "                \"inner_error\": {\n",
            "                    \"additional_properties\": {},\n",
            "                    \"code\": \"ExperimentTimeoutForIterations\",\n",
            "                    \"inner_error\": null\n",
            "                }\n",
            "            }\n",
            "        }\n",
            "    },\n",
            "    \"correlation\": null,\n",
            "    \"environment\": null,\n",
            "    \"location\": null,\n",
            "    \"time\": {},\n",
            "    \"component_name\": null\n",
            "}\n",
            "        52                                                  0:01:59          nan    0.9999\n",
            "ERROR: {\n",
            "    \"additional_properties\": {},\n",
            "    \"error\": {\n",
            "        \"additional_properties\": {\n",
            "            \"debugInfo\": null\n",
            "        },\n",
            "        \"code\": \"UserError\",\n",
            "        \"severity\": null,\n",
            "        \"message\": \"Experiment timeout reached, please consider increasing your experiment timeout.\",\n",
            "        \"message_format\": \"Experiment timeout reached, please consider increasing your experiment timeout.\",\n",
            "        \"message_parameters\": {},\n",
            "        \"reference_code\": null,\n",
            "        \"details_uri\": null,\n",
            "        \"target\": null,\n",
            "        \"details\": [],\n",
            "        \"inner_error\": {\n",
            "            \"additional_properties\": {},\n",
            "            \"code\": \"ResourceExhausted\",\n",
            "            \"inner_error\": {\n",
            "                \"additional_properties\": {},\n",
            "                \"code\": \"Timeout\",\n",
            "                \"inner_error\": {\n",
            "                    \"additional_properties\": {},\n",
            "                    \"code\": \"ExperimentTimeoutForIterations\",\n",
            "                    \"inner_error\": null\n",
            "                }\n",
            "            }\n",
            "        }\n",
            "    },\n",
            "    \"correlation\": null,\n",
            "    \"environment\": null,\n",
            "    \"location\": null,\n",
            "    \"time\": {},\n",
            "    \"component_name\": null\n",
            "}\n",
            "        53                                                  0:00:56          nan    0.9999\n",
            "ERROR: {\n",
            "    \"additional_properties\": {},\n",
            "    \"error\": {\n",
            "        \"additional_properties\": {\n",
            "            \"debugInfo\": null\n",
            "        },\n",
            "        \"code\": \"UserError\",\n",
            "        \"severity\": null,\n",
            "        \"message\": \"Experiment timeout reached, please consider increasing your experiment timeout.\",\n",
            "        \"message_format\": \"Experiment timeout reached, please consider increasing your experiment timeout.\",\n",
            "        \"message_parameters\": {},\n",
            "        \"reference_code\": null,\n",
            "        \"details_uri\": null,\n",
            "        \"target\": null,\n",
            "        \"details\": [],\n",
            "        \"inner_error\": {\n",
            "            \"additional_properties\": {},\n",
            "            \"code\": \"ResourceExhausted\",\n",
            "            \"inner_error\": {\n",
            "                \"additional_properties\": {},\n",
            "                \"code\": \"Timeout\",\n",
            "                \"inner_error\": {\n",
            "                    \"additional_properties\": {},\n",
            "                    \"code\": \"ExperimentTimeoutForIterations\",\n",
            "                    \"inner_error\": null\n",
            "                }\n",
            "            }\n",
            "        }\n",
            "    },\n",
            "    \"correlation\": null,\n",
            "    \"environment\": null,\n",
            "    \"location\": null,\n",
            "    \"time\": {},\n",
            "    \"component_name\": null\n",
            "}\n",
            "        54                                                  0:00:48          nan    0.9999\n",
            "ERROR: {\n",
            "    \"additional_properties\": {},\n",
            "    \"error\": {\n",
            "        \"additional_properties\": {\n",
            "            \"debugInfo\": null\n",
            "        },\n",
            "        \"code\": \"UserError\",\n",
            "        \"severity\": null,\n",
            "        \"message\": \"Experiment timeout reached, please consider increasing your experiment timeout.\",\n",
            "        \"message_format\": \"Experiment timeout reached, please consider increasing your experiment timeout.\",\n",
            "        \"message_parameters\": {},\n",
            "        \"reference_code\": null,\n",
            "        \"details_uri\": null,\n",
            "        \"target\": null,\n",
            "        \"details\": [],\n",
            "        \"inner_error\": {\n",
            "            \"additional_properties\": {},\n",
            "            \"code\": \"ResourceExhausted\",\n",
            "            \"inner_error\": {\n",
            "                \"additional_properties\": {},\n",
            "                \"code\": \"Timeout\",\n",
            "                \"inner_error\": {\n",
            "                    \"additional_properties\": {},\n",
            "                    \"code\": \"ExperimentTimeoutForIterations\",\n",
            "                    \"inner_error\": null\n",
            "                }\n",
            "            }\n",
            "        }\n",
            "    },\n",
            "    \"correlation\": null,\n",
            "    \"environment\": null,\n",
            "    \"location\": null,\n",
            "    \"time\": {},\n",
            "    \"component_name\": null\n",
            "}\n",
            "        55                                                  0:00:18          nan    0.9999\n",
            "ERROR: {\n",
            "    \"additional_properties\": {},\n",
            "    \"error\": {\n",
            "        \"additional_properties\": {\n",
            "            \"debugInfo\": null\n",
            "        },\n",
            "        \"code\": \"UserError\",\n",
            "        \"severity\": null,\n",
            "        \"message\": \"Experiment timeout reached, please consider increasing your experiment timeout.\",\n",
            "        \"message_format\": \"Experiment timeout reached, please consider increasing your experiment timeout.\",\n",
            "        \"message_parameters\": {},\n",
            "        \"reference_code\": null,\n",
            "        \"details_uri\": null,\n",
            "        \"target\": null,\n",
            "        \"details\": [],\n",
            "        \"inner_error\": {\n",
            "            \"additional_properties\": {},\n",
            "            \"code\": \"ResourceExhausted\",\n",
            "            \"inner_error\": {\n",
            "                \"additional_properties\": {},\n",
            "                \"code\": \"Timeout\",\n",
            "                \"inner_error\": {\n",
            "                    \"additional_properties\": {},\n",
            "                    \"code\": \"ExperimentTimeoutForIterations\",\n",
            "                    \"inner_error\": null\n",
            "                }\n",
            "            }\n",
            "        }\n",
            "    },\n",
            "    \"correlation\": null,\n",
            "    \"environment\": null,\n",
            "    \"location\": null,\n",
            "    \"time\": {},\n",
            "    \"component_name\": null\n",
            "}\n",
            "        56    VotingEnsemble                                0:02:00       0.9999    0.9999\n",
            "        57    StackEnsemble                                 0:02:25       0.9999    0.9999\n"
          ]
        }
      ],
      "execution_count": 14,
      "metadata": {
        "gather": {
          "logged": 1612692514189
        },
        "jupyter": {
          "outputs_hidden": false,
          "source_hidden": false
        },
        "nteract": {
          "transient": {
            "deleting": false
          }
        }
      }
    },
    {
      "cell_type": "markdown",
      "source": [
        "## Run Details\n",
        "\n",
        "OPTIONAL: Write about the different models trained and their performance. Why do you think some models did better than others?\n",
        "\n",
        "TODO: In the cell below, use the `RunDetails` widget to show the different experiments."
      ],
      "metadata": {}
    },
    {
      "cell_type": "code",
      "source": [
        "from azureml.widgets import RunDetails\n",
        "RunDetails(remote_run).show()"
      ],
      "outputs": [
        {
          "output_type": "display_data",
          "data": {
            "text/plain": "_AutoMLWidget(widget_settings={'childWidgetDisplay': 'popup', 'send_telemetry': False, 'log_level': 'INFO', 's…",
            "application/vnd.jupyter.widget-view+json": {
              "version_major": 2,
              "version_minor": 0,
              "model_id": "2dc8176e8e4549b2847739763de65931"
            }
          },
          "metadata": {}
        },
        {
          "output_type": "display_data",
          "data": {
            "application/aml.mini.widget.v1": "{\"status\": \"Completed\", \"workbench_run_details_uri\": \"https://ml.azure.com/experiments/MNIST_Experiment_1/runs/AutoML_3d5d6ba0-f3ac-4b65-82f1-eebd553cf63b?wsid=/subscriptions/48a74bb7-9950-4cc1-9caa-5d50f995cc55/resourcegroups/aml-quickstarts-137788/workspaces/quick-starts-ws-137788\", \"run_id\": \"AutoML_3d5d6ba0-f3ac-4b65-82f1-eebd553cf63b\", \"run_properties\": {\"run_id\": \"AutoML_3d5d6ba0-f3ac-4b65-82f1-eebd553cf63b\", \"created_utc\": \"2021-02-07T09:37:17.845822Z\", \"properties\": {\"num_iterations\": \"1000\", \"training_type\": \"TrainFull\", \"acquisition_function\": \"EI\", \"primary_metric\": \"AUC_weighted\", \"train_split\": \"0\", \"acquisition_parameter\": \"0\", \"num_cross_validation\": \"5\", \"target\": \"AUTOML-cluster\", \"AMLSettingsJsonString\": \"{\\\"path\\\":null,\\\"name\\\":\\\"AutoML_Demo_Experiment_1612690630.7616286\\\",\\\"subscription_id\\\":\\\"48a74bb7-9950-4cc1-9caa-5d50f995cc55\\\",\\\"resource_group\\\":\\\"aml-quickstarts-137788\\\",\\\"workspace_name\\\":\\\"quick-starts-ws-137788\\\",\\\"region\\\":\\\"southcentralus\\\",\\\"compute_target\\\":\\\"AUTOML-cluster\\\",\\\"spark_service\\\":null,\\\"azure_service\\\":\\\"remote\\\",\\\"many_models\\\":false,\\\"pipeline_fetch_max_batch_size\\\":1,\\\"iterations\\\":1000,\\\"primary_metric\\\":\\\"AUC_weighted\\\",\\\"task_type\\\":\\\"classification\\\",\\\"data_script\\\":null,\\\"validation_size\\\":0.0,\\\"n_cross_validations\\\":5,\\\"y_min\\\":null,\\\"y_max\\\":null,\\\"num_classes\\\":null,\\\"featurization\\\":\\\"auto\\\",\\\"_ignore_package_version_incompatibilities\\\":false,\\\"is_timeseries\\\":false,\\\"max_cores_per_iteration\\\":1,\\\"max_concurrent_iterations\\\":10,\\\"iteration_timeout_minutes\\\":10,\\\"mem_in_mb\\\":null,\\\"enforce_time_on_windows\\\":false,\\\"experiment_timeout_minutes\\\":20,\\\"experiment_exit_score\\\":null,\\\"whitelist_models\\\":null,\\\"blacklist_algos\\\":[\\\"TensorFlowLinearClassifier\\\",\\\"TensorFlowDNN\\\"],\\\"supported_models\\\":[\\\"MultinomialNaiveBayes\\\",\\\"LightGBM\\\",\\\"KNN\\\",\\\"TensorFlowLinearClassifier\\\",\\\"SGD\\\",\\\"DecisionTree\\\",\\\"ExtremeRandomTrees\\\",\\\"LinearSVM\\\",\\\"SVM\\\",\\\"XGBoostClassifier\\\",\\\"GradientBoosting\\\",\\\"BernoulliNaiveBayes\\\",\\\"RandomForest\\\",\\\"AveragedPerceptronClassifier\\\",\\\"TensorFlowDNN\\\",\\\"LogisticRegression\\\"],\\\"auto_blacklist\\\":true,\\\"blacklist_samples_reached\\\":false,\\\"exclude_nan_labels\\\":true,\\\"verbosity\\\":20,\\\"_debug_log\\\":\\\"azureml_automl.log\\\",\\\"show_warnings\\\":false,\\\"model_explainability\\\":true,\\\"service_url\\\":null,\\\"sdk_url\\\":null,\\\"sdk_packages\\\":null,\\\"enable_onnx_compatible_models\\\":false,\\\"enable_split_onnx_featurizer_estimator_models\\\":false,\\\"vm_type\\\":\\\"STANDARD_D12_V2\\\",\\\"telemetry_verbosity\\\":20,\\\"send_telemetry\\\":true,\\\"enable_dnn\\\":false,\\\"scenario\\\":\\\"SDK-1.13.0\\\",\\\"environment_label\\\":null,\\\"force_text_dnn\\\":false,\\\"enable_feature_sweeping\\\":true,\\\"enable_early_stopping\\\":true,\\\"early_stopping_n_iters\\\":10,\\\"metrics\\\":null,\\\"enable_ensembling\\\":true,\\\"enable_stack_ensembling\\\":true,\\\"ensemble_iterations\\\":15,\\\"enable_tf\\\":false,\\\"enable_subsampling\\\":null,\\\"subsample_seed\\\":null,\\\"enable_nimbusml\\\":false,\\\"enable_streaming\\\":false,\\\"force_streaming\\\":false,\\\"track_child_runs\\\":true,\\\"allowed_private_models\\\":[],\\\"label_column_name\\\":\\\"digit\\\",\\\"weight_column_name\\\":null,\\\"cv_split_column_names\\\":null,\\\"enable_local_managed\\\":false,\\\"_local_managed_run_id\\\":null,\\\"cost_mode\\\":1,\\\"lag_length\\\":0,\\\"metric_operation\\\":\\\"maximize\\\",\\\"preprocess\\\":true}\", \"DataPrepJsonString\": \"{\\\\\\\"training_data\\\\\\\": \\\\\\\"{\\\\\\\\\\\\\\\"blocks\\\\\\\\\\\\\\\": [{\\\\\\\\\\\\\\\"id\\\\\\\\\\\\\\\": \\\\\\\\\\\\\\\"a615340b-da48-4ae6-9ebe-f10f85b00430\\\\\\\\\\\\\\\", \\\\\\\\\\\\\\\"type\\\\\\\\\\\\\\\": \\\\\\\\\\\\\\\"Microsoft.DPrep.GetDatastoreFilesBlock\\\\\\\\\\\\\\\", \\\\\\\\\\\\\\\"arguments\\\\\\\\\\\\\\\": {\\\\\\\\\\\\\\\"datastores\\\\\\\\\\\\\\\": [{\\\\\\\\\\\\\\\"datastoreName\\\\\\\\\\\\\\\": \\\\\\\\\\\\\\\"workspaceblobstore\\\\\\\\\\\\\\\", \\\\\\\\\\\\\\\"path\\\\\\\\\\\\\\\": \\\\\\\\\\\\\\\"digitsdata/digits.csv\\\\\\\\\\\\\\\", \\\\\\\\\\\\\\\"resourceGroup\\\\\\\\\\\\\\\": \\\\\\\\\\\\\\\"aml-quickstarts-137788\\\\\\\\\\\\\\\", \\\\\\\\\\\\\\\"subscription\\\\\\\\\\\\\\\": \\\\\\\\\\\\\\\"48a74bb7-9950-4cc1-9caa-5d50f995cc55\\\\\\\\\\\\\\\", \\\\\\\\\\\\\\\"workspaceName\\\\\\\\\\\\\\\": \\\\\\\\\\\\\\\"quick-starts-ws-137788\\\\\\\\\\\\\\\"}]}, \\\\\\\\\\\\\\\"localData\\\\\\\\\\\\\\\": {}, \\\\\\\\\\\\\\\"isEnabled\\\\\\\\\\\\\\\": true, \\\\\\\\\\\\\\\"name\\\\\\\\\\\\\\\": null, \\\\\\\\\\\\\\\"annotation\\\\\\\\\\\\\\\": null}, {\\\\\\\\\\\\\\\"id\\\\\\\\\\\\\\\": \\\\\\\\\\\\\\\"3d981afa-d872-47f1-b413-c230286788bb\\\\\\\\\\\\\\\", \\\\\\\\\\\\\\\"type\\\\\\\\\\\\\\\": \\\\\\\\\\\\\\\"Microsoft.DPrep.ParseDelimitedBlock\\\\\\\\\\\\\\\", \\\\\\\\\\\\\\\"arguments\\\\\\\\\\\\\\\": {\\\\\\\\\\\\\\\"columnHeadersMode\\\\\\\\\\\\\\\": 3, \\\\\\\\\\\\\\\"fileEncoding\\\\\\\\\\\\\\\": 0, \\\\\\\\\\\\\\\"handleQuotedLineBreaks\\\\\\\\\\\\\\\": false, \\\\\\\\\\\\\\\"preview\\\\\\\\\\\\\\\": false, \\\\\\\\\\\\\\\"separator\\\\\\\\\\\\\\\": \\\\\\\\\\\\\\\",\\\\\\\\\\\\\\\", \\\\\\\\\\\\\\\"skipRows\\\\\\\\\\\\\\\": 0, \\\\\\\\\\\\\\\"skipRowsMode\\\\\\\\\\\\\\\": 0}, \\\\\\\\\\\\\\\"localData\\\\\\\\\\\\\\\": {}, \\\\\\\\\\\\\\\"isEnabled\\\\\\\\\\\\\\\": true, \\\\\\\\\\\\\\\"name\\\\\\\\\\\\\\\": null, \\\\\\\\\\\\\\\"annotation\\\\\\\\\\\\\\\": null}, {\\\\\\\\\\\\\\\"id\\\\\\\\\\\\\\\": \\\\\\\\\\\\\\\"229af192-172b-4d3c-8d01-e04aa28809f1\\\\\\\\\\\\\\\", \\\\\\\\\\\\\\\"type\\\\\\\\\\\\\\\": \\\\\\\\\\\\\\\"Microsoft.DPrep.DropColumnsBlock\\\\\\\\\\\\\\\", \\\\\\\\\\\\\\\"arguments\\\\\\\\\\\\\\\": {\\\\\\\\\\\\\\\"columns\\\\\\\\\\\\\\\": {\\\\\\\\\\\\\\\"type\\\\\\\\\\\\\\\": 0, \\\\\\\\\\\\\\\"details\\\\\\\\\\\\\\\": {\\\\\\\\\\\\\\\"selectedColumns\\\\\\\\\\\\\\\": [\\\\\\\\\\\\\\\"Path\\\\\\\\\\\\\\\"]}}}, \\\\\\\\\\\\\\\"localData\\\\\\\\\\\\\\\": {}, \\\\\\\\\\\\\\\"isEnabled\\\\\\\\\\\\\\\": true, \\\\\\\\\\\\\\\"name\\\\\\\\\\\\\\\": null, \\\\\\\\\\\\\\\"annotation\\\\\\\\\\\\\\\": null}, {\\\\\\\\\\\\\\\"id\\\\\\\\\\\\\\\": \\\\\\\\\\\\\\\"86e55c49-9caa-4708-aa0c-d26cf09c8f88\\\\\\\\\\\\\\\", \\\\\\\\\\\\\\\"type\\\\\\\\\\\\\\\": \\\\\\\\\\\\\\\"Microsoft.DPrep.SetColumnTypesBlock\\\\\\\\\\\\\\\", \\\\\\\\\\\\\\\"arguments\\\\\\\\\\\\\\\": {\\\\\\\\\\\\\\\"columnConversion\\\\\\\\\\\\\\\": [{\\\\\\\\\\\\\\\"column\\\\\\\\\\\\\\\": {\\\\\\\\\\\\\\\"type\\\\\\\\\\\\\\\": 2, \\\\\\\\\\\\\\\"details\\\\\\\\\\\\\\\": {\\\\\\\\\\\\\\\"selectedColumn\\\\\\\\\\\\\\\": \\\\\\\\\\\\\\\"Column1\\\\\\\\\\\\\\\"}}, \\\\\\\\\\\\\\\"typeProperty\\\\\\\\\\\\\\\": 2}, {\\\\\\\\\\\\\\\"column\\\\\\\\\\\\\\\": {\\\\\\\\\\\\\\\"type\\\\\\\\\\\\\\\": 2, \\\\\\\\\\\\\\\"details\\\\\\\\\\\\\\\": {\\\\\\\\\\\\\\\"selectedColumn\\\\\\\\\\\\\\\": \\\\\\\\\\\\\\\"0\\\\\\\\\\\\\\\"}}, \\\\\\\\\\\\\\\"typeProperty\\\\\\\\\\\\\\\": 3}, {\\\\\\\\\\\\\\\"column\\\\\\\\\\\\\\\": {\\\\\\\\\\\\\\\"type\\\\\\\\\\\\\\\": 2, \\\\\\\\\\\\\\\"details\\\\\\\\\\\\\\\": {\\\\\\\\\\\\\\\"selectedColumn\\\\\\\\\\\\\\\": \\\\\\\\\\\\\\\"1\\\\\\\\\\\\\\\"}}, \\\\\\\\\\\\\\\"typeProperty\\\\\\\\\\\\\\\": 3}, {\\\\\\\\\\\\\\\"column\\\\\\\\\\\\\\\": {\\\\\\\\\\\\\\\"type\\\\\\\\\\\\\\\": 2, \\\\\\\\\\\\\\\"details\\\\\\\\\\\\\\\": {\\\\\\\\\\\\\\\"selectedColumn\\\\\\\\\\\\\\\": \\\\\\\\\\\\\\\"2\\\\\\\\\\\\\\\"}}, \\\\\\\\\\\\\\\"typeProperty\\\\\\\\\\\\\\\": 3}, {\\\\\\\\\\\\\\\"column\\\\\\\\\\\\\\\": {\\\\\\\\\\\\\\\"type\\\\\\\\\\\\\\\": 2, \\\\\\\\\\\\\\\"details\\\\\\\\\\\\\\\": {\\\\\\\\\\\\\\\"selectedColumn\\\\\\\\\\\\\\\": \\\\\\\\\\\\\\\"3\\\\\\\\\\\\\\\"}}, \\\\\\\\\\\\\\\"typeProperty\\\\\\\\\\\\\\\": 3}, {\\\\\\\\\\\\\\\"column\\\\\\\\\\\\\\\": {\\\\\\\\\\\\\\\"type\\\\\\\\\\\\\\\": 2, \\\\\\\\\\\\\\\"details\\\\\\\\\\\\\\\": {\\\\\\\\\\\\\\\"selectedColumn\\\\\\\\\\\\\\\": \\\\\\\\\\\\\\\"4\\\\\\\\\\\\\\\"}}, \\\\\\\\\\\\\\\"typeProperty\\\\\\\\\\\\\\\": 3}, {\\\\\\\\\\\\\\\"column\\\\\\\\\\\\\\\": {\\\\\\\\\\\\\\\"type\\\\\\\\\\\\\\\": 2, \\\\\\\\\\\\\\\"details\\\\\\\\\\\\\\\": {\\\\\\\\\\\\\\\"selectedColumn\\\\\\\\\\\\\\\": \\\\\\\\\\\\\\\"5\\\\\\\\\\\\\\\"}}, \\\\\\\\\\\\\\\"typeProperty\\\\\\\\\\\\\\\": 3}, {\\\\\\\\\\\\\\\"column\\\\\\\\\\\\\\\": {\\\\\\\\\\\\\\\"type\\\\\\\\\\\\\\\": 2, \\\\\\\\\\\\\\\"details\\\\\\\\\\\\\\\": {\\\\\\\\\\\\\\\"selectedColumn\\\\\\\\\\\\\\\": \\\\\\\\\\\\\\\"6\\\\\\\\\\\\\\\"}}, \\\\\\\\\\\\\\\"typeProperty\\\\\\\\\\\\\\\": 3}, {\\\\\\\\\\\\\\\"column\\\\\\\\\\\\\\\": {\\\\\\\\\\\\\\\"type\\\\\\\\\\\\\\\": 2, \\\\\\\\\\\\\\\"details\\\\\\\\\\\\\\\": {\\\\\\\\\\\\\\\"selectedColumn\\\\\\\\\\\\\\\": \\\\\\\\\\\\\\\"7\\\\\\\\\\\\\\\"}}, \\\\\\\\\\\\\\\"typeProperty\\\\\\\\\\\\\\\": 3}, {\\\\\\\\\\\\\\\"column\\\\\\\\\\\\\\\": {\\\\\\\\\\\\\\\"type\\\\\\\\\\\\\\\": 2, \\\\\\\\\\\\\\\"details\\\\\\\\\\\\\\\": {\\\\\\\\\\\\\\\"selectedColumn\\\\\\\\\\\\\\\": \\\\\\\\\\\\\\\"8\\\\\\\\\\\\\\\"}}, \\\\\\\\\\\\\\\"typeProperty\\\\\\\\\\\\\\\": 3}, {\\\\\\\\\\\\\\\"column\\\\\\\\\\\\\\\": {\\\\\\\\\\\\\\\"type\\\\\\\\\\\\\\\": 2, \\\\\\\\\\\\\\\"details\\\\\\\\\\\\\\\": {\\\\\\\\\\\\\\\"selectedColumn\\\\\\\\\\\\\\\": \\\\\\\\\\\\\\\"9\\\\\\\\\\\\\\\"}}, \\\\\\\\\\\\\\\"typeProperty\\\\\\\\\\\\\\\": 3}, {\\\\\\\\\\\\\\\"column\\\\\\\\\\\\\\\": {\\\\\\\\\\\\\\\"type\\\\\\\\\\\\\\\": 2, \\\\\\\\\\\\\\\"details\\\\\\\\\\\\\\\": {\\\\\\\\\\\\\\\"selectedColumn\\\\\\\\\\\\\\\": \\\\\\\\\\\\\\\"10\\\\\\\\\\\\\\\"}}, \\\\\\\\\\\\\\\"typeProperty\\\\\\\\\\\\\\\": 3}, {\\\\\\\\\\\\\\\"column\\\\\\\\\\\\\\\": {\\\\\\\\\\\\\\\"type\\\\\\\\\\\\\\\": 2, \\\\\\\\\\\\\\\"details\\\\\\\\\\\\\\\": {\\\\\\\\\\\\\\\"selectedColumn\\\\\\\\\\\\\\\": \\\\\\\\\\\\\\\"11\\\\\\\\\\\\\\\"}}, \\\\\\\\\\\\\\\"typeProperty\\\\\\\\\\\\\\\": 3}, {\\\\\\\\\\\\\\\"column\\\\\\\\\\\\\\\": {\\\\\\\\\\\\\\\"type\\\\\\\\\\\\\\\": 2, \\\\\\\\\\\\\\\"details\\\\\\\\\\\\\\\": {\\\\\\\\\\\\\\\"selectedColumn\\\\\\\\\\\\\\\": \\\\\\\\\\\\\\\"12\\\\\\\\\\\\\\\"}}, \\\\\\\\\\\\\\\"typeProperty\\\\\\\\\\\\\\\": 3}, {\\\\\\\\\\\\\\\"column\\\\\\\\\\\\\\\": {\\\\\\\\\\\\\\\"type\\\\\\\\\\\\\\\": 2, \\\\\\\\\\\\\\\"details\\\\\\\\\\\\\\\": {\\\\\\\\\\\\\\\"selectedColumn\\\\\\\\\\\\\\\": \\\\\\\\\\\\\\\"13\\\\\\\\\\\\\\\"}}, \\\\\\\\\\\\\\\"typeProperty\\\\\\\\\\\\\\\": 3}, {\\\\\\\\\\\\\\\"column\\\\\\\\\\\\\\\": {\\\\\\\\\\\\\\\"type\\\\\\\\\\\\\\\": 2, \\\\\\\\\\\\\\\"details\\\\\\\\\\\\\\\": {\\\\\\\\\\\\\\\"selectedColumn\\\\\\\\\\\\\\\": \\\\\\\\\\\\\\\"14\\\\\\\\\\\\\\\"}}, \\\\\\\\\\\\\\\"typeProperty\\\\\\\\\\\\\\\": 3}, {\\\\\\\\\\\\\\\"column\\\\\\\\\\\\\\\": {\\\\\\\\\\\\\\\"type\\\\\\\\\\\\\\\": 2, \\\\\\\\\\\\\\\"details\\\\\\\\\\\\\\\": {\\\\\\\\\\\\\\\"selectedColumn\\\\\\\\\\\\\\\": \\\\\\\\\\\\\\\"15\\\\\\\\\\\\\\\"}}, \\\\\\\\\\\\\\\"typeProperty\\\\\\\\\\\\\\\": 3}, {\\\\\\\\\\\\\\\"column\\\\\\\\\\\\\\\": {\\\\\\\\\\\\\\\"type\\\\\\\\\\\\\\\": 2, \\\\\\\\\\\\\\\"details\\\\\\\\\\\\\\\": {\\\\\\\\\\\\\\\"selectedColumn\\\\\\\\\\\\\\\": \\\\\\\\\\\\\\\"16\\\\\\\\\\\\\\\"}}, \\\\\\\\\\\\\\\"typeProperty\\\\\\\\\\\\\\\": 3}, {\\\\\\\\\\\\\\\"column\\\\\\\\\\\\\\\": {\\\\\\\\\\\\\\\"type\\\\\\\\\\\\\\\": 2, \\\\\\\\\\\\\\\"details\\\\\\\\\\\\\\\": {\\\\\\\\\\\\\\\"selectedColumn\\\\\\\\\\\\\\\": \\\\\\\\\\\\\\\"17\\\\\\\\\\\\\\\"}}, \\\\\\\\\\\\\\\"typeProperty\\\\\\\\\\\\\\\": 3}, {\\\\\\\\\\\\\\\"column\\\\\\\\\\\\\\\": {\\\\\\\\\\\\\\\"type\\\\\\\\\\\\\\\": 2, \\\\\\\\\\\\\\\"details\\\\\\\\\\\\\\\": {\\\\\\\\\\\\\\\"selectedColumn\\\\\\\\\\\\\\\": \\\\\\\\\\\\\\\"18\\\\\\\\\\\\\\\"}}, \\\\\\\\\\\\\\\"typeProperty\\\\\\\\\\\\\\\": 3}, {\\\\\\\\\\\\\\\"column\\\\\\\\\\\\\\\": {\\\\\\\\\\\\\\\"type\\\\\\\\\\\\\\\": 2, \\\\\\\\\\\\\\\"details\\\\\\\\\\\\\\\": {\\\\\\\\\\\\\\\"selectedColumn\\\\\\\\\\\\\\\": \\\\\\\\\\\\\\\"19\\\\\\\\\\\\\\\"}}, \\\\\\\\\\\\\\\"typeProperty\\\\\\\\\\\\\\\": 3}, {\\\\\\\\\\\\\\\"column\\\\\\\\\\\\\\\": {\\\\\\\\\\\\\\\"type\\\\\\\\\\\\\\\": 2, \\\\\\\\\\\\\\\"details\\\\\\\\\\\\\\\": {\\\\\\\\\\\\\\\"selectedColumn\\\\\\\\\\\\\\\": \\\\\\\\\\\\\\\"20\\\\\\\\\\\\\\\"}}, \\\\\\\\\\\\\\\"typeProperty\\\\\\\\\\\\\\\": 3}, {\\\\\\\\\\\\\\\"column\\\\\\\\\\\\\\\": {\\\\\\\\\\\\\\\"type\\\\\\\\\\\\\\\": 2, \\\\\\\\\\\\\\\"details\\\\\\\\\\\\\\\": {\\\\\\\\\\\\\\\"selectedColumn\\\\\\\\\\\\\\\": \\\\\\\\\\\\\\\"21\\\\\\\\\\\\\\\"}}, \\\\\\\\\\\\\\\"typeProperty\\\\\\\\\\\\\\\": 3}, {\\\\\\\\\\\\\\\"column\\\\\\\\\\\\\\\": {\\\\\\\\\\\\\\\"type\\\\\\\\\\\\\\\": 2, \\\\\\\\\\\\\\\"details\\\\\\\\\\\\\\\": {\\\\\\\\\\\\\\\"selectedColumn\\\\\\\\\\\\\\\": \\\\\\\\\\\\\\\"22\\\\\\\\\\\\\\\"}}, \\\\\\\\\\\\\\\"typeProperty\\\\\\\\\\\\\\\": 3}, {\\\\\\\\\\\\\\\"column\\\\\\\\\\\\\\\": {\\\\\\\\\\\\\\\"type\\\\\\\\\\\\\\\": 2, \\\\\\\\\\\\\\\"details\\\\\\\\\\\\\\\": {\\\\\\\\\\\\\\\"selectedColumn\\\\\\\\\\\\\\\": \\\\\\\\\\\\\\\"23\\\\\\\\\\\\\\\"}}, \\\\\\\\\\\\\\\"typeProperty\\\\\\\\\\\\\\\": 3}, {\\\\\\\\\\\\\\\"column\\\\\\\\\\\\\\\": {\\\\\\\\\\\\\\\"type\\\\\\\\\\\\\\\": 2, \\\\\\\\\\\\\\\"details\\\\\\\\\\\\\\\": {\\\\\\\\\\\\\\\"selectedColumn\\\\\\\\\\\\\\\": \\\\\\\\\\\\\\\"24\\\\\\\\\\\\\\\"}}, \\\\\\\\\\\\\\\"typeProperty\\\\\\\\\\\\\\\": 3}, {\\\\\\\\\\\\\\\"column\\\\\\\\\\\\\\\": {\\\\\\\\\\\\\\\"type\\\\\\\\\\\\\\\": 2, \\\\\\\\\\\\\\\"details\\\\\\\\\\\\\\\": {\\\\\\\\\\\\\\\"selectedColumn\\\\\\\\\\\\\\\": \\\\\\\\\\\\\\\"25\\\\\\\\\\\\\\\"}}, \\\\\\\\\\\\\\\"typeProperty\\\\\\\\\\\\\\\": 3}, {\\\\\\\\\\\\\\\"column\\\\\\\\\\\\\\\": {\\\\\\\\\\\\\\\"type\\\\\\\\\\\\\\\": 2, \\\\\\\\\\\\\\\"details\\\\\\\\\\\\\\\": {\\\\\\\\\\\\\\\"selectedColumn\\\\\\\\\\\\\\\": \\\\\\\\\\\\\\\"26\\\\\\\\\\\\\\\"}}, \\\\\\\\\\\\\\\"typeProperty\\\\\\\\\\\\\\\": 3}, {\\\\\\\\\\\\\\\"column\\\\\\\\\\\\\\\": {\\\\\\\\\\\\\\\"type\\\\\\\\\\\\\\\": 2, \\\\\\\\\\\\\\\"details\\\\\\\\\\\\\\\": {\\\\\\\\\\\\\\\"selectedColumn\\\\\\\\\\\\\\\": \\\\\\\\\\\\\\\"27\\\\\\\\\\\\\\\"}}, \\\\\\\\\\\\\\\"typeProperty\\\\\\\\\\\\\\\": 3}, {\\\\\\\\\\\\\\\"column\\\\\\\\\\\\\\\": {\\\\\\\\\\\\\\\"type\\\\\\\\\\\\\\\": 2, \\\\\\\\\\\\\\\"details\\\\\\\\\\\\\\\": {\\\\\\\\\\\\\\\"selectedColumn\\\\\\\\\\\\\\\": \\\\\\\\\\\\\\\"28\\\\\\\\\\\\\\\"}}, \\\\\\\\\\\\\\\"typeProperty\\\\\\\\\\\\\\\": 3}, {\\\\\\\\\\\\\\\"column\\\\\\\\\\\\\\\": {\\\\\\\\\\\\\\\"type\\\\\\\\\\\\\\\": 2, \\\\\\\\\\\\\\\"details\\\\\\\\\\\\\\\": {\\\\\\\\\\\\\\\"selectedColumn\\\\\\\\\\\\\\\": \\\\\\\\\\\\\\\"29\\\\\\\\\\\\\\\"}}, \\\\\\\\\\\\\\\"typeProperty\\\\\\\\\\\\\\\": 3}, {\\\\\\\\\\\\\\\"column\\\\\\\\\\\\\\\": {\\\\\\\\\\\\\\\"type\\\\\\\\\\\\\\\": 2, \\\\\\\\\\\\\\\"details\\\\\\\\\\\\\\\": {\\\\\\\\\\\\\\\"selectedColumn\\\\\\\\\\\\\\\": \\\\\\\\\\\\\\\"30\\\\\\\\\\\\\\\"}}, \\\\\\\\\\\\\\\"typeProperty\\\\\\\\\\\\\\\": 3}, {\\\\\\\\\\\\\\\"column\\\\\\\\\\\\\\\": {\\\\\\\\\\\\\\\"type\\\\\\\\\\\\\\\": 2, \\\\\\\\\\\\\\\"details\\\\\\\\\\\\\\\": {\\\\\\\\\\\\\\\"selectedColumn\\\\\\\\\\\\\\\": \\\\\\\\\\\\\\\"31\\\\\\\\\\\\\\\"}}, \\\\\\\\\\\\\\\"typeProperty\\\\\\\\\\\\\\\": 3}, {\\\\\\\\\\\\\\\"column\\\\\\\\\\\\\\\": {\\\\\\\\\\\\\\\"type\\\\\\\\\\\\\\\": 2, \\\\\\\\\\\\\\\"details\\\\\\\\\\\\\\\": {\\\\\\\\\\\\\\\"selectedColumn\\\\\\\\\\\\\\\": \\\\\\\\\\\\\\\"32\\\\\\\\\\\\\\\"}}, \\\\\\\\\\\\\\\"typeProperty\\\\\\\\\\\\\\\": 3}, {\\\\\\\\\\\\\\\"column\\\\\\\\\\\\\\\": {\\\\\\\\\\\\\\\"type\\\\\\\\\\\\\\\": 2, \\\\\\\\\\\\\\\"details\\\\\\\\\\\\\\\": {\\\\\\\\\\\\\\\"selectedColumn\\\\\\\\\\\\\\\": \\\\\\\\\\\\\\\"33\\\\\\\\\\\\\\\"}}, \\\\\\\\\\\\\\\"typeProperty\\\\\\\\\\\\\\\": 3}, {\\\\\\\\\\\\\\\"column\\\\\\\\\\\\\\\": {\\\\\\\\\\\\\\\"type\\\\\\\\\\\\\\\": 2, \\\\\\\\\\\\\\\"details\\\\\\\\\\\\\\\": {\\\\\\\\\\\\\\\"selectedColumn\\\\\\\\\\\\\\\": \\\\\\\\\\\\\\\"34\\\\\\\\\\\\\\\"}}, \\\\\\\\\\\\\\\"typeProperty\\\\\\\\\\\\\\\": 3}, {\\\\\\\\\\\\\\\"column\\\\\\\\\\\\\\\": {\\\\\\\\\\\\\\\"type\\\\\\\\\\\\\\\": 2, \\\\\\\\\\\\\\\"details\\\\\\\\\\\\\\\": {\\\\\\\\\\\\\\\"selectedColumn\\\\\\\\\\\\\\\": \\\\\\\\\\\\\\\"35\\\\\\\\\\\\\\\"}}, \\\\\\\\\\\\\\\"typeProperty\\\\\\\\\\\\\\\": 3}, {\\\\\\\\\\\\\\\"column\\\\\\\\\\\\\\\": {\\\\\\\\\\\\\\\"type\\\\\\\\\\\\\\\": 2, \\\\\\\\\\\\\\\"details\\\\\\\\\\\\\\\": {\\\\\\\\\\\\\\\"selectedColumn\\\\\\\\\\\\\\\": \\\\\\\\\\\\\\\"36\\\\\\\\\\\\\\\"}}, \\\\\\\\\\\\\\\"typeProperty\\\\\\\\\\\\\\\": 3}, {\\\\\\\\\\\\\\\"column\\\\\\\\\\\\\\\": {\\\\\\\\\\\\\\\"type\\\\\\\\\\\\\\\": 2, \\\\\\\\\\\\\\\"details\\\\\\\\\\\\\\\": {\\\\\\\\\\\\\\\"selectedColumn\\\\\\\\\\\\\\\": \\\\\\\\\\\\\\\"37\\\\\\\\\\\\\\\"}}, \\\\\\\\\\\\\\\"typeProperty\\\\\\\\\\\\\\\": 3}, {\\\\\\\\\\\\\\\"column\\\\\\\\\\\\\\\": {\\\\\\\\\\\\\\\"type\\\\\\\\\\\\\\\": 2, \\\\\\\\\\\\\\\"details\\\\\\\\\\\\\\\": {\\\\\\\\\\\\\\\"selectedColumn\\\\\\\\\\\\\\\": \\\\\\\\\\\\\\\"38\\\\\\\\\\\\\\\"}}, \\\\\\\\\\\\\\\"typeProperty\\\\\\\\\\\\\\\": 3}, {\\\\\\\\\\\\\\\"column\\\\\\\\\\\\\\\": {\\\\\\\\\\\\\\\"type\\\\\\\\\\\\\\\": 2, \\\\\\\\\\\\\\\"details\\\\\\\\\\\\\\\": {\\\\\\\\\\\\\\\"selectedColumn\\\\\\\\\\\\\\\": \\\\\\\\\\\\\\\"39\\\\\\\\\\\\\\\"}}, \\\\\\\\\\\\\\\"typeProperty\\\\\\\\\\\\\\\": 3}, {\\\\\\\\\\\\\\\"column\\\\\\\\\\\\\\\": {\\\\\\\\\\\\\\\"type\\\\\\\\\\\\\\\": 2, \\\\\\\\\\\\\\\"details\\\\\\\\\\\\\\\": {\\\\\\\\\\\\\\\"selectedColumn\\\\\\\\\\\\\\\": \\\\\\\\\\\\\\\"40\\\\\\\\\\\\\\\"}}, \\\\\\\\\\\\\\\"typeProperty\\\\\\\\\\\\\\\": 3}, {\\\\\\\\\\\\\\\"column\\\\\\\\\\\\\\\": {\\\\\\\\\\\\\\\"type\\\\\\\\\\\\\\\": 2, \\\\\\\\\\\\\\\"details\\\\\\\\\\\\\\\": {\\\\\\\\\\\\\\\"selectedColumn\\\\\\\\\\\\\\\": \\\\\\\\\\\\\\\"41\\\\\\\\\\\\\\\"}}, \\\\\\\\\\\\\\\"typeProperty\\\\\\\\\\\\\\\": 3}, {\\\\\\\\\\\\\\\"column\\\\\\\\\\\\\\\": {\\\\\\\\\\\\\\\"type\\\\\\\\\\\\\\\": 2, \\\\\\\\\\\\\\\"details\\\\\\\\\\\\\\\": {\\\\\\\\\\\\\\\"selectedColumn\\\\\\\\\\\\\\\": \\\\\\\\\\\\\\\"42\\\\\\\\\\\\\\\"}}, \\\\\\\\\\\\\\\"typeProperty\\\\\\\\\\\\\\\": 3}, {\\\\\\\\\\\\\\\"column\\\\\\\\\\\\\\\": {\\\\\\\\\\\\\\\"type\\\\\\\\\\\\\\\": 2, \\\\\\\\\\\\\\\"details\\\\\\\\\\\\\\\": {\\\\\\\\\\\\\\\"selectedColumn\\\\\\\\\\\\\\\": \\\\\\\\\\\\\\\"43\\\\\\\\\\\\\\\"}}, \\\\\\\\\\\\\\\"typeProperty\\\\\\\\\\\\\\\": 3}, {\\\\\\\\\\\\\\\"column\\\\\\\\\\\\\\\": {\\\\\\\\\\\\\\\"type\\\\\\\\\\\\\\\": 2, \\\\\\\\\\\\\\\"details\\\\\\\\\\\\\\\": {\\\\\\\\\\\\\\\"selectedColumn\\\\\\\\\\\\\\\": \\\\\\\\\\\\\\\"44\\\\\\\\\\\\\\\"}}, \\\\\\\\\\\\\\\"typeProperty\\\\\\\\\\\\\\\": 3}, {\\\\\\\\\\\\\\\"column\\\\\\\\\\\\\\\": {\\\\\\\\\\\\\\\"type\\\\\\\\\\\\\\\": 2, \\\\\\\\\\\\\\\"details\\\\\\\\\\\\\\\": {\\\\\\\\\\\\\\\"selectedColumn\\\\\\\\\\\\\\\": \\\\\\\\\\\\\\\"45\\\\\\\\\\\\\\\"}}, \\\\\\\\\\\\\\\"typeProperty\\\\\\\\\\\\\\\": 3}, {\\\\\\\\\\\\\\\"column\\\\\\\\\\\\\\\": {\\\\\\\\\\\\\\\"type\\\\\\\\\\\\\\\": 2, \\\\\\\\\\\\\\\"details\\\\\\\\\\\\\\\": {\\\\\\\\\\\\\\\"selectedColumn\\\\\\\\\\\\\\\": \\\\\\\\\\\\\\\"46\\\\\\\\\\\\\\\"}}, \\\\\\\\\\\\\\\"typeProperty\\\\\\\\\\\\\\\": 3}, {\\\\\\\\\\\\\\\"column\\\\\\\\\\\\\\\": {\\\\\\\\\\\\\\\"type\\\\\\\\\\\\\\\": 2, \\\\\\\\\\\\\\\"details\\\\\\\\\\\\\\\": {\\\\\\\\\\\\\\\"selectedColumn\\\\\\\\\\\\\\\": \\\\\\\\\\\\\\\"47\\\\\\\\\\\\\\\"}}, \\\\\\\\\\\\\\\"typeProperty\\\\\\\\\\\\\\\": 3}, {\\\\\\\\\\\\\\\"column\\\\\\\\\\\\\\\": {\\\\\\\\\\\\\\\"type\\\\\\\\\\\\\\\": 2, \\\\\\\\\\\\\\\"details\\\\\\\\\\\\\\\": {\\\\\\\\\\\\\\\"selectedColumn\\\\\\\\\\\\\\\": \\\\\\\\\\\\\\\"48\\\\\\\\\\\\\\\"}}, \\\\\\\\\\\\\\\"typeProperty\\\\\\\\\\\\\\\": 3}, {\\\\\\\\\\\\\\\"column\\\\\\\\\\\\\\\": {\\\\\\\\\\\\\\\"type\\\\\\\\\\\\\\\": 2, \\\\\\\\\\\\\\\"details\\\\\\\\\\\\\\\": {\\\\\\\\\\\\\\\"selectedColumn\\\\\\\\\\\\\\\": \\\\\\\\\\\\\\\"49\\\\\\\\\\\\\\\"}}, \\\\\\\\\\\\\\\"typeProperty\\\\\\\\\\\\\\\": 3}, {\\\\\\\\\\\\\\\"column\\\\\\\\\\\\\\\": {\\\\\\\\\\\\\\\"type\\\\\\\\\\\\\\\": 2, \\\\\\\\\\\\\\\"details\\\\\\\\\\\\\\\": {\\\\\\\\\\\\\\\"selectedColumn\\\\\\\\\\\\\\\": \\\\\\\\\\\\\\\"50\\\\\\\\\\\\\\\"}}, \\\\\\\\\\\\\\\"typeProperty\\\\\\\\\\\\\\\": 3}, {\\\\\\\\\\\\\\\"column\\\\\\\\\\\\\\\": {\\\\\\\\\\\\\\\"type\\\\\\\\\\\\\\\": 2, \\\\\\\\\\\\\\\"details\\\\\\\\\\\\\\\": {\\\\\\\\\\\\\\\"selectedColumn\\\\\\\\\\\\\\\": \\\\\\\\\\\\\\\"51\\\\\\\\\\\\\\\"}}, \\\\\\\\\\\\\\\"typeProperty\\\\\\\\\\\\\\\": 3}, {\\\\\\\\\\\\\\\"column\\\\\\\\\\\\\\\": {\\\\\\\\\\\\\\\"type\\\\\\\\\\\\\\\": 2, \\\\\\\\\\\\\\\"details\\\\\\\\\\\\\\\": {\\\\\\\\\\\\\\\"selectedColumn\\\\\\\\\\\\\\\": \\\\\\\\\\\\\\\"52\\\\\\\\\\\\\\\"}}, \\\\\\\\\\\\\\\"typeProperty\\\\\\\\\\\\\\\": 3}, {\\\\\\\\\\\\\\\"column\\\\\\\\\\\\\\\": {\\\\\\\\\\\\\\\"type\\\\\\\\\\\\\\\": 2, \\\\\\\\\\\\\\\"details\\\\\\\\\\\\\\\": {\\\\\\\\\\\\\\\"selectedColumn\\\\\\\\\\\\\\\": \\\\\\\\\\\\\\\"53\\\\\\\\\\\\\\\"}}, \\\\\\\\\\\\\\\"typeProperty\\\\\\\\\\\\\\\": 3}, {\\\\\\\\\\\\\\\"column\\\\\\\\\\\\\\\": {\\\\\\\\\\\\\\\"type\\\\\\\\\\\\\\\": 2, \\\\\\\\\\\\\\\"details\\\\\\\\\\\\\\\": {\\\\\\\\\\\\\\\"selectedColumn\\\\\\\\\\\\\\\": \\\\\\\\\\\\\\\"54\\\\\\\\\\\\\\\"}}, \\\\\\\\\\\\\\\"typeProperty\\\\\\\\\\\\\\\": 3}, {\\\\\\\\\\\\\\\"column\\\\\\\\\\\\\\\": {\\\\\\\\\\\\\\\"type\\\\\\\\\\\\\\\": 2, \\\\\\\\\\\\\\\"details\\\\\\\\\\\\\\\": {\\\\\\\\\\\\\\\"selectedColumn\\\\\\\\\\\\\\\": \\\\\\\\\\\\\\\"55\\\\\\\\\\\\\\\"}}, \\\\\\\\\\\\\\\"typeProperty\\\\\\\\\\\\\\\": 3}, {\\\\\\\\\\\\\\\"column\\\\\\\\\\\\\\\": {\\\\\\\\\\\\\\\"type\\\\\\\\\\\\\\\": 2, \\\\\\\\\\\\\\\"details\\\\\\\\\\\\\\\": {\\\\\\\\\\\\\\\"selectedColumn\\\\\\\\\\\\\\\": \\\\\\\\\\\\\\\"56\\\\\\\\\\\\\\\"}}, \\\\\\\\\\\\\\\"typeProperty\\\\\\\\\\\\\\\": 3}, {\\\\\\\\\\\\\\\"column\\\\\\\\\\\\\\\": {\\\\\\\\\\\\\\\"type\\\\\\\\\\\\\\\": 2, \\\\\\\\\\\\\\\"details\\\\\\\\\\\\\\\": {\\\\\\\\\\\\\\\"selectedColumn\\\\\\\\\\\\\\\": \\\\\\\\\\\\\\\"57\\\\\\\\\\\\\\\"}}, \\\\\\\\\\\\\\\"typeProperty\\\\\\\\\\\\\\\": 3}, {\\\\\\\\\\\\\\\"column\\\\\\\\\\\\\\\": {\\\\\\\\\\\\\\\"type\\\\\\\\\\\\\\\": 2, \\\\\\\\\\\\\\\"details\\\\\\\\\\\\\\\": {\\\\\\\\\\\\\\\"selectedColumn\\\\\\\\\\\\\\\": \\\\\\\\\\\\\\\"58\\\\\\\\\\\\\\\"}}, \\\\\\\\\\\\\\\"typeProperty\\\\\\\\\\\\\\\": 3}, {\\\\\\\\\\\\\\\"column\\\\\\\\\\\\\\\": {\\\\\\\\\\\\\\\"type\\\\\\\\\\\\\\\": 2, \\\\\\\\\\\\\\\"details\\\\\\\\\\\\\\\": {\\\\\\\\\\\\\\\"selectedColumn\\\\\\\\\\\\\\\": \\\\\\\\\\\\\\\"59\\\\\\\\\\\\\\\"}}, \\\\\\\\\\\\\\\"typeProperty\\\\\\\\\\\\\\\": 3}, {\\\\\\\\\\\\\\\"column\\\\\\\\\\\\\\\": {\\\\\\\\\\\\\\\"type\\\\\\\\\\\\\\\": 2, \\\\\\\\\\\\\\\"details\\\\\\\\\\\\\\\": {\\\\\\\\\\\\\\\"selectedColumn\\\\\\\\\\\\\\\": \\\\\\\\\\\\\\\"60\\\\\\\\\\\\\\\"}}, \\\\\\\\\\\\\\\"typeProperty\\\\\\\\\\\\\\\": 3}, {\\\\\\\\\\\\\\\"column\\\\\\\\\\\\\\\": {\\\\\\\\\\\\\\\"type\\\\\\\\\\\\\\\": 2, \\\\\\\\\\\\\\\"details\\\\\\\\\\\\\\\": {\\\\\\\\\\\\\\\"selectedColumn\\\\\\\\\\\\\\\": \\\\\\\\\\\\\\\"61\\\\\\\\\\\\\\\"}}, \\\\\\\\\\\\\\\"typeProperty\\\\\\\\\\\\\\\": 3}, {\\\\\\\\\\\\\\\"column\\\\\\\\\\\\\\\": {\\\\\\\\\\\\\\\"type\\\\\\\\\\\\\\\": 2, \\\\\\\\\\\\\\\"details\\\\\\\\\\\\\\\": {\\\\\\\\\\\\\\\"selectedColumn\\\\\\\\\\\\\\\": \\\\\\\\\\\\\\\"62\\\\\\\\\\\\\\\"}}, \\\\\\\\\\\\\\\"typeProperty\\\\\\\\\\\\\\\": 3}, {\\\\\\\\\\\\\\\"column\\\\\\\\\\\\\\\": {\\\\\\\\\\\\\\\"type\\\\\\\\\\\\\\\": 2, \\\\\\\\\\\\\\\"details\\\\\\\\\\\\\\\": {\\\\\\\\\\\\\\\"selectedColumn\\\\\\\\\\\\\\\": \\\\\\\\\\\\\\\"63\\\\\\\\\\\\\\\"}}, \\\\\\\\\\\\\\\"typeProperty\\\\\\\\\\\\\\\": 3}, {\\\\\\\\\\\\\\\"column\\\\\\\\\\\\\\\": {\\\\\\\\\\\\\\\"type\\\\\\\\\\\\\\\": 2, \\\\\\\\\\\\\\\"details\\\\\\\\\\\\\\\": {\\\\\\\\\\\\\\\"selectedColumn\\\\\\\\\\\\\\\": \\\\\\\\\\\\\\\"digit\\\\\\\\\\\\\\\"}}, \\\\\\\\\\\\\\\"typeProperty\\\\\\\\\\\\\\\": 2}]}, \\\\\\\\\\\\\\\"localData\\\\\\\\\\\\\\\": {}, \\\\\\\\\\\\\\\"isEnabled\\\\\\\\\\\\\\\": true, \\\\\\\\\\\\\\\"name\\\\\\\\\\\\\\\": null, \\\\\\\\\\\\\\\"annotation\\\\\\\\\\\\\\\": null}], \\\\\\\\\\\\\\\"inspectors\\\\\\\\\\\\\\\": [], \\\\\\\\\\\\\\\"meta\\\\\\\\\\\\\\\": {\\\\\\\\\\\\\\\"savedDatasetId\\\\\\\\\\\\\\\": \\\\\\\\\\\\\\\"31599800-32fa-4e62-8e82-6db40de1b14c\\\\\\\\\\\\\\\", \\\\\\\\\\\\\\\"datasetType\\\\\\\\\\\\\\\": \\\\\\\\\\\\\\\"tabular\\\\\\\\\\\\\\\", \\\\\\\\\\\\\\\"subscriptionId\\\\\\\\\\\\\\\": \\\\\\\\\\\\\\\"48a74bb7-9950-4cc1-9caa-5d50f995cc55\\\\\\\\\\\\\\\", \\\\\\\\\\\\\\\"workspaceId\\\\\\\\\\\\\\\": \\\\\\\\\\\\\\\"a6f9de62-7c0f-4384-a419-cea848ef2099\\\\\\\\\\\\\\\", \\\\\\\\\\\\\\\"workspaceLocation\\\\\\\\\\\\\\\": \\\\\\\\\\\\\\\"southcentralus\\\\\\\\\\\\\\\"}}\\\\\\\", \\\\\\\"activities\\\\\\\": 0}\", \"EnableSubsampling\": null, \"runTemplate\": \"AutoML\", \"azureml.runsource\": \"automl\", \"display_task_type\": \"classification\", \"dependencies_versions\": \"{\\\"azureml-widgets\\\": \\\"1.20.0\\\", \\\"azureml-train\\\": \\\"1.20.0\\\", \\\"azureml-train-restclients-hyperdrive\\\": \\\"1.20.0\\\", \\\"azureml-train-core\\\": \\\"1.20.0\\\", \\\"azureml-train-automl\\\": \\\"1.20.0\\\", \\\"azureml-train-automl-runtime\\\": \\\"1.20.0\\\", \\\"azureml-train-automl-client\\\": \\\"1.20.0\\\", \\\"azureml-tensorboard\\\": \\\"1.20.0\\\", \\\"azureml-telemetry\\\": \\\"1.20.0\\\", \\\"azureml-sdk\\\": \\\"1.20.0\\\", \\\"azureml-samples\\\": \\\"0+unknown\\\", \\\"azureml-pipeline\\\": \\\"1.20.0\\\", \\\"azureml-pipeline-steps\\\": \\\"1.20.0\\\", \\\"azureml-pipeline-core\\\": \\\"1.20.0\\\", \\\"azureml-opendatasets\\\": \\\"1.20.0\\\", \\\"azureml-model-management-sdk\\\": \\\"1.0.1b6.post1\\\", \\\"azureml-mlflow\\\": \\\"1.20.0.post1\\\", \\\"azureml-interpret\\\": \\\"1.20.0\\\", \\\"azureml-explain-model\\\": \\\"1.20.0\\\", \\\"azureml-defaults\\\": \\\"1.20.0\\\", \\\"azureml-dataset-runtime\\\": \\\"1.20.0\\\", \\\"azureml-dataprep\\\": \\\"2.7.3\\\", \\\"azureml-dataprep-rslex\\\": \\\"1.5.0\\\", \\\"azureml-dataprep-native\\\": \\\"27.0.0\\\", \\\"azureml-datadrift\\\": \\\"1.20.0\\\", \\\"azureml-core\\\": \\\"1.20.0\\\", \\\"azureml-contrib-services\\\": \\\"1.20.0\\\", \\\"azureml-contrib-server\\\": \\\"1.20.0\\\", \\\"azureml-contrib-reinforcementlearning\\\": \\\"1.20.0\\\", \\\"azureml-contrib-pipeline-steps\\\": \\\"1.20.0\\\", \\\"azureml-contrib-notebook\\\": \\\"1.20.0\\\", \\\"azureml-contrib-interpret\\\": \\\"1.20.0\\\", \\\"azureml-contrib-gbdt\\\": \\\"1.20.0\\\", \\\"azureml-contrib-fairness\\\": \\\"1.20.0\\\", \\\"azureml-contrib-dataset\\\": \\\"1.20.0\\\", \\\"azureml-cli-common\\\": \\\"1.20.0\\\", \\\"azureml-automl-runtime\\\": \\\"1.20.0\\\", \\\"azureml-automl-core\\\": \\\"1.20.0\\\", \\\"azureml-accel-models\\\": \\\"1.20.0\\\"}\", \"_aml_system_scenario_identification\": \"Remote.Parent\", \"ClientType\": \"SDK\", \"environment_cpu_name\": \"AzureML-AutoML\", \"environment_cpu_label\": \"prod\", \"environment_gpu_name\": \"AzureML-AutoML-GPU\", \"environment_gpu_label\": \"prod\", \"root_attribution\": \"automl\", \"attribution\": \"AutoML\", \"Orchestrator\": \"AutoML\", \"CancelUri\": \"https://southcentralus.experiments.azureml.net/jasmine/v1.0/subscriptions/48a74bb7-9950-4cc1-9caa-5d50f995cc55/resourceGroups/aml-quickstarts-137788/providers/Microsoft.MachineLearningServices/workspaces/quick-starts-ws-137788/experimentids/c45ca53f-d6d0-419d-969f-82ff2703b2e9/cancel/AutoML_3d5d6ba0-f3ac-4b65-82f1-eebd553cf63b\", \"ClientSdkVersion\": \"1.21.0\", \"snapshotId\": \"00000000-0000-0000-0000-000000000000\", \"SetupRunId\": \"AutoML_3d5d6ba0-f3ac-4b65-82f1-eebd553cf63b_setup\", \"SetupRunContainerId\": \"dcid.AutoML_3d5d6ba0-f3ac-4b65-82f1-eebd553cf63b_setup\", \"FeaturizationRunJsonPath\": \"featurizer_container.json\", \"FeaturizationRunId\": \"AutoML_3d5d6ba0-f3ac-4b65-82f1-eebd553cf63b_featurize\", \"ProblemInfoJsonString\": \"{\\\"dataset_num_categorical\\\": 0, \\\"is_sparse\\\": false, \\\"subsampling\\\": false, \\\"dataset_classes\\\": 10, \\\"dataset_features\\\": 62, \\\"dataset_samples\\\": 1697, \\\"single_frequency_class_detected\\\": false}\", \"ModelExplainRunId\": \"AutoML_3d5d6ba0-f3ac-4b65-82f1-eebd553cf63b_ModelExplain\"}, \"tags\": {\"model_explain_run\": \"best_run\", \"_aml_system_azureml.automlComponent\": \"AutoML\", \"pipeline_id\": \"\", \"score\": \"\", \"predicted_cost\": \"\", \"fit_time\": \"\", \"training_percent\": \"\", \"iteration\": \"\", \"run_preprocessor\": \"\", \"run_algorithm\": \"\", \"dynamic_whitelisting_iterations\": \"<25>;<30>;<35>;<40>;<45>;<50>;<55>;\", \"automl_best_child_run_id\": \"AutoML_3d5d6ba0-f3ac-4b65-82f1-eebd553cf63b_56\"}, \"end_time_utc\": \"2021-02-07T10:08:21.804617Z\", \"status\": \"Completed\", \"log_files\": {}, \"log_groups\": [], \"run_duration\": \"0:31:03\"}, \"child_runs\": [{\"run_id\": \"AutoML_3d5d6ba0-f3ac-4b65-82f1-eebd553cf63b_1\", \"run_number\": 5, \"metric\": null, \"status\": \"Completed\", \"run_type\": \"azureml.scriptrun\", \"training_percent\": \"100\", \"start_time\": \"2021-02-07T09:47:56.81364Z\", \"end_time\": \"2021-02-07T09:50:39.265048Z\", \"created_time\": \"2021-02-07T09:45:18.543178Z\", \"created_time_dt\": \"2021-02-07T09:45:18.543178Z\", \"duration\": \"0:05:20\", \"iteration\": \"1\", \"goal\": \"AUC_weighted_max\", \"run_name\": \"MaxAbsScaler, XGBoostClassifier\", \"run_properties\": \"copy=True\", \"primary_metric\": 0.99912436, \"best_metric\": 0.99934055}, {\"run_id\": \"AutoML_3d5d6ba0-f3ac-4b65-82f1-eebd553cf63b_0\", \"run_number\": 6, \"metric\": null, \"status\": \"Completed\", \"run_type\": \"azureml.scriptrun\", \"training_percent\": \"100\", \"start_time\": \"2021-02-07T09:45:29.252413Z\", \"end_time\": \"2021-02-07T09:46:48.532599Z\", \"created_time\": \"2021-02-07T09:45:18.562783Z\", \"created_time_dt\": \"2021-02-07T09:45:18.562783Z\", \"duration\": \"0:01:29\", \"iteration\": \"0\", \"goal\": \"AUC_weighted_max\", \"run_name\": \"MaxAbsScaler, LightGBM\", \"run_properties\": \"copy=True\", \"primary_metric\": 0.99934055, \"best_metric\": 0.99934055}, {\"run_id\": \"AutoML_3d5d6ba0-f3ac-4b65-82f1-eebd553cf63b_2\", \"run_number\": 7, \"metric\": null, \"status\": \"Completed\", \"run_type\": \"azureml.scriptrun\", \"training_percent\": \"100\", \"start_time\": \"2021-02-07T09:48:05.281397Z\", \"end_time\": \"2021-02-07T09:50:39.588799Z\", \"created_time\": \"2021-02-07T09:45:18.570105Z\", \"created_time_dt\": \"2021-02-07T09:45:18.570105Z\", \"duration\": \"0:05:21\", \"iteration\": \"2\", \"goal\": \"AUC_weighted_max\", \"run_name\": \"MinMaxScaler, RandomForest\", \"run_properties\": \"copy=True, feature_range=(0, 1\", \"primary_metric\": 0.98589568, \"best_metric\": 0.99934055}, {\"run_id\": \"AutoML_3d5d6ba0-f3ac-4b65-82f1-eebd553cf63b_9\", \"run_number\": 8, \"metric\": null, \"status\": \"Completed\", \"run_type\": \"azureml.scriptrun\", \"training_percent\": \"100\", \"start_time\": \"2021-02-07T09:46:53.279222Z\", \"end_time\": \"2021-02-07T09:48:00.458539Z\", \"created_time\": \"2021-02-07T09:45:18.591046Z\", \"created_time_dt\": \"2021-02-07T09:45:18.591046Z\", \"duration\": \"0:02:41\", \"iteration\": \"9\", \"goal\": \"AUC_weighted_max\", \"run_name\": \"SparseNormalizer, KNN\", \"run_properties\": \"<azureml.automl.runtime.shared.model_wrappers.SparseNormalizer object at 0x7fb484aba550\", \"primary_metric\": 0.99864419, \"best_metric\": 0.99934055}, {\"run_id\": \"AutoML_3d5d6ba0-f3ac-4b65-82f1-eebd553cf63b_3\", \"run_number\": 9, \"metric\": null, \"status\": \"Completed\", \"run_type\": \"azureml.scriptrun\", \"training_percent\": \"100\", \"start_time\": \"2021-02-07T09:49:19.873126Z\", \"end_time\": \"2021-02-07T09:50:29.096508Z\", \"created_time\": \"2021-02-07T09:45:18.610402Z\", \"created_time_dt\": \"2021-02-07T09:45:18.610402Z\", \"duration\": \"0:05:10\", \"iteration\": \"3\", \"goal\": \"AUC_weighted_max\", \"run_name\": \"RobustScaler, ExtremeRandomTrees\", \"run_properties\": \"copy=True, quantile_range=[10, 90], with_centering=False,\\n             with_scaling=False\", \"primary_metric\": 0.99285616, \"best_metric\": 0.99934055}, {\"run_id\": \"AutoML_3d5d6ba0-f3ac-4b65-82f1-eebd553cf63b_4\", \"run_number\": 10, \"metric\": null, \"status\": \"Completed\", \"run_type\": \"azureml.scriptrun\", \"training_percent\": \"100\", \"start_time\": \"2021-02-07T09:48:04.589705Z\", \"end_time\": \"2021-02-07T09:50:38.186984Z\", \"created_time\": \"2021-02-07T09:45:18.69304Z\", \"created_time_dt\": \"2021-02-07T09:45:18.69304Z\", \"duration\": \"0:05:19\", \"iteration\": \"4\", \"goal\": \"AUC_weighted_max\", \"run_name\": \"MinMaxScaler, RandomForest\", \"run_properties\": \"copy=True, feature_range=(0, 1\", \"primary_metric\": 0.99510924, \"best_metric\": 0.99934055}, {\"run_id\": \"AutoML_3d5d6ba0-f3ac-4b65-82f1-eebd553cf63b_5\", \"run_number\": 11, \"metric\": null, \"status\": \"Completed\", \"run_type\": \"azureml.scriptrun\", \"training_percent\": \"100\", \"start_time\": \"2021-02-07T09:50:32.778019Z\", \"end_time\": \"2021-02-07T09:51:47.02194Z\", \"created_time\": \"2021-02-07T09:45:18.716348Z\", \"created_time_dt\": \"2021-02-07T09:45:18.716348Z\", \"duration\": \"0:06:28\", \"iteration\": \"5\", \"goal\": \"AUC_weighted_max\", \"run_name\": \"MinMaxScaler, RandomForest\", \"run_properties\": \"copy=True, feature_range=(0, 1\", \"primary_metric\": 0.98187275, \"best_metric\": 0.99934055}, {\"run_id\": \"AutoML_3d5d6ba0-f3ac-4b65-82f1-eebd553cf63b_6\", \"run_number\": 12, \"metric\": null, \"status\": \"Completed\", \"run_type\": \"azureml.scriptrun\", \"training_percent\": \"100\", \"start_time\": \"2021-02-07T09:48:02.519639Z\", \"end_time\": \"2021-02-07T09:49:13.311001Z\", \"created_time\": \"2021-02-07T09:45:18.761893Z\", \"created_time_dt\": \"2021-02-07T09:45:18.761893Z\", \"duration\": \"0:03:54\", \"iteration\": \"6\", \"goal\": \"AUC_weighted_max\", \"run_name\": \"StandardScalerWrapper, RandomForest\", \"run_properties\": \"<azureml.automl.runtime.shared.model_wrappers.StandardScalerWrapper object at 0x7fb3590d4550\", \"primary_metric\": 0.99486504, \"best_metric\": 0.99934055}, {\"run_id\": \"AutoML_3d5d6ba0-f3ac-4b65-82f1-eebd553cf63b_8\", \"run_number\": 13, \"metric\": null, \"status\": \"Completed\", \"run_type\": \"azureml.scriptrun\", \"training_percent\": \"100\", \"start_time\": \"2021-02-07T09:50:31.976178Z\", \"end_time\": \"2021-02-07T09:51:45.570712Z\", \"created_time\": \"2021-02-07T09:45:18.821242Z\", \"created_time_dt\": \"2021-02-07T09:45:18.821242Z\", \"duration\": \"0:06:26\", \"iteration\": \"8\", \"goal\": \"AUC_weighted_max\", \"run_name\": \"MinMaxScaler, ExtremeRandomTrees\", \"run_properties\": \"copy=True, feature_range=(0, 1\", \"primary_metric\": 0.99305485, \"best_metric\": 0.99934055}, {\"run_id\": \"AutoML_3d5d6ba0-f3ac-4b65-82f1-eebd553cf63b_7\", \"run_number\": 14, \"metric\": null, \"status\": \"Completed\", \"run_type\": \"azureml.scriptrun\", \"training_percent\": \"100\", \"start_time\": \"2021-02-07T09:48:02.343861Z\", \"end_time\": \"2021-02-07T09:50:34.017799Z\", \"created_time\": \"2021-02-07T09:45:18.859328Z\", \"created_time_dt\": \"2021-02-07T09:45:18.859328Z\", \"duration\": \"0:05:15\", \"iteration\": \"7\", \"goal\": \"AUC_weighted_max\", \"run_name\": \"MinMaxScaler, ExtremeRandomTrees\", \"run_properties\": \"copy=True, feature_range=(0, 1\", \"primary_metric\": 0.96515108, \"best_metric\": 0.99934055}, {\"run_id\": \"AutoML_3d5d6ba0-f3ac-4b65-82f1-eebd553cf63b_10\", \"run_number\": 15, \"metric\": null, \"status\": \"Completed\", \"run_type\": \"azureml.scriptrun\", \"training_percent\": \"100\", \"start_time\": \"2021-02-07T09:50:41.752053Z\", \"end_time\": \"2021-02-07T09:51:48.884853Z\", \"created_time\": \"2021-02-07T09:46:49.82519Z\", \"created_time_dt\": \"2021-02-07T09:46:49.82519Z\", \"duration\": \"0:04:59\", \"iteration\": \"10\", \"goal\": \"AUC_weighted_max\", \"run_name\": \"MinMaxScaler, ExtremeRandomTrees\", \"run_properties\": \"copy=True, feature_range=(0, 1\", \"primary_metric\": 0.98879661, \"best_metric\": 0.99934055}, {\"run_id\": \"AutoML_3d5d6ba0-f3ac-4b65-82f1-eebd553cf63b_11\", \"run_number\": 16, \"metric\": null, \"status\": \"Completed\", \"run_type\": \"azureml.scriptrun\", \"training_percent\": \"100\", \"start_time\": \"2021-02-07T09:52:24.165502Z\", \"end_time\": \"2021-02-07T09:53:36.450695Z\", \"created_time\": \"2021-02-07T09:48:04.836268Z\", \"created_time_dt\": \"2021-02-07T09:48:04.836268Z\", \"duration\": \"0:05:31\", \"iteration\": \"11\", \"goal\": \"AUC_weighted_max\", \"run_name\": \"RobustScaler, ExtremeRandomTrees\", \"run_properties\": \"copy=True, quantile_range=[10, 90], with_centering=True,\\n             with_scaling=False\", \"primary_metric\": 0.97667341, \"best_metric\": 0.99934055}, {\"run_id\": \"AutoML_3d5d6ba0-f3ac-4b65-82f1-eebd553cf63b_12\", \"run_number\": 17, \"metric\": null, \"status\": \"Completed\", \"run_type\": \"azureml.scriptrun\", \"training_percent\": \"100\", \"start_time\": \"2021-02-07T09:52:21.99274Z\", \"end_time\": \"2021-02-07T09:53:25.567908Z\", \"created_time\": \"2021-02-07T09:49:18.234484Z\", \"created_time_dt\": \"2021-02-07T09:49:18.234484Z\", \"duration\": \"0:04:07\", \"iteration\": \"12\", \"goal\": \"AUC_weighted_max\", \"run_name\": \"StandardScalerWrapper, RandomForest\", \"run_properties\": \"<azureml.automl.runtime.shared.model_wrappers.StandardScalerWrapper object at 0x7fca512fa4a8\", \"primary_metric\": 0.97425336, \"best_metric\": 0.99934055}, {\"run_id\": \"AutoML_3d5d6ba0-f3ac-4b65-82f1-eebd553cf63b_13\", \"run_number\": 18, \"metric\": null, \"status\": \"Completed\", \"run_type\": \"azureml.scriptrun\", \"training_percent\": \"100\", \"start_time\": \"2021-02-07T09:53:31.011685Z\", \"end_time\": \"2021-02-07T09:54:38.926681Z\", \"created_time\": \"2021-02-07T09:50:34.711404Z\", \"created_time_dt\": \"2021-02-07T09:50:34.711404Z\", \"duration\": \"0:04:04\", \"iteration\": \"13\", \"goal\": \"AUC_weighted_max\", \"run_name\": \"StandardScalerWrapper, SGD\", \"run_properties\": \"<azureml.automl.runtime.shared.model_wrappers.StandardScalerWrapper object at 0x7fe72c5a0d30\", \"primary_metric\": 0.99695247, \"best_metric\": 0.99934055}, {\"run_id\": \"AutoML_3d5d6ba0-f3ac-4b65-82f1-eebd553cf63b_14\", \"run_number\": 19, \"metric\": null, \"status\": \"Completed\", \"run_type\": \"azureml.scriptrun\", \"training_percent\": \"100\", \"start_time\": \"2021-02-07T09:53:39.128167Z\", \"end_time\": \"2021-02-07T09:54:54.216139Z\", \"created_time\": \"2021-02-07T09:50:42.105891Z\", \"created_time_dt\": \"2021-02-07T09:50:42.105891Z\", \"duration\": \"0:04:12\", \"iteration\": \"14\", \"goal\": \"AUC_weighted_max\", \"run_name\": \"RobustScaler, RandomForest\", \"run_properties\": \"copy=True, quantile_range=[10, 90], with_centering=True,\\n             with_scaling=False\", \"primary_metric\": 0.97663478, \"best_metric\": 0.99934055}, {\"run_id\": \"AutoML_3d5d6ba0-f3ac-4b65-82f1-eebd553cf63b_15\", \"run_number\": 20, \"metric\": null, \"status\": \"Completed\", \"run_type\": \"azureml.scriptrun\", \"training_percent\": \"100\", \"start_time\": \"2021-02-07T09:53:39.35997Z\", \"end_time\": \"2021-02-07T09:54:47.118826Z\", \"created_time\": \"2021-02-07T09:50:48.364353Z\", \"created_time_dt\": \"2021-02-07T09:50:48.364353Z\", \"duration\": \"0:03:58\", \"iteration\": \"15\", \"goal\": \"AUC_weighted_max\", \"run_name\": \"StandardScalerWrapper, KNN\", \"run_properties\": \"<azureml.automl.runtime.shared.model_wrappers.StandardScalerWrapper object at 0x7f3a3006dda0\", \"primary_metric\": 0.99785296, \"best_metric\": 0.99934055}, {\"run_id\": \"AutoML_3d5d6ba0-f3ac-4b65-82f1-eebd553cf63b_16\", \"run_number\": 21, \"metric\": null, \"status\": \"Completed\", \"run_type\": \"azureml.scriptrun\", \"training_percent\": \"100\", \"start_time\": \"2021-02-07T09:53:42.387169Z\", \"end_time\": \"2021-02-07T09:54:50.486415Z\", \"created_time\": \"2021-02-07T09:50:48.386794Z\", \"created_time_dt\": \"2021-02-07T09:50:48.386794Z\", \"duration\": \"0:04:02\", \"iteration\": \"16\", \"goal\": \"AUC_weighted_max\", \"run_name\": \"MinMaxScaler, RandomForest\", \"run_properties\": \"copy=True, feature_range=(0, 1\", \"primary_metric\": 0.98573675, \"best_metric\": 0.99934055}, {\"run_id\": \"AutoML_3d5d6ba0-f3ac-4b65-82f1-eebd553cf63b_17\", \"run_number\": 22, \"metric\": null, \"status\": \"Completed\", \"run_type\": \"azureml.scriptrun\", \"training_percent\": \"100\", \"start_time\": \"2021-02-07T09:54:03.015378Z\", \"end_time\": \"2021-02-07T09:55:09.465865Z\", \"created_time\": \"2021-02-07T09:50:48.415818Z\", \"created_time_dt\": \"2021-02-07T09:50:48.415818Z\", \"duration\": \"0:04:21\", \"iteration\": \"17\", \"goal\": \"AUC_weighted_max\", \"run_name\": \"MinMaxScaler, ExtremeRandomTrees\", \"run_properties\": \"copy=True, feature_range=(0, 1\", \"primary_metric\": 0.98686057, \"best_metric\": 0.99934055}, {\"run_id\": \"AutoML_3d5d6ba0-f3ac-4b65-82f1-eebd553cf63b_18\", \"run_number\": 23, \"metric\": null, \"status\": \"Completed\", \"run_type\": \"azureml.scriptrun\", \"training_percent\": \"100\", \"start_time\": \"2021-02-07T09:54:41.314991Z\", \"end_time\": \"2021-02-07T09:55:48.475009Z\", \"created_time\": \"2021-02-07T09:51:50.534252Z\", \"created_time_dt\": \"2021-02-07T09:51:50.534252Z\", \"duration\": \"0:03:57\", \"iteration\": \"18\", \"goal\": \"AUC_weighted_max\", \"run_name\": \"MaxAbsScaler, RandomForest\", \"run_properties\": \"copy=True\", \"primary_metric\": 0.98982138, \"best_metric\": 0.99934055}, {\"run_id\": \"AutoML_3d5d6ba0-f3ac-4b65-82f1-eebd553cf63b_19\", \"run_number\": 24, \"metric\": null, \"status\": \"Completed\", \"run_type\": \"azureml.scriptrun\", \"training_percent\": \"100\", \"start_time\": \"2021-02-07T09:54:53.683912Z\", \"end_time\": \"2021-02-07T09:56:07.918636Z\", \"created_time\": \"2021-02-07T09:51:57.458785Z\", \"created_time_dt\": \"2021-02-07T09:51:57.458785Z\", \"duration\": \"0:04:10\", \"iteration\": \"19\", \"goal\": \"AUC_weighted_max\", \"run_name\": \"StandardScalerWrapper, XGBoostClassifier\", \"run_properties\": \"<azureml.automl.runtime.shared.model_wrappers.StandardScalerWrapper object at 0x7fd9556d9a20\", \"primary_metric\": 0.99596261, \"best_metric\": 0.99934055}, {\"run_id\": \"AutoML_3d5d6ba0-f3ac-4b65-82f1-eebd553cf63b_20\", \"run_number\": 25, \"metric\": null, \"status\": \"Completed\", \"run_type\": \"azureml.scriptrun\", \"training_percent\": \"100\", \"start_time\": \"2021-02-07T09:54:48.340335Z\", \"end_time\": \"2021-02-07T09:55:55.091145Z\", \"created_time\": \"2021-02-07T09:51:57.49114Z\", \"created_time_dt\": \"2021-02-07T09:51:57.49114Z\", \"duration\": \"0:03:57\", \"iteration\": \"20\", \"goal\": \"AUC_weighted_max\", \"run_name\": \"MaxAbsScaler, RandomForest\", \"run_properties\": \"copy=True\", \"primary_metric\": 0.99180596, \"best_metric\": 0.99934055}, {\"run_id\": \"AutoML_3d5d6ba0-f3ac-4b65-82f1-eebd553cf63b_21\", \"run_number\": 26, \"metric\": null, \"status\": \"Completed\", \"run_type\": \"azureml.scriptrun\", \"training_percent\": \"100\", \"start_time\": \"2021-02-07T09:55:10.753049Z\", \"end_time\": \"2021-02-07T09:56:15.664907Z\", \"created_time\": \"2021-02-07T09:53:30.01096Z\", \"created_time_dt\": \"2021-02-07T09:53:30.01096Z\", \"duration\": \"0:02:45\", \"iteration\": \"21\", \"goal\": \"AUC_weighted_max\", \"run_name\": \"MaxAbsScaler, ExtremeRandomTrees\", \"run_properties\": \"copy=True\", \"primary_metric\": 0.97058031, \"best_metric\": 0.99934055}, {\"run_id\": \"AutoML_3d5d6ba0-f3ac-4b65-82f1-eebd553cf63b_22\", \"run_number\": 27, \"metric\": null, \"status\": \"Completed\", \"run_type\": \"azureml.scriptrun\", \"training_percent\": \"100\", \"start_time\": \"2021-02-07T09:55:49.170736Z\", \"end_time\": \"2021-02-07T09:56:57.674985Z\", \"created_time\": \"2021-02-07T09:53:41.142907Z\", \"created_time_dt\": \"2021-02-07T09:53:41.142907Z\", \"duration\": \"0:03:16\", \"iteration\": \"22\", \"goal\": \"AUC_weighted_max\", \"run_name\": \"MaxAbsScaler, ExtremeRandomTrees\", \"run_properties\": \"copy=True\", \"primary_metric\": 0.99482997, \"best_metric\": 0.99934055}, {\"run_id\": \"AutoML_3d5d6ba0-f3ac-4b65-82f1-eebd553cf63b_23\", \"run_number\": 28, \"metric\": null, \"status\": \"Completed\", \"run_type\": \"azureml.scriptrun\", \"training_percent\": \"100\", \"start_time\": \"2021-02-07T09:56:20.049222Z\", \"end_time\": \"2021-02-07T09:57:37.970984Z\", \"created_time\": \"2021-02-07T09:54:43.549018Z\", \"created_time_dt\": \"2021-02-07T09:54:43.549018Z\", \"duration\": \"0:02:54\", \"iteration\": \"23\", \"goal\": \"AUC_weighted_max\", \"run_name\": \"StandardScalerWrapper, SVM\", \"run_properties\": \"<azureml.automl.runtime.shared.model_wrappers.StandardScalerWrapper object at 0x7f44845a8908\", \"primary_metric\": 0.99956926, \"best_metric\": 0.99956926}, {\"run_id\": \"AutoML_3d5d6ba0-f3ac-4b65-82f1-eebd553cf63b_24\", \"run_number\": 29, \"metric\": null, \"status\": \"Completed\", \"run_type\": \"azureml.scriptrun\", \"training_percent\": \"100\", \"start_time\": \"2021-02-07T09:56:46.128186Z\", \"end_time\": \"2021-02-07T09:57:55.021689Z\", \"created_time\": \"2021-02-07T09:54:51.852872Z\", \"created_time_dt\": \"2021-02-07T09:54:51.852872Z\", \"duration\": \"0:03:03\", \"iteration\": \"24\", \"goal\": \"AUC_weighted_max\", \"run_name\": \"MaxAbsScaler, LightGBM\", \"run_properties\": \"copy=True\", \"primary_metric\": 0.998002, \"best_metric\": 0.99956926}, {\"run_id\": \"AutoML_3d5d6ba0-f3ac-4b65-82f1-eebd553cf63b_26\", \"run_number\": 30, \"metric\": null, \"status\": \"Completed\", \"run_type\": \"azureml.scriptrun\", \"training_percent\": \"100\", \"start_time\": \"2021-02-07T09:56:55.036577Z\", \"end_time\": \"2021-02-07T09:58:14.114468Z\", \"created_time\": \"2021-02-07T09:55:00.529138Z\", \"created_time_dt\": \"2021-02-07T09:55:00.529138Z\", \"duration\": \"0:03:13\", \"iteration\": \"26\", \"goal\": \"AUC_weighted_max\", \"run_name\": \"MinMaxScaler, SVM\", \"run_properties\": \"copy=True, feature_range=(0, 1\", \"primary_metric\": 0.99991908, \"best_metric\": 0.99991908}, {\"run_id\": \"AutoML_3d5d6ba0-f3ac-4b65-82f1-eebd553cf63b_25\", \"run_number\": 31, \"metric\": null, \"status\": \"Completed\", \"run_type\": \"azureml.scriptrun\", \"training_percent\": \"100\", \"start_time\": \"2021-02-07T09:56:48.615593Z\", \"end_time\": \"2021-02-07T09:58:03.96173Z\", \"created_time\": \"2021-02-07T09:55:00.568282Z\", \"created_time_dt\": \"2021-02-07T09:55:00.568282Z\", \"duration\": \"0:03:03\", \"iteration\": \"25\", \"goal\": \"AUC_weighted_max\", \"run_name\": \"SparseNormalizer, LightGBM\", \"run_properties\": \"<azureml.automl.runtime.shared.model_wrappers.SparseNormalizer object at 0x7fb0aea2d5c0\", \"primary_metric\": 0.985802, \"best_metric\": 0.99956926}, {\"run_id\": \"AutoML_3d5d6ba0-f3ac-4b65-82f1-eebd553cf63b_27\", \"run_number\": 32, \"metric\": null, \"status\": \"Completed\", \"run_type\": \"azureml.scriptrun\", \"training_percent\": \"100\", \"start_time\": \"2021-02-07T09:57:00.913776Z\", \"end_time\": \"2021-02-07T09:58:07.298972Z\", \"created_time\": \"2021-02-07T09:55:13.97033Z\", \"created_time_dt\": \"2021-02-07T09:55:13.97033Z\", \"duration\": \"0:02:53\", \"iteration\": \"27\", \"goal\": \"AUC_weighted_max\", \"run_name\": \"StandardScalerWrapper, SVM\", \"run_properties\": \"<azureml.automl.runtime.shared.model_wrappers.StandardScalerWrapper object at 0x7f07704ed438\", \"primary_metric\": 0.9995384, \"best_metric\": 0.99991908}, {\"run_id\": \"AutoML_3d5d6ba0-f3ac-4b65-82f1-eebd553cf63b_28\", \"run_number\": 33, \"metric\": null, \"status\": \"Completed\", \"run_type\": \"azureml.scriptrun\", \"training_percent\": \"100\", \"start_time\": \"2021-02-07T09:57:41.764072Z\", \"end_time\": \"2021-02-07T09:58:59.39585Z\", \"created_time\": \"2021-02-07T09:55:52.209089Z\", \"created_time_dt\": \"2021-02-07T09:55:52.209089Z\", \"duration\": \"0:03:07\", \"iteration\": \"28\", \"goal\": \"AUC_weighted_max\", \"run_name\": \"StandardScalerWrapper, SVM\", \"run_properties\": \"<azureml.automl.runtime.shared.model_wrappers.StandardScalerWrapper object at 0x7fd00434ac50\", \"primary_metric\": 0.99954799, \"best_metric\": 0.99991908}, {\"run_id\": \"AutoML_3d5d6ba0-f3ac-4b65-82f1-eebd553cf63b_29\", \"run_number\": 34, \"metric\": null, \"status\": \"Completed\", \"run_type\": \"azureml.scriptrun\", \"training_percent\": \"100\", \"start_time\": \"2021-02-07T09:58:00.666598Z\", \"end_time\": \"2021-02-07T09:59:17.583882Z\", \"created_time\": \"2021-02-07T09:55:57.495312Z\", \"created_time_dt\": \"2021-02-07T09:55:57.495312Z\", \"duration\": \"0:03:20\", \"iteration\": \"29\", \"goal\": \"AUC_weighted_max\", \"run_name\": \"RobustScaler, SVM\", \"run_properties\": \"copy=True, quantile_range=[10, 90], with_centering=False,\\n             with_scaling=True\", \"primary_metric\": 0.99951758, \"best_metric\": 0.99991908}, {\"run_id\": \"AutoML_3d5d6ba0-f3ac-4b65-82f1-eebd553cf63b_30\", \"run_number\": 35, \"metric\": null, \"status\": \"Completed\", \"run_type\": \"azureml.scriptrun\", \"training_percent\": \"100\", \"start_time\": \"2021-02-07T09:58:10.727909Z\", \"end_time\": \"2021-02-07T09:59:46.736327Z\", \"created_time\": \"2021-02-07T09:56:11.064613Z\", \"created_time_dt\": \"2021-02-07T09:56:11.064613Z\", \"duration\": \"0:03:35\", \"iteration\": \"30\", \"goal\": \"AUC_weighted_max\", \"run_name\": \"SparseNormalizer, LightGBM\", \"run_properties\": \"<azureml.automl.runtime.shared.model_wrappers.SparseNormalizer object at 0x7fc4737d1668\", \"primary_metric\": 0.99700205, \"best_metric\": 0.99991908}, {\"run_id\": \"AutoML_3d5d6ba0-f3ac-4b65-82f1-eebd553cf63b_31\", \"run_number\": 36, \"metric\": null, \"status\": \"Completed\", \"run_type\": \"azureml.scriptrun\", \"training_percent\": \"100\", \"start_time\": \"2021-02-07T09:58:18.018731Z\", \"end_time\": \"2021-02-07T09:59:23.54239Z\", \"created_time\": \"2021-02-07T09:56:18.680321Z\", \"created_time_dt\": \"2021-02-07T09:56:18.680321Z\", \"duration\": \"0:03:04\", \"iteration\": \"31\", \"goal\": \"AUC_weighted_max\", \"run_name\": \"MaxAbsScaler, KNN\", \"run_properties\": \"copy=True\", \"primary_metric\": 0.99877452, \"best_metric\": 0.99991908}, {\"run_id\": \"AutoML_3d5d6ba0-f3ac-4b65-82f1-eebd553cf63b_32\", \"run_number\": 37, \"metric\": null, \"status\": \"Completed\", \"run_type\": \"azureml.scriptrun\", \"training_percent\": \"100\", \"start_time\": \"2021-02-07T09:59:02.433715Z\", \"end_time\": \"2021-02-07T10:00:13.744341Z\", \"created_time\": \"2021-02-07T09:56:59.813084Z\", \"created_time_dt\": \"2021-02-07T09:56:59.813084Z\", \"duration\": \"0:03:13\", \"iteration\": \"32\", \"goal\": \"AUC_weighted_max\", \"run_name\": \"RobustScaler, KNN\", \"run_properties\": \"copy=True, quantile_range=[10, 90], with_centering=False,\\n             with_scaling=False\", \"primary_metric\": 0.99801229, \"best_metric\": 0.99991908}, {\"run_id\": \"AutoML_3d5d6ba0-f3ac-4b65-82f1-eebd553cf63b_33\", \"run_number\": 38, \"metric\": null, \"status\": \"Completed\", \"run_type\": \"azureml.scriptrun\", \"training_percent\": \"100\", \"start_time\": \"2021-02-07T09:59:44.440706Z\", \"end_time\": \"2021-02-07T10:00:55.806037Z\", \"created_time\": \"2021-02-07T09:57:39.987321Z\", \"created_time_dt\": \"2021-02-07T09:57:39.987321Z\", \"duration\": \"0:03:15\", \"iteration\": \"33\", \"goal\": \"AUC_weighted_max\", \"run_name\": \"RobustScaler, KNN\", \"run_properties\": \"copy=True, quantile_range=[10, 90], with_centering=True,\\n             with_scaling=False\", \"primary_metric\": 0.99543052, \"best_metric\": 0.99991908}, {\"run_id\": \"AutoML_3d5d6ba0-f3ac-4b65-82f1-eebd553cf63b_34\", \"run_number\": 39, \"metric\": null, \"status\": \"Completed\", \"run_type\": \"azureml.scriptrun\", \"training_percent\": \"100\", \"start_time\": \"2021-02-07T10:00:15.701363Z\", \"end_time\": \"2021-02-07T10:01:25.931509Z\", \"created_time\": \"2021-02-07T09:57:56.761431Z\", \"created_time_dt\": \"2021-02-07T09:57:56.761431Z\", \"duration\": \"0:03:29\", \"iteration\": \"34\", \"goal\": \"AUC_weighted_max\", \"run_name\": \"StandardScalerWrapper, KNN\", \"run_properties\": \"<azureml.automl.runtime.shared.model_wrappers.StandardScalerWrapper object at 0x7fd1b41d0860\", \"primary_metric\": 0.99682637, \"best_metric\": 0.99991908}, {\"run_id\": \"AutoML_3d5d6ba0-f3ac-4b65-82f1-eebd553cf63b_35\", \"run_number\": 40, \"metric\": null, \"status\": \"Completed\", \"run_type\": \"azureml.scriptrun\", \"training_percent\": \"100\", \"start_time\": \"2021-02-07T10:00:16.832333Z\", \"end_time\": \"2021-02-07T10:01:40.79919Z\", \"created_time\": \"2021-02-07T09:58:06.57623Z\", \"created_time_dt\": \"2021-02-07T09:58:06.57623Z\", \"duration\": \"0:03:34\", \"iteration\": \"35\", \"goal\": \"AUC_weighted_max\", \"run_name\": \"MaxAbsScaler, SVM\", \"run_properties\": \"copy=True\", \"primary_metric\": 0.01881138, \"best_metric\": 0.99991908}, {\"run_id\": \"AutoML_3d5d6ba0-f3ac-4b65-82f1-eebd553cf63b_36\", \"run_number\": 41, \"metric\": null, \"status\": \"Completed\", \"run_type\": \"azureml.scriptrun\", \"training_percent\": \"100\", \"start_time\": \"2021-02-07T10:00:21.957777Z\", \"end_time\": \"2021-02-07T10:01:35.935087Z\", \"created_time\": \"2021-02-07T09:58:09.816311Z\", \"created_time_dt\": \"2021-02-07T09:58:09.816311Z\", \"duration\": \"0:03:26\", \"iteration\": \"36\", \"goal\": \"AUC_weighted_max\", \"run_name\": \"RobustScaler, KNN\", \"run_properties\": \"copy=True, quantile_range=[10, 90], with_centering=True,\\n             with_scaling=False\", \"primary_metric\": 0.99585482, \"best_metric\": 0.99991908}, {\"run_id\": \"AutoML_3d5d6ba0-f3ac-4b65-82f1-eebd553cf63b_37\", \"run_number\": 42, \"metric\": null, \"status\": \"Completed\", \"run_type\": \"azureml.scriptrun\", \"training_percent\": \"100\", \"start_time\": \"2021-02-07T10:00:24.918707Z\", \"end_time\": \"2021-02-07T10:01:32.160843Z\", \"created_time\": \"2021-02-07T09:58:15.950023Z\", \"created_time_dt\": \"2021-02-07T09:58:15.950023Z\", \"duration\": \"0:03:16\", \"iteration\": \"37\", \"goal\": \"AUC_weighted_max\", \"run_name\": \"RobustScaler, SVM\", \"run_properties\": \"copy=True, quantile_range=[10, 90], with_centering=False,\\n             with_scaling=True\", \"primary_metric\": 0.99953101, \"best_metric\": 0.99991908}, {\"run_id\": \"AutoML_3d5d6ba0-f3ac-4b65-82f1-eebd553cf63b_38\", \"run_number\": 43, \"metric\": null, \"status\": \"Completed\", \"run_type\": \"azureml.scriptrun\", \"training_percent\": \"100\", \"start_time\": \"2021-02-07T10:01:00.55575Z\", \"end_time\": \"2021-02-07T10:02:10.766463Z\", \"created_time\": \"2021-02-07T09:59:01.677721Z\", \"created_time_dt\": \"2021-02-07T09:59:01.677721Z\", \"duration\": \"0:03:09\", \"iteration\": \"38\", \"goal\": \"AUC_weighted_max\", \"run_name\": \"TruncatedSVDWrapper, XGBoostClassifier\", \"run_properties\": \"n_components=0.6036842105263158, random_state=None\", \"primary_metric\": 0.99824208, \"best_metric\": 0.99991908}, {\"run_id\": \"AutoML_3d5d6ba0-f3ac-4b65-82f1-eebd553cf63b_39\", \"run_number\": 44, \"metric\": null, \"status\": \"Completed\", \"run_type\": \"azureml.scriptrun\", \"training_percent\": \"100\", \"start_time\": \"2021-02-07T10:01:29.940862Z\", \"end_time\": \"2021-02-07T10:02:43.007301Z\", \"created_time\": \"2021-02-07T09:59:19.301552Z\", \"created_time_dt\": \"2021-02-07T09:59:19.301552Z\", \"duration\": \"0:03:23\", \"iteration\": \"39\", \"goal\": \"AUC_weighted_max\", \"run_name\": \"RobustScaler, SVM\", \"run_properties\": \"copy=True, quantile_range=[25, 75], with_centering=True,\\n             with_scaling=True\", \"primary_metric\": 0.99945174, \"best_metric\": 0.99991908}, {\"run_id\": \"AutoML_3d5d6ba0-f3ac-4b65-82f1-eebd553cf63b_40\", \"run_number\": 45, \"metric\": null, \"status\": \"Completed\", \"run_type\": \"azureml.scriptrun\", \"training_percent\": \"100\", \"start_time\": \"2021-02-07T10:01:36.738908Z\", \"end_time\": \"2021-02-07T10:03:01.4907Z\", \"created_time\": \"2021-02-07T09:59:26.475681Z\", \"created_time_dt\": \"2021-02-07T09:59:26.475681Z\", \"duration\": \"0:03:35\", \"iteration\": \"40\", \"goal\": \"AUC_weighted_max\", \"run_name\": \"MinMaxScaler, SVM\", \"run_properties\": \"copy=True, feature_range=(0, 1\", \"primary_metric\": 0.04542102, \"best_metric\": 0.99991908}, {\"run_id\": \"AutoML_3d5d6ba0-f3ac-4b65-82f1-eebd553cf63b_41\", \"run_number\": 46, \"metric\": null, \"status\": \"Completed\", \"run_type\": \"azureml.scriptrun\", \"training_percent\": \"100\", \"start_time\": \"2021-02-07T10:01:39.793593Z\", \"end_time\": \"2021-02-07T10:03:01.97333Z\", \"created_time\": \"2021-02-07T09:59:48.509006Z\", \"created_time_dt\": \"2021-02-07T09:59:48.509006Z\", \"duration\": \"0:03:13\", \"iteration\": \"41\", \"goal\": \"AUC_weighted_max\", \"run_name\": \"TruncatedSVDWrapper, XGBoostClassifier\", \"run_properties\": \"n_components=0.9005263157894737, random_state=None\", \"primary_metric\": 0.99486306, \"best_metric\": 0.99991908}, {\"run_id\": \"AutoML_3d5d6ba0-f3ac-4b65-82f1-eebd553cf63b_42\", \"run_number\": 47, \"metric\": null, \"status\": \"Completed\", \"run_type\": \"azureml.scriptrun\", \"training_percent\": \"100\", \"start_time\": \"2021-02-07T10:02:15.468924Z\", \"end_time\": \"2021-02-07T10:03:31.313779Z\", \"created_time\": \"2021-02-07T10:00:15.552082Z\", \"created_time_dt\": \"2021-02-07T10:00:15.552082Z\", \"duration\": \"0:03:15\", \"iteration\": \"42\", \"goal\": \"AUC_weighted_max\", \"run_name\": \"RobustScaler, SVM\", \"run_properties\": \"copy=True, quantile_range=[10, 90], with_centering=True,\\n             with_scaling=True\", \"primary_metric\": 0.99949629, \"best_metric\": 0.99991908}, {\"run_id\": \"AutoML_3d5d6ba0-f3ac-4b65-82f1-eebd553cf63b_43\", \"run_number\": 48, \"metric\": null, \"status\": \"Completed\", \"run_type\": \"azureml.scriptrun\", \"training_percent\": \"100\", \"start_time\": \"2021-02-07T10:03:07.596989Z\", \"end_time\": \"2021-02-07T10:04:31.288516Z\", \"created_time\": \"2021-02-07T10:00:58.201202Z\", \"created_time_dt\": \"2021-02-07T10:00:58.201202Z\", \"duration\": \"0:03:33\", \"iteration\": \"43\", \"goal\": \"AUC_weighted_max\", \"run_name\": \"SparseNormalizer, XGBoostClassifier\", \"run_properties\": \"<azureml.automl.runtime.shared.model_wrappers.SparseNormalizer object at 0x7f3c947b2ef0\", \"primary_metric\": 0.99765726, \"best_metric\": 0.99991908}, {\"run_id\": \"AutoML_3d5d6ba0-f3ac-4b65-82f1-eebd553cf63b_44\", \"run_number\": 49, \"metric\": null, \"status\": \"Completed\", \"run_type\": \"azureml.scriptrun\", \"training_percent\": \"100\", \"start_time\": \"2021-02-07T10:03:32.521272Z\", \"end_time\": \"2021-02-07T10:04:38.477169Z\", \"created_time\": \"2021-02-07T10:01:28.283407Z\", \"created_time_dt\": \"2021-02-07T10:01:28.283407Z\", \"duration\": \"0:03:10\", \"iteration\": \"44\", \"goal\": \"AUC_weighted_max\", \"run_name\": \"RobustScaler, SVM\", \"run_properties\": \"copy=True, quantile_range=[10, 90], with_centering=False,\\n             with_scaling=True\", \"primary_metric\": 0.99950791, \"best_metric\": 0.99991908}, {\"run_id\": \"AutoML_3d5d6ba0-f3ac-4b65-82f1-eebd553cf63b_45\", \"run_number\": 50, \"metric\": null, \"status\": \"Completed\", \"run_type\": \"azureml.scriptrun\", \"training_percent\": \"100\", \"start_time\": \"2021-02-07T10:03:54.216116Z\", \"end_time\": \"2021-02-07T10:05:09.07573Z\", \"created_time\": \"2021-02-07T10:01:35.526254Z\", \"created_time_dt\": \"2021-02-07T10:01:35.526254Z\", \"duration\": \"0:03:33\", \"iteration\": \"45\", \"goal\": \"AUC_weighted_max\", \"run_name\": \"PCA, SVM\", \"run_properties\": \"copy=True, iterated_power='auto', n_components=0.8015789473684211,\\n    random_state=None, svd_solver='auto', tol=0.0, whiten=True\", \"primary_metric\": 0.56004085, \"best_metric\": 0.99991908}, {\"run_id\": \"AutoML_3d5d6ba0-f3ac-4b65-82f1-eebd553cf63b_46\", \"run_number\": 51, \"metric\": null, \"status\": \"Completed\", \"run_type\": \"azureml.scriptrun\", \"training_percent\": \"100\", \"start_time\": \"2021-02-07T10:04:09.120431Z\", \"end_time\": \"2021-02-07T10:05:22.01701Z\", \"created_time\": \"2021-02-07T10:01:40.858726Z\", \"created_time_dt\": \"2021-02-07T10:01:40.858726Z\", \"duration\": \"0:03:41\", \"iteration\": \"46\", \"goal\": \"AUC_weighted_max\", \"run_name\": \"RobustScaler, SVM\", \"run_properties\": \"copy=True, quantile_range=[25, 75], with_centering=True,\\n             with_scaling=True\", \"primary_metric\": 0.99944038, \"best_metric\": 0.99991908}, {\"run_id\": \"AutoML_3d5d6ba0-f3ac-4b65-82f1-eebd553cf63b_47\", \"run_number\": 52, \"metric\": null, \"status\": \"Canceled\", \"run_type\": \"azureml.scriptrun\", \"training_percent\": \"100\", \"start_time\": \"2021-02-07T10:04:31.884853Z\", \"end_time\": \"2021-02-07T10:05:32.371826Z\", \"created_time\": \"2021-02-07T10:01:44.058054Z\", \"created_time_dt\": \"2021-02-07T10:01:44.058054Z\", \"duration\": \"0:03:48\", \"iteration\": \"47\", \"goal\": \"AUC_weighted_max\", \"run_name\": \"MinMaxScaler, SVM\", \"run_properties\": \"copy=True, feature_range=(0, 1\", \"primary_metric\": 0.99992292, \"best_metric\": 0.99992292}, {\"run_id\": \"AutoML_3d5d6ba0-f3ac-4b65-82f1-eebd553cf63b_48\", \"run_number\": 53, \"metric\": null, \"status\": \"Canceled\", \"run_type\": \"azureml.scriptrun\", \"training_percent\": \"100\", \"start_time\": \"2021-02-07T10:04:45.814137Z\", \"end_time\": \"2021-02-07T10:05:29.074472Z\", \"created_time\": \"2021-02-07T10:02:12.55055Z\", \"created_time_dt\": \"2021-02-07T10:02:12.55055Z\", \"duration\": \"0:03:16\", \"iteration\": \"48\", \"goal\": null, \"run_name\": \"StandardScalerWrapper, SVM\", \"run_properties\": null}, {\"run_id\": \"AutoML_3d5d6ba0-f3ac-4b65-82f1-eebd553cf63b_49\", \"run_number\": 54, \"metric\": null, \"status\": \"Canceled\", \"run_type\": \"azureml.scriptrun\", \"training_percent\": \"100\", \"start_time\": \"2021-02-07T10:04:41.842842Z\", \"end_time\": \"2021-02-07T10:05:29.653463Z\", \"created_time\": \"2021-02-07T10:02:44.686841Z\", \"created_time_dt\": \"2021-02-07T10:02:44.686841Z\", \"duration\": \"0:02:44\", \"iteration\": \"49\", \"goal\": null, \"run_name\": \"TruncatedSVDWrapper, XGBoostClassifier\", \"run_properties\": null}, {\"run_id\": \"AutoML_3d5d6ba0-f3ac-4b65-82f1-eebd553cf63b_50\", \"run_number\": 55, \"metric\": null, \"status\": \"Canceled\", \"run_type\": \"azureml.scriptrun\", \"training_percent\": \"100\", \"start_time\": \"2021-02-07T10:05:22.937617Z\", \"end_time\": \"2021-02-07T10:05:32.687234Z\", \"created_time\": \"2021-02-07T10:03:04.477582Z\", \"created_time_dt\": \"2021-02-07T10:03:04.477582Z\", \"duration\": \"0:02:28\", \"iteration\": \"50\", \"goal\": null, \"run_name\": \"Canceled\", \"run_properties\": null}, {\"run_id\": \"AutoML_3d5d6ba0-f3ac-4b65-82f1-eebd553cf63b_51\", \"run_number\": 56, \"metric\": null, \"status\": \"Canceled\", \"run_type\": \"azureml.scriptrun\", \"training_percent\": \"100\", \"start_time\": \"2021-02-07T10:05:12.742163Z\", \"end_time\": \"2021-02-07T10:05:30.529914Z\", \"created_time\": \"2021-02-07T10:03:04.492872Z\", \"created_time_dt\": \"2021-02-07T10:03:04.492872Z\", \"duration\": \"0:02:26\", \"iteration\": \"51\", \"goal\": null, \"run_name\": \"Canceled\", \"run_properties\": null}, {\"run_id\": \"AutoML_3d5d6ba0-f3ac-4b65-82f1-eebd553cf63b_52\", \"run_number\": 57, \"metric\": null, \"status\": \"Canceled\", \"run_type\": \"azureml.scriptrun\", \"training_percent\": \"100\", \"start_time\": \"2021-02-07T10:03:33.664778Z\", \"end_time\": \"2021-02-07T10:05:32.528962Z\", \"created_time\": \"2021-02-07T10:03:33.664778Z\", \"created_time_dt\": \"2021-02-07T10:03:33.664778Z\", \"duration\": \"0:01:58\", \"iteration\": \"52\", \"goal\": null, \"run_name\": \"Canceled\", \"run_properties\": null}, {\"run_id\": \"AutoML_3d5d6ba0-f3ac-4b65-82f1-eebd553cf63b_53\", \"run_number\": 58, \"metric\": null, \"status\": \"Canceled\", \"run_type\": \"azureml.scriptrun\", \"training_percent\": \"100\", \"start_time\": \"2021-02-07T10:04:34.812258Z\", \"end_time\": \"2021-02-07T10:05:31.234629Z\", \"created_time\": \"2021-02-07T10:04:34.812258Z\", \"created_time_dt\": \"2021-02-07T10:04:34.812258Z\", \"duration\": \"0:00:56\", \"iteration\": \"53\", \"goal\": null, \"run_name\": \"Canceled\", \"run_properties\": null}, {\"run_id\": \"AutoML_3d5d6ba0-f3ac-4b65-82f1-eebd553cf63b_54\", \"run_number\": 59, \"metric\": null, \"status\": \"Canceled\", \"run_type\": \"azureml.scriptrun\", \"training_percent\": \"100\", \"start_time\": \"2021-02-07T10:04:41.989617Z\", \"end_time\": \"2021-02-07T10:05:30.219687Z\", \"created_time\": \"2021-02-07T10:04:41.989617Z\", \"created_time_dt\": \"2021-02-07T10:04:41.989617Z\", \"duration\": \"0:00:48\", \"iteration\": \"54\", \"goal\": null, \"run_name\": \"Canceled\", \"run_properties\": null}, {\"run_id\": \"AutoML_3d5d6ba0-f3ac-4b65-82f1-eebd553cf63b_55\", \"run_number\": 60, \"metric\": null, \"status\": \"Canceled\", \"run_type\": \"azureml.scriptrun\", \"training_percent\": \"100\", \"start_time\": \"2021-02-07T10:05:11.934611Z\", \"end_time\": \"2021-02-07T10:05:29.513954Z\", \"created_time\": \"2021-02-07T10:05:11.934611Z\", \"created_time_dt\": \"2021-02-07T10:05:11.934611Z\", \"duration\": \"0:00:17\", \"iteration\": \"55\", \"goal\": null, \"run_name\": \"Canceled\", \"run_properties\": null}, {\"run_id\": \"AutoML_3d5d6ba0-f3ac-4b65-82f1-eebd553cf63b_57\", \"run_number\": 61, \"metric\": null, \"status\": \"Completed\", \"run_type\": \"azureml.scriptrun\", \"training_percent\": \"100\", \"start_time\": \"2021-02-07T10:05:45.650066Z\", \"end_time\": \"2021-02-07T10:08:10.514342Z\", \"created_time\": \"2021-02-07T10:05:33.863986Z\", \"created_time_dt\": \"2021-02-07T10:05:33.863986Z\", \"duration\": \"0:02:36\", \"iteration\": \"57\", \"goal\": \"AUC_weighted_max\", \"run_name\": \"StackEnsemble\", \"run_properties\": \"base_learners=[('47',\\n                                        Pipeline(memory=None,\\n                                                 steps=[('minmaxscaler',\\n                                                         MinMaxScaler(copy=True,\\n                                                                      feature_range=(0,\\n                                                                                     1\", \"primary_metric\": 0.99991112, \"best_metric\": 0.99993625}, {\"run_id\": \"AutoML_3d5d6ba0-f3ac-4b65-82f1-eebd553cf63b_56\", \"run_number\": 62, \"metric\": null, \"status\": \"Completed\", \"run_type\": \"azureml.scriptrun\", \"training_percent\": \"100\", \"start_time\": \"2021-02-07T10:05:45.807852Z\", \"end_time\": \"2021-02-07T10:07:45.840825Z\", \"created_time\": \"2021-02-07T10:05:33.879447Z\", \"created_time_dt\": \"2021-02-07T10:05:33.879447Z\", \"duration\": \"0:02:11\", \"iteration\": \"56\", \"goal\": \"AUC_weighted_max\", \"run_name\": \"VotingEnsemble\", \"run_properties\": \"classification_labels=None,\\n                              estimators=[('47',\\n                                           Pipeline(memory=None,\\n                                                    steps=[('minmaxscaler',\\n                                                            MinMaxScaler(copy=True,\\n                                                                         feature_range=(0,\\n                                                                                        1\", \"primary_metric\": 0.99993625, \"best_metric\": 0.99993625}], \"children_metrics\": {\"categories\": [0], \"series\": {\"matthews_correlation\": [{\"categories\": [\"0\", \"1\", \"2\", \"3\", \"4\", \"5\", \"6\", \"7\", \"8\", \"9\", \"10\", \"11\", \"12\", \"13\", \"14\", \"15\", \"16\", \"17\", \"18\", \"19\", \"20\", \"21\", \"22\", \"23\", \"24\", \"25\", \"26\", \"27\", \"28\", \"29\", \"30\", \"31\", \"32\", \"33\", \"34\", \"35\", \"36\", \"37\", \"38\", \"39\", \"40\", \"41\", \"42\", \"43\", \"44\", \"45\", \"46\", \"47\", \"56\", \"57\"], \"mode\": \"markers\", \"name\": \"matthews_correlation\", \"stepped\": false, \"type\": \"scatter\", \"data\": [0.9686214024174216, 0.9621291233116306, 0.8524381593332876, 0.9075034357630276, 0.9203155618748914, 0.8354273190207667, 0.9137256938783608, 0.7531802465044939, 0.9047086162889393, 0.9614915499435636, 0.8737772351256263, 0.7975041392606131, 0.8006185949022907, 0.9515883652636035, 0.8262387009854997, 0.945947522555989, 0.8614679605327789, 0.8712938245902924, 0.8878848757806356, 0.9223413572426826, 0.892861881410437, 0.7635465078179392, 0.9313910418997153, 0.9817069387306804, 0.9399874637112507, 0.8340685017006647, 0.9915027404490988, 0.9830050679954875, 0.9836622685875505, 0.9790821188056962, 0.9307442755973894, 0.98103690912598, 0.9466205624007553, 0.9199904101527935, 0.9329941807592552, -0.09493771960922999, 0.9277482027357736, 0.9790828951955557, 0.9548659379710418, 0.9771000440882999, 0.0002887285660196534, 0.9182119133660063, 0.9771073489819807, 0.9392469837795195, 0.9784213054396156, 0.0, 0.977102295525188, 0.9921536786142783, 0.9928064643264939, 0.9888784208744127]}, {\"categories\": [\"0\", \"1\", \"2\", \"3\", \"4\", \"5\", \"6\", \"7\", \"8\", \"9\", \"10\", \"11\", \"12\", \"13\", \"14\", \"15\", \"16\", \"17\", \"18\", \"19\", \"20\", \"21\", \"22\", \"23\", \"24\", \"25\", \"26\", \"27\", \"28\", \"29\", \"30\", \"31\", \"32\", \"33\", \"34\", \"35\", \"36\", \"37\", \"38\", \"39\", \"40\", \"41\", \"42\", \"43\", \"44\", \"45\", \"46\", \"47\", \"56\", \"57\"], \"mode\": \"lines\", \"name\": \"matthews_correlation_max\", \"stepped\": true, \"type\": \"scatter\", \"data\": [0.9686214024174216, 0.9686214024174216, 0.9686214024174216, 0.9686214024174216, 0.9686214024174216, 0.9686214024174216, 0.9686214024174216, 0.9686214024174216, 0.9686214024174216, 0.9686214024174216, 0.9686214024174216, 0.9686214024174216, 0.9686214024174216, 0.9686214024174216, 0.9686214024174216, 0.9686214024174216, 0.9686214024174216, 0.9686214024174216, 0.9686214024174216, 0.9686214024174216, 0.9686214024174216, 0.9686214024174216, 0.9686214024174216, 0.9817069387306804, 0.9817069387306804, 0.9817069387306804, 0.9915027404490988, 0.9915027404490988, 0.9915027404490988, 0.9915027404490988, 0.9915027404490988, 0.9915027404490988, 0.9915027404490988, 0.9915027404490988, 0.9915027404490988, 0.9915027404490988, 0.9915027404490988, 0.9915027404490988, 0.9915027404490988, 0.9915027404490988, 0.9915027404490988, 0.9915027404490988, 0.9915027404490988, 0.9915027404490988, 0.9915027404490988, 0.9915027404490988, 0.9915027404490988, 0.9921536786142783, 0.9928064643264939, 0.9928064643264939]}], \"average_precision_score_weighted\": [{\"categories\": [\"0\", \"1\", \"2\", \"3\", \"4\", \"5\", \"6\", \"7\", \"8\", \"9\", \"10\", \"11\", \"12\", \"13\", \"14\", \"15\", \"16\", \"17\", \"18\", \"19\", \"20\", \"21\", \"22\", \"23\", \"24\", \"25\", \"26\", \"27\", \"28\", \"29\", \"30\", \"31\", \"32\", \"33\", \"34\", \"35\", \"36\", \"37\", \"38\", \"39\", \"40\", \"41\", \"42\", \"43\", \"44\", \"45\", \"46\", \"47\", \"56\", \"57\"], \"mode\": \"markers\", \"name\": \"average_precision_score_weighted\", \"stepped\": false, \"type\": \"scatter\", \"data\": [0.995993474196436, 0.9947486543539463, 0.932386374650856, 0.9637927550222993, 0.9732743769493404, 0.9155197273896555, 0.9728189636733413, 0.8525005506268306, 0.9620548142230387, 0.9928194107775014, 0.9421441648144817, 0.8954193374076931, 0.8891450007824332, 0.9863495147314932, 0.8978351179118185, 0.9865355930876516, 0.9320258669754937, 0.9354916429174519, 0.9490900725868208, 0.975120272321572, 0.9568619217521934, 0.8659956449825108, 0.9726041673516648, 0.9973686456809163, 0.9872723432079956, 0.9233637651413076, 0.9994330956609196, 0.9972740246783902, 0.997317004389199, 0.9971550201276791, 0.9787309749971443, 0.9957193571845329, 0.9875839845357817, 0.9737317064420402, 0.9816055903866261, 0.054706788045284706, 0.9763337430563434, 0.9972267519367317, 0.9882345047294546, 0.9965404920923928, 0.05579145190559855, 0.9711190327483601, 0.9970680604488324, 0.9845411227407782, 0.9970362103916383, 0.1360781776994746, 0.9964990297098314, 0.9994592420090326, 0.9995133018064548, 0.9993357383666149]}, {\"categories\": [\"0\", \"1\", \"2\", \"3\", \"4\", \"5\", \"6\", \"7\", \"8\", \"9\", \"10\", \"11\", \"12\", \"13\", \"14\", \"15\", \"16\", \"17\", \"18\", \"19\", \"20\", \"21\", \"22\", \"23\", \"24\", \"25\", \"26\", \"27\", \"28\", \"29\", \"30\", \"31\", \"32\", \"33\", \"34\", \"35\", \"36\", \"37\", \"38\", \"39\", \"40\", \"41\", \"42\", \"43\", \"44\", \"45\", \"46\", \"47\", \"56\", \"57\"], \"mode\": \"lines\", \"name\": \"average_precision_score_weighted_max\", \"stepped\": true, \"type\": \"scatter\", \"data\": [0.995993474196436, 0.995993474196436, 0.995993474196436, 0.995993474196436, 0.995993474196436, 0.995993474196436, 0.995993474196436, 0.995993474196436, 0.995993474196436, 0.995993474196436, 0.995993474196436, 0.995993474196436, 0.995993474196436, 0.995993474196436, 0.995993474196436, 0.995993474196436, 0.995993474196436, 0.995993474196436, 0.995993474196436, 0.995993474196436, 0.995993474196436, 0.995993474196436, 0.995993474196436, 0.9973686456809163, 0.9973686456809163, 0.9973686456809163, 0.9994330956609196, 0.9994330956609196, 0.9994330956609196, 0.9994330956609196, 0.9994330956609196, 0.9994330956609196, 0.9994330956609196, 0.9994330956609196, 0.9994330956609196, 0.9994330956609196, 0.9994330956609196, 0.9994330956609196, 0.9994330956609196, 0.9994330956609196, 0.9994330956609196, 0.9994330956609196, 0.9994330956609196, 0.9994330956609196, 0.9994330956609196, 0.9994330956609196, 0.9994330956609196, 0.9994592420090326, 0.9995133018064548, 0.9995133018064548]}], \"AUC_micro\": [{\"categories\": [\"0\", \"1\", \"2\", \"3\", \"4\", \"5\", \"6\", \"7\", \"8\", \"9\", \"10\", \"11\", \"12\", \"13\", \"14\", \"15\", \"16\", \"17\", \"18\", \"19\", \"20\", \"21\", \"22\", \"23\", \"24\", \"25\", \"26\", \"27\", \"28\", \"29\", \"30\", \"31\", \"32\", \"33\", \"34\", \"35\", \"36\", \"37\", \"38\", \"39\", \"40\", \"41\", \"42\", \"43\", \"44\", \"45\", \"46\", \"47\", \"56\", \"57\"], \"mode\": \"markers\", \"name\": \"AUC_micro\", \"stepped\": false, \"type\": \"scatter\", \"data\": [0.9992834454108941, 0.9991210731959252, 0.986991751940548, 0.9928378035991031, 0.9956481233797835, 0.9826715086987811, 0.9955198187104586, 0.9662786805434346, 0.9937755874260024, 0.9987568210406721, 0.988704627663901, 0.9741685647661253, 0.9715865508312127, 0.9976211368121659, 0.9783823080990116, 0.9981224279269446, 0.9857814277735905, 0.9862086444262175, 0.9902646764269513, 0.9962930082829311, 0.9926654819402693, 0.9701218488687753, 0.9955913448554888, 0.9996333554259719, 0.9980718196209615, 0.986435272113664, 0.9999466774228314, 0.9996487954594127, 0.9996459255826112, 0.9995501820984151, 0.9975207260494054, 0.9988881798683155, 0.9982693562753727, 0.9956630135469992, 0.9970333444848685, 0.4147329284569694, 0.9960950066642406, 0.9995561004562313, 0.9985402535304321, 0.9994707390150346, 0.43748412534005565, 0.9952593210990426, 0.9995403475103759, 0.9979057802009592, 0.9995620778753983, 0.4918900475789796, 0.9994618553736199, 0.9999495700155366, 0.9999541836256866, 0.9998938497696767]}, {\"categories\": [\"0\", \"1\", \"2\", \"3\", \"4\", \"5\", \"6\", \"7\", \"8\", \"9\", \"10\", \"11\", \"12\", \"13\", \"14\", \"15\", \"16\", \"17\", \"18\", \"19\", \"20\", \"21\", \"22\", \"23\", \"24\", \"25\", \"26\", \"27\", \"28\", \"29\", \"30\", \"31\", \"32\", \"33\", \"34\", \"35\", \"36\", \"37\", \"38\", \"39\", \"40\", \"41\", \"42\", \"43\", \"44\", \"45\", \"46\", \"47\", \"56\", \"57\"], \"mode\": \"lines\", \"name\": \"AUC_micro_max\", \"stepped\": true, \"type\": \"scatter\", \"data\": [0.9992834454108941, 0.9992834454108941, 0.9992834454108941, 0.9992834454108941, 0.9992834454108941, 0.9992834454108941, 0.9992834454108941, 0.9992834454108941, 0.9992834454108941, 0.9992834454108941, 0.9992834454108941, 0.9992834454108941, 0.9992834454108941, 0.9992834454108941, 0.9992834454108941, 0.9992834454108941, 0.9992834454108941, 0.9992834454108941, 0.9992834454108941, 0.9992834454108941, 0.9992834454108941, 0.9992834454108941, 0.9992834454108941, 0.9996333554259719, 0.9996333554259719, 0.9996333554259719, 0.9999466774228314, 0.9999466774228314, 0.9999466774228314, 0.9999466774228314, 0.9999466774228314, 0.9999466774228314, 0.9999466774228314, 0.9999466774228314, 0.9999466774228314, 0.9999466774228314, 0.9999466774228314, 0.9999466774228314, 0.9999466774228314, 0.9999466774228314, 0.9999466774228314, 0.9999466774228314, 0.9999466774228314, 0.9999466774228314, 0.9999466774228314, 0.9999466774228314, 0.9999466774228314, 0.9999495700155366, 0.9999541836256866, 0.9999541836256866]}], \"log_loss\": [{\"categories\": [\"0\", \"1\", \"2\", \"3\", \"4\", \"5\", \"6\", \"7\", \"8\", \"9\", \"10\", \"11\", \"12\", \"13\", \"14\", \"15\", \"16\", \"17\", \"18\", \"19\", \"20\", \"21\", \"22\", \"23\", \"24\", \"25\", \"26\", \"27\", \"28\", \"29\", \"30\", \"31\", \"32\", \"33\", \"34\", \"35\", \"36\", \"37\", \"38\", \"39\", \"40\", \"41\", \"42\", \"43\", \"44\", \"45\", \"46\", \"47\", \"56\", \"57\"], \"mode\": \"markers\", \"name\": \"log_loss\", \"stepped\": false, \"type\": \"scatter\", \"data\": [0.09356537691309562, 0.12222284555591663, 0.8414816821290749, 1.0693047624291763, 0.6500119636104322, 0.9427818896708763, 0.5545172719579317, 1.1485456071245608, 0.7907572768953283, 0.17911536862045502, 1.1548066132522077, 1.2241524635513383, 1.3962299908357394, 0.2959326171904659, 1.0058820490117344, 0.35527007683997736, 1.1590569132853612, 1.3656869951967576, 1.1492695566311342, 0.9573538392648896, 0.6687122263838949, 1.2249465518619795, 0.8699227658358122, 0.10228459229324835, 0.29769114240607764, 1.4697723005391503, 0.0728852837944721, 0.10012170969952967, 0.10023369255570795, 0.10728759099562328, 0.660811957644172, 0.12416790661259709, 0.32349622452762206, 0.6617216274338029, 0.5107219418692522, 2.3203624571303822, 0.6149166324818636, 0.10788282274607788, 0.5054744335189716, 0.11941561443002183, 2.3199905269525187, 0.4606345796477386, 0.10848718935310657, 0.26325591265314746, 0.10736925236960884, 2.3192680226318854, 0.11844746925759195, 0.07233691805389789, 0.11834882224715455, 0.054598952637925746]}, {\"categories\": [\"0\", \"1\", \"2\", \"3\", \"4\", \"5\", \"6\", \"7\", \"8\", \"9\", \"10\", \"11\", \"12\", \"13\", \"14\", \"15\", \"16\", \"17\", \"18\", \"19\", \"20\", \"21\", \"22\", \"23\", \"24\", \"25\", \"26\", \"27\", \"28\", \"29\", \"30\", \"31\", \"32\", \"33\", \"34\", \"35\", \"36\", \"37\", \"38\", \"39\", \"40\", \"41\", \"42\", \"43\", \"44\", \"45\", \"46\", \"47\", \"56\", \"57\"], \"mode\": \"lines\", \"name\": \"log_loss_min\", \"stepped\": true, \"type\": \"scatter\", \"data\": [0.09356537691309562, 0.09356537691309562, 0.09356537691309562, 0.09356537691309562, 0.09356537691309562, 0.09356537691309562, 0.09356537691309562, 0.09356537691309562, 0.09356537691309562, 0.09356537691309562, 0.09356537691309562, 0.09356537691309562, 0.09356537691309562, 0.09356537691309562, 0.09356537691309562, 0.09356537691309562, 0.09356537691309562, 0.09356537691309562, 0.09356537691309562, 0.09356537691309562, 0.09356537691309562, 0.09356537691309562, 0.09356537691309562, 0.09356537691309562, 0.09356537691309562, 0.09356537691309562, 0.0728852837944721, 0.0728852837944721, 0.0728852837944721, 0.0728852837944721, 0.0728852837944721, 0.0728852837944721, 0.0728852837944721, 0.0728852837944721, 0.0728852837944721, 0.0728852837944721, 0.0728852837944721, 0.0728852837944721, 0.0728852837944721, 0.0728852837944721, 0.0728852837944721, 0.0728852837944721, 0.0728852837944721, 0.0728852837944721, 0.0728852837944721, 0.0728852837944721, 0.0728852837944721, 0.07233691805389789, 0.07233691805389789, 0.054598952637925746]}], \"recall_score_macro\": [{\"categories\": [\"0\", \"1\", \"2\", \"3\", \"4\", \"5\", \"6\", \"7\", \"8\", \"9\", \"10\", \"11\", \"12\", \"13\", \"14\", \"15\", \"16\", \"17\", \"18\", \"19\", \"20\", \"21\", \"22\", \"23\", \"24\", \"25\", \"26\", \"27\", \"28\", \"29\", \"30\", \"31\", \"32\", \"33\", \"34\", \"35\", \"36\", \"37\", \"38\", \"39\", \"40\", \"41\", \"42\", \"43\", \"44\", \"45\", \"46\", \"47\", \"56\", \"57\"], \"mode\": \"markers\", \"name\": \"recall_score_macro\", \"stepped\": false, \"type\": \"scatter\", \"data\": [0.9728713905925368, 0.9669559300747956, 0.8678674909598426, 0.9183681204740568, 0.9280892783151037, 0.8539075053355308, 0.9227991112594232, 0.779906294428751, 0.9148678610736714, 0.9649388496985459, 0.8873156211611823, 0.8183800737818243, 0.8200664524912706, 0.9573600271547791, 0.8439796519494479, 0.9511706457366176, 0.874436401870042, 0.8839767356497612, 0.8996841798840542, 0.9312839802300135, 0.9028180404127802, 0.7785773637479775, 0.9379698844682067, 0.9835038328518666, 0.9473853533063374, 0.8521293682105033, 0.9923162998604175, 0.9847516520996858, 0.9852921926402264, 0.9806966762740034, 0.9392518773720274, 0.9833375809178129, 0.9514591680750627, 0.9279214466146557, 0.9394697233788893, 0.04664277180406213, 0.9352836799305217, 0.9808077873851145, 0.9589308187722463, 0.9793492935872093, 0.1, 0.926373850377446, 0.9788207743981016, 0.945998077213541, 0.9800719962944846, 0.1, 0.9795315723640888, 0.9929412998604175, 0.9937012066203241, 0.9893887991364398]}, {\"categories\": [\"0\", \"1\", \"2\", \"3\", \"4\", \"5\", \"6\", \"7\", \"8\", \"9\", \"10\", \"11\", \"12\", \"13\", \"14\", \"15\", \"16\", \"17\", \"18\", \"19\", \"20\", \"21\", \"22\", \"23\", \"24\", \"25\", \"26\", \"27\", \"28\", \"29\", \"30\", \"31\", \"32\", \"33\", \"34\", \"35\", \"36\", \"37\", \"38\", \"39\", \"40\", \"41\", \"42\", \"43\", \"44\", \"45\", \"46\", \"47\", \"56\", \"57\"], \"mode\": \"lines\", \"name\": \"recall_score_macro_max\", \"stepped\": true, \"type\": \"scatter\", \"data\": [0.9728713905925368, 0.9728713905925368, 0.9728713905925368, 0.9728713905925368, 0.9728713905925368, 0.9728713905925368, 0.9728713905925368, 0.9728713905925368, 0.9728713905925368, 0.9728713905925368, 0.9728713905925368, 0.9728713905925368, 0.9728713905925368, 0.9728713905925368, 0.9728713905925368, 0.9728713905925368, 0.9728713905925368, 0.9728713905925368, 0.9728713905925368, 0.9728713905925368, 0.9728713905925368, 0.9728713905925368, 0.9728713905925368, 0.9835038328518666, 0.9835038328518666, 0.9835038328518666, 0.9923162998604175, 0.9923162998604175, 0.9923162998604175, 0.9923162998604175, 0.9923162998604175, 0.9923162998604175, 0.9923162998604175, 0.9923162998604175, 0.9923162998604175, 0.9923162998604175, 0.9923162998604175, 0.9923162998604175, 0.9923162998604175, 0.9923162998604175, 0.9923162998604175, 0.9923162998604175, 0.9923162998604175, 0.9923162998604175, 0.9923162998604175, 0.9923162998604175, 0.9923162998604175, 0.9929412998604175, 0.9937012066203241, 0.9937012066203241]}], \"AUC_weighted\": [{\"categories\": [\"0\", \"1\", \"2\", \"3\", \"4\", \"5\", \"6\", \"7\", \"8\", \"9\", \"10\", \"11\", \"12\", \"13\", \"14\", \"15\", \"16\", \"17\", \"18\", \"19\", \"20\", \"21\", \"22\", \"23\", \"24\", \"25\", \"26\", \"27\", \"28\", \"29\", \"30\", \"31\", \"32\", \"33\", \"34\", \"35\", \"36\", \"37\", \"38\", \"39\", \"40\", \"41\", \"42\", \"43\", \"44\", \"45\", \"46\", \"47\", \"56\", \"57\"], \"mode\": \"markers\", \"name\": \"AUC_weighted\", \"stepped\": false, \"type\": \"scatter\", \"data\": [0.9993405469061903, 0.9991243559099905, 0.985895676932358, 0.9928561551699996, 0.9951092384808696, 0.9818727546979276, 0.9948650415641316, 0.9651510842051809, 0.9930548481307927, 0.9986441933673109, 0.9887966112254544, 0.9766734059147311, 0.9742533566675755, 0.9969524736693989, 0.9766347785894924, 0.9978529581894554, 0.9857367488439263, 0.9868605742376747, 0.9898213841518825, 0.9959626075412744, 0.991805963978648, 0.9705803116933162, 0.9948299726928237, 0.9995692552746822, 0.9980019976486731, 0.9858019957082353, 0.9999190780999095, 0.9995383964856212, 0.9995479934710844, 0.9995175816869745, 0.9970020483515061, 0.9987745234522922, 0.9980122909376965, 0.9954305232863776, 0.9968263668033188, 0.01881138139153843, 0.9958548155256104, 0.9995310148090448, 0.9982420841648096, 0.9994517394614842, 0.04542102324984036, 0.994863059357465, 0.9994962884930283, 0.9976572558348373, 0.9995079088967224, 0.5600408470614937, 0.9994403837570482, 0.9999229223740785, 0.9999362467163821, 0.9999111198156208]}, {\"categories\": [\"0\", \"1\", \"2\", \"3\", \"4\", \"5\", \"6\", \"7\", \"8\", \"9\", \"10\", \"11\", \"12\", \"13\", \"14\", \"15\", \"16\", \"17\", \"18\", \"19\", \"20\", \"21\", \"22\", \"23\", \"24\", \"25\", \"26\", \"27\", \"28\", \"29\", \"30\", \"31\", \"32\", \"33\", \"34\", \"35\", \"36\", \"37\", \"38\", \"39\", \"40\", \"41\", \"42\", \"43\", \"44\", \"45\", \"46\", \"47\", \"56\", \"57\"], \"mode\": \"lines\", \"name\": \"AUC_weighted_max\", \"stepped\": true, \"type\": \"scatter\", \"data\": [0.9993405469061903, 0.9993405469061903, 0.9993405469061903, 0.9993405469061903, 0.9993405469061903, 0.9993405469061903, 0.9993405469061903, 0.9993405469061903, 0.9993405469061903, 0.9993405469061903, 0.9993405469061903, 0.9993405469061903, 0.9993405469061903, 0.9993405469061903, 0.9993405469061903, 0.9993405469061903, 0.9993405469061903, 0.9993405469061903, 0.9993405469061903, 0.9993405469061903, 0.9993405469061903, 0.9993405469061903, 0.9993405469061903, 0.9995692552746822, 0.9995692552746822, 0.9995692552746822, 0.9999190780999095, 0.9999190780999095, 0.9999190780999095, 0.9999190780999095, 0.9999190780999095, 0.9999190780999095, 0.9999190780999095, 0.9999190780999095, 0.9999190780999095, 0.9999190780999095, 0.9999190780999095, 0.9999190780999095, 0.9999190780999095, 0.9999190780999095, 0.9999190780999095, 0.9999190780999095, 0.9999190780999095, 0.9999190780999095, 0.9999190780999095, 0.9999190780999095, 0.9999190780999095, 0.9999229223740785, 0.9999362467163821, 0.9999362467163821]}], \"precision_score_macro\": [{\"categories\": [\"0\", \"1\", \"2\", \"3\", \"4\", \"5\", \"6\", \"7\", \"8\", \"9\", \"10\", \"11\", \"12\", \"13\", \"14\", \"15\", \"16\", \"17\", \"18\", \"19\", \"20\", \"21\", \"22\", \"23\", \"24\", \"25\", \"26\", \"27\", \"28\", \"29\", \"30\", \"31\", \"32\", \"33\", \"34\", \"35\", \"36\", \"37\", \"38\", \"39\", \"40\", \"41\", \"42\", \"43\", \"44\", \"45\", \"46\", \"47\", \"56\", \"57\"], \"mode\": \"markers\", \"name\": \"precision_score_macro\", \"stepped\": false, \"type\": \"scatter\", \"data\": [0.9713062642554805, 0.9659052342781236, 0.8687130499389888, 0.9172699027230277, 0.929139624013434, 0.8539032499559227, 0.9245631883988231, 0.7743448672931296, 0.9140651209553106, 0.964621733439912, 0.8879032822330931, 0.8235690635003315, 0.8286324494859963, 0.9563258524773417, 0.8445291747105786, 0.9512404246816176, 0.8773254443821952, 0.8878822176889788, 0.9005870435488188, 0.9306305933594496, 0.9020611608665703, 0.7931741858472062, 0.9385066385983665, 0.9838734369388019, 0.9471924912813539, 0.8534933896130887, 0.9926684516684517, 0.985231140127713, 0.9856856855822584, 0.9822649601792168, 0.9387017521929906, 0.9827542147704047, 0.9524409096614285, 0.9279810544155792, 0.939341679473029, 0.0037739440024404875, 0.9346476387178578, 0.98225073542815, 0.9582189263214733, 0.9797326111119682, 0.008446238355334208, 0.9267512840844327, 0.9805110686663584, 0.9469967989531758, 0.9817233055566799, 0.009191740412979352, 0.9796147623572871, 0.9931789621789623, 0.9937847615520028, 0.9905181817527791]}, {\"categories\": [\"0\", \"1\", \"2\", \"3\", \"4\", \"5\", \"6\", \"7\", \"8\", \"9\", \"10\", \"11\", \"12\", \"13\", \"14\", \"15\", \"16\", \"17\", \"18\", \"19\", \"20\", \"21\", \"22\", \"23\", \"24\", \"25\", \"26\", \"27\", \"28\", \"29\", \"30\", \"31\", \"32\", \"33\", \"34\", \"35\", \"36\", \"37\", \"38\", \"39\", \"40\", \"41\", \"42\", \"43\", \"44\", \"45\", \"46\", \"47\", \"56\", \"57\"], \"mode\": \"lines\", \"name\": \"precision_score_macro_max\", \"stepped\": true, \"type\": \"scatter\", \"data\": [0.9713062642554805, 0.9713062642554805, 0.9713062642554805, 0.9713062642554805, 0.9713062642554805, 0.9713062642554805, 0.9713062642554805, 0.9713062642554805, 0.9713062642554805, 0.9713062642554805, 0.9713062642554805, 0.9713062642554805, 0.9713062642554805, 0.9713062642554805, 0.9713062642554805, 0.9713062642554805, 0.9713062642554805, 0.9713062642554805, 0.9713062642554805, 0.9713062642554805, 0.9713062642554805, 0.9713062642554805, 0.9713062642554805, 0.9838734369388019, 0.9838734369388019, 0.9838734369388019, 0.9926684516684517, 0.9926684516684517, 0.9926684516684517, 0.9926684516684517, 0.9926684516684517, 0.9926684516684517, 0.9926684516684517, 0.9926684516684517, 0.9926684516684517, 0.9926684516684517, 0.9926684516684517, 0.9926684516684517, 0.9926684516684517, 0.9926684516684517, 0.9926684516684517, 0.9926684516684517, 0.9926684516684517, 0.9926684516684517, 0.9926684516684517, 0.9926684516684517, 0.9926684516684517, 0.9931789621789623, 0.9937847615520028, 0.9937847615520028]}], \"f1_score_micro\": [{\"categories\": [\"0\", \"1\", \"2\", \"3\", \"4\", \"5\", \"6\", \"7\", \"8\", \"9\", \"10\", \"11\", \"12\", \"13\", \"14\", \"15\", \"16\", \"17\", \"18\", \"19\", \"20\", \"21\", \"22\", \"23\", \"24\", \"25\", \"26\", \"27\", \"28\", \"29\", \"30\", \"31\", \"32\", \"33\", \"34\", \"35\", \"36\", \"37\", \"38\", \"39\", \"40\", \"41\", \"42\", \"43\", \"44\", \"45\", \"46\", \"47\", \"56\", \"57\"], \"mode\": \"markers\", \"name\": \"f1_score_micro\", \"stepped\": false, \"type\": \"scatter\", \"data\": [0.9717230609057783, 0.9658320319278154, 0.8668106888773208, 0.9163404476834982, 0.9281155648099947, 0.8509092486552143, 0.9222071837584591, 0.7743345479784834, 0.9139892417143848, 0.9652385910116259, 0.8856966857539478, 0.8143796633697729, 0.8185025160506679, 0.9564081207704321, 0.8426513968419226, 0.9510949158424433, 0.8744907166406385, 0.883343744577477, 0.8986534790907514, 0.929875065070276, 0.9033610966510499, 0.7855092833593615, 0.9381415929203539, 0.9835085892764186, 0.9457921221585979, 0.8497622765920527, 0.9923407947249696, 0.9846867950720111, 0.985276765573486, 0.9811573833073052, 0.9375446815894499, 0.9829134131528718, 0.9516727398924172, 0.9275238591011625, 0.9393059170570883, 0.03711087975013014, 0.9345878882526462, 0.9811573833073052, 0.9593527676557349, 0.9793857365955232, 0.08426513968419226, 0.9263387124761409, 0.9793874718028805, 0.9452021516571231, 0.980565677598473, 0.09191740412979352, 0.9793857365955232, 0.9929290300190873, 0.9935207357279194, 0.9899843831337846]}, {\"categories\": [\"0\", \"1\", \"2\", \"3\", \"4\", \"5\", \"6\", \"7\", \"8\", \"9\", \"10\", \"11\", \"12\", \"13\", \"14\", \"15\", \"16\", \"17\", \"18\", \"19\", \"20\", \"21\", \"22\", \"23\", \"24\", \"25\", \"26\", \"27\", \"28\", \"29\", \"30\", \"31\", \"32\", \"33\", \"34\", \"35\", \"36\", \"37\", \"38\", \"39\", \"40\", \"41\", \"42\", \"43\", \"44\", \"45\", \"46\", \"47\", \"56\", \"57\"], \"mode\": \"lines\", \"name\": \"f1_score_micro_max\", \"stepped\": true, \"type\": \"scatter\", \"data\": [0.9717230609057783, 0.9717230609057783, 0.9717230609057783, 0.9717230609057783, 0.9717230609057783, 0.9717230609057783, 0.9717230609057783, 0.9717230609057783, 0.9717230609057783, 0.9717230609057783, 0.9717230609057783, 0.9717230609057783, 0.9717230609057783, 0.9717230609057783, 0.9717230609057783, 0.9717230609057783, 0.9717230609057783, 0.9717230609057783, 0.9717230609057783, 0.9717230609057783, 0.9717230609057783, 0.9717230609057783, 0.9717230609057783, 0.9835085892764186, 0.9835085892764186, 0.9835085892764186, 0.9923407947249696, 0.9923407947249696, 0.9923407947249696, 0.9923407947249696, 0.9923407947249696, 0.9923407947249696, 0.9923407947249696, 0.9923407947249696, 0.9923407947249696, 0.9923407947249696, 0.9923407947249696, 0.9923407947249696, 0.9923407947249696, 0.9923407947249696, 0.9923407947249696, 0.9923407947249696, 0.9923407947249696, 0.9923407947249696, 0.9923407947249696, 0.9923407947249696, 0.9923407947249696, 0.9929290300190873, 0.9935207357279194, 0.9935207357279194]}], \"f1_score_macro\": [{\"categories\": [\"0\", \"1\", \"2\", \"3\", \"4\", \"5\", \"6\", \"7\", \"8\", \"9\", \"10\", \"11\", \"12\", \"13\", \"14\", \"15\", \"16\", \"17\", \"18\", \"19\", \"20\", \"21\", \"22\", \"23\", \"24\", \"25\", \"26\", \"27\", \"28\", \"29\", \"30\", \"31\", \"32\", \"33\", \"34\", \"35\", \"36\", \"37\", \"38\", \"39\", \"40\", \"41\", \"42\", \"43\", \"44\", \"45\", \"46\", \"47\", \"56\", \"57\"], \"mode\": \"markers\", \"name\": \"f1_score_macro\", \"stepped\": false, \"type\": \"scatter\", \"data\": [0.9715990787781316, 0.9656909066933036, 0.8651975642430626, 0.9148252658385896, 0.926949990601978, 0.8475626589483642, 0.922083681613463, 0.7565796333699188, 0.9123863555076877, 0.9638036999599585, 0.882812845098828, 0.7971811008895382, 0.8096933735872671, 0.9562466304785261, 0.8365989751135243, 0.9492237243177003, 0.8699605419750267, 0.880014573460816, 0.8966221681750909, 0.9292296027545877, 0.9003848119427301, 0.772123436251888, 0.9369317029939467, 0.9833385771265618, 0.9458133278126573, 0.8473337806053985, 0.9923505865865151, 0.9846946298607427, 0.9851932628605568, 0.9811643443377351, 0.9377973409770275, 0.9827191584894373, 0.9498551076463035, 0.9246042228908387, 0.9365810878092382, 0.006968081240328246, 0.9320641000766419, 0.9812062830219261, 0.9579772207596937, 0.9792828565777916, 0.01557334899234449, 0.9255416635123932, 0.9793486816424751, 0.9453643357021051, 0.980593606606092, 0.016828563430543893, 0.9793039342747105, 0.9929370394619648, 0.9936528319052751, 0.9897908845409198]}, {\"categories\": [\"0\", \"1\", \"2\", \"3\", \"4\", \"5\", \"6\", \"7\", \"8\", \"9\", \"10\", \"11\", \"12\", \"13\", \"14\", \"15\", \"16\", \"17\", \"18\", \"19\", \"20\", \"21\", \"22\", \"23\", \"24\", \"25\", \"26\", \"27\", \"28\", \"29\", \"30\", \"31\", \"32\", \"33\", \"34\", \"35\", \"36\", \"37\", \"38\", \"39\", \"40\", \"41\", \"42\", \"43\", \"44\", \"45\", \"46\", \"47\", \"56\", \"57\"], \"mode\": \"lines\", \"name\": \"f1_score_macro_max\", \"stepped\": true, \"type\": \"scatter\", \"data\": [0.9715990787781316, 0.9715990787781316, 0.9715990787781316, 0.9715990787781316, 0.9715990787781316, 0.9715990787781316, 0.9715990787781316, 0.9715990787781316, 0.9715990787781316, 0.9715990787781316, 0.9715990787781316, 0.9715990787781316, 0.9715990787781316, 0.9715990787781316, 0.9715990787781316, 0.9715990787781316, 0.9715990787781316, 0.9715990787781316, 0.9715990787781316, 0.9715990787781316, 0.9715990787781316, 0.9715990787781316, 0.9715990787781316, 0.9833385771265618, 0.9833385771265618, 0.9833385771265618, 0.9923505865865151, 0.9923505865865151, 0.9923505865865151, 0.9923505865865151, 0.9923505865865151, 0.9923505865865151, 0.9923505865865151, 0.9923505865865151, 0.9923505865865151, 0.9923505865865151, 0.9923505865865151, 0.9923505865865151, 0.9923505865865151, 0.9923505865865151, 0.9923505865865151, 0.9923505865865151, 0.9923505865865151, 0.9923505865865151, 0.9923505865865151, 0.9923505865865151, 0.9923505865865151, 0.9929370394619648, 0.9936528319052751, 0.9936528319052751]}], \"precision_score_weighted\": [{\"categories\": [\"0\", \"1\", \"2\", \"3\", \"4\", \"5\", \"6\", \"7\", \"8\", \"9\", \"10\", \"11\", \"12\", \"13\", \"14\", \"15\", \"16\", \"17\", \"18\", \"19\", \"20\", \"21\", \"22\", \"23\", \"24\", \"25\", \"26\", \"27\", \"28\", \"29\", \"30\", \"31\", \"32\", \"33\", \"34\", \"35\", \"36\", \"37\", \"38\", \"39\", \"40\", \"41\", \"42\", \"43\", \"44\", \"45\", \"46\", \"47\", \"56\", \"57\"], \"mode\": \"markers\", \"name\": \"precision_score_weighted\", \"stepped\": false, \"type\": \"scatter\", \"data\": [0.9728461696655435, 0.9676428235253592, 0.8710287920216423, 0.9213588784363141, 0.9312042850964058, 0.8593041304847414, 0.924788518385979, 0.7790227691710894, 0.9166026142095234, 0.9665380833460187, 0.891918698091585, 0.8283083175039228, 0.8315678578482986, 0.9572465939905083, 0.8484043041159472, 0.9546291626025061, 0.8825218649305461, 0.8911882933019626, 0.9050427837985172, 0.9334442373914408, 0.9073723486406639, 0.7956018089661863, 0.9404873758862383, 0.984375043993199, 0.9492297474438954, 0.8597003300520252, 0.9926940677003145, 0.9853634644105964, 0.9859534349120714, 0.9819677281191526, 0.9400718350147732, 0.983388904083079, 0.9552610601684149, 0.9330505097601314, 0.944268080657553, 0.0030854032284597845, 0.9393843190903388, 0.9819681477283286, 0.9598109123147534, 0.9799134801004428, 0.007139573510387876, 0.9283611367807652, 0.9801307862032376, 0.9474203171761401, 0.9813390486641781, 0.00849700228852864, 0.9799519885113444, 0.993234608240855, 0.9937333023817289, 0.9903407581247375]}, {\"categories\": [\"0\", \"1\", \"2\", \"3\", \"4\", \"5\", \"6\", \"7\", \"8\", \"9\", \"10\", \"11\", \"12\", \"13\", \"14\", \"15\", \"16\", \"17\", \"18\", \"19\", \"20\", \"21\", \"22\", \"23\", \"24\", \"25\", \"26\", \"27\", \"28\", \"29\", \"30\", \"31\", \"32\", \"33\", \"34\", \"35\", \"36\", \"37\", \"38\", \"39\", \"40\", \"41\", \"42\", \"43\", \"44\", \"45\", \"46\", \"47\", \"56\", \"57\"], \"mode\": \"lines\", \"name\": \"precision_score_weighted_max\", \"stepped\": true, \"type\": \"scatter\", \"data\": [0.9728461696655435, 0.9728461696655435, 0.9728461696655435, 0.9728461696655435, 0.9728461696655435, 0.9728461696655435, 0.9728461696655435, 0.9728461696655435, 0.9728461696655435, 0.9728461696655435, 0.9728461696655435, 0.9728461696655435, 0.9728461696655435, 0.9728461696655435, 0.9728461696655435, 0.9728461696655435, 0.9728461696655435, 0.9728461696655435, 0.9728461696655435, 0.9728461696655435, 0.9728461696655435, 0.9728461696655435, 0.9728461696655435, 0.984375043993199, 0.984375043993199, 0.984375043993199, 0.9926940677003145, 0.9926940677003145, 0.9926940677003145, 0.9926940677003145, 0.9926940677003145, 0.9926940677003145, 0.9926940677003145, 0.9926940677003145, 0.9926940677003145, 0.9926940677003145, 0.9926940677003145, 0.9926940677003145, 0.9926940677003145, 0.9926940677003145, 0.9926940677003145, 0.9926940677003145, 0.9926940677003145, 0.9926940677003145, 0.9926940677003145, 0.9926940677003145, 0.9926940677003145, 0.993234608240855, 0.9937333023817289, 0.9937333023817289]}], \"weighted_accuracy\": [{\"categories\": [\"0\", \"1\", \"2\", \"3\", \"4\", \"5\", \"6\", \"7\", \"8\", \"9\", \"10\", \"11\", \"12\", \"13\", \"14\", \"15\", \"16\", \"17\", \"18\", \"19\", \"20\", \"21\", \"22\", \"23\", \"24\", \"25\", \"26\", \"27\", \"28\", \"29\", \"30\", \"31\", \"32\", \"33\", \"34\", \"35\", \"36\", \"37\", \"38\", \"39\", \"40\", \"41\", \"42\", \"43\", \"44\", \"45\", \"46\", \"47\", \"56\", \"57\"], \"mode\": \"markers\", \"name\": \"weighted_accuracy\", \"stepped\": false, \"type\": \"scatter\", \"data\": [0.9708185722029322, 0.9647085164720718, 0.8655669702592423, 0.9144931915833278, 0.9279884892479217, 0.8475463471740292, 0.9212751108195036, 0.769292386864823, 0.9126834410105686, 0.9655272845860907, 0.8841162913013342, 0.8099564949005478, 0.8171164854006591, 0.9556706623905631, 0.8411204182213504, 0.9510047125634198, 0.8747306031715818, 0.8824433084175809, 0.897653461868501, 0.9284227463726644, 0.9034684589214935, 0.7911024203192675, 0.9379164256068494, 0.9834271913913069, 0.944264193274287, 0.8472863878463684, 0.9924352366970147, 0.9845663776865077, 0.9851962185240257, 0.9815136864578701, 0.935840359540012, 0.9826703876731511, 0.951878468765951, 0.9273018591887722, 0.9392112466284518, 0.029445090888048652, 0.9339931275394194, 0.981420633493587, 0.9596024759924546, 0.9794620501539513, 0.06972966533489458, 0.9260898278716116, 0.979868921727052, 0.9444300298228369, 0.9809476568796963, 0.08323615517170323, 0.9792839761386268, 0.9929816847844466, 0.993398768754685, 0.9904505701394782]}, {\"categories\": [\"0\", \"1\", \"2\", \"3\", \"4\", \"5\", \"6\", \"7\", \"8\", \"9\", \"10\", \"11\", \"12\", \"13\", \"14\", \"15\", \"16\", \"17\", \"18\", \"19\", \"20\", \"21\", \"22\", \"23\", \"24\", \"25\", \"26\", \"27\", \"28\", \"29\", \"30\", \"31\", \"32\", \"33\", \"34\", \"35\", \"36\", \"37\", \"38\", \"39\", \"40\", \"41\", \"42\", \"43\", \"44\", \"45\", \"46\", \"47\", \"56\", \"57\"], \"mode\": \"lines\", \"name\": \"weighted_accuracy_max\", \"stepped\": true, \"type\": \"scatter\", \"data\": [0.9708185722029322, 0.9708185722029322, 0.9708185722029322, 0.9708185722029322, 0.9708185722029322, 0.9708185722029322, 0.9708185722029322, 0.9708185722029322, 0.9708185722029322, 0.9708185722029322, 0.9708185722029322, 0.9708185722029322, 0.9708185722029322, 0.9708185722029322, 0.9708185722029322, 0.9708185722029322, 0.9708185722029322, 0.9708185722029322, 0.9708185722029322, 0.9708185722029322, 0.9708185722029322, 0.9708185722029322, 0.9708185722029322, 0.9834271913913069, 0.9834271913913069, 0.9834271913913069, 0.9924352366970147, 0.9924352366970147, 0.9924352366970147, 0.9924352366970147, 0.9924352366970147, 0.9924352366970147, 0.9924352366970147, 0.9924352366970147, 0.9924352366970147, 0.9924352366970147, 0.9924352366970147, 0.9924352366970147, 0.9924352366970147, 0.9924352366970147, 0.9924352366970147, 0.9924352366970147, 0.9924352366970147, 0.9924352366970147, 0.9924352366970147, 0.9924352366970147, 0.9924352366970147, 0.9929816847844466, 0.993398768754685, 0.993398768754685]}], \"accuracy\": [{\"categories\": [\"0\", \"1\", \"2\", \"3\", \"4\", \"5\", \"6\", \"7\", \"8\", \"9\", \"10\", \"11\", \"12\", \"13\", \"14\", \"15\", \"16\", \"17\", \"18\", \"19\", \"20\", \"21\", \"22\", \"23\", \"24\", \"25\", \"26\", \"27\", \"28\", \"29\", \"30\", \"31\", \"32\", \"33\", \"34\", \"35\", \"36\", \"37\", \"38\", \"39\", \"40\", \"41\", \"42\", \"43\", \"44\", \"45\", \"46\", \"47\", \"56\", \"57\"], \"mode\": \"markers\", \"name\": \"accuracy\", \"stepped\": false, \"type\": \"scatter\", \"data\": [0.9717230609057783, 0.9658320319278154, 0.8668106888773208, 0.9163404476834982, 0.9281155648099947, 0.8509092486552143, 0.9222071837584591, 0.7743345479784834, 0.9139892417143848, 0.9652385910116259, 0.8856966857539476, 0.8143796633697727, 0.8185025160506679, 0.9564081207704321, 0.8426513968419226, 0.9510949158424433, 0.8744907166406385, 0.883343744577477, 0.8986534790907512, 0.929875065070276, 0.9033610966510498, 0.7855092833593614, 0.9381415929203539, 0.9835085892764186, 0.9457921221585979, 0.8497622765920527, 0.9923407947249696, 0.9846867950720111, 0.985276765573486, 0.9811573833073052, 0.9375446815894499, 0.9829134131528718, 0.9516727398924172, 0.9275238591011625, 0.9393059170570883, 0.03711087975013014, 0.9345878882526462, 0.9811573833073052, 0.9593527676557349, 0.9793857365955232, 0.08426513968419226, 0.926338712476141, 0.9793874718028805, 0.9452021516571231, 0.980565677598473, 0.0919174041297935, 0.9793857365955232, 0.9929290300190873, 0.9935207357279194, 0.9899843831337846]}, {\"categories\": [\"0\", \"1\", \"2\", \"3\", \"4\", \"5\", \"6\", \"7\", \"8\", \"9\", \"10\", \"11\", \"12\", \"13\", \"14\", \"15\", \"16\", \"17\", \"18\", \"19\", \"20\", \"21\", \"22\", \"23\", \"24\", \"25\", \"26\", \"27\", \"28\", \"29\", \"30\", \"31\", \"32\", \"33\", \"34\", \"35\", \"36\", \"37\", \"38\", \"39\", \"40\", \"41\", \"42\", \"43\", \"44\", \"45\", \"46\", \"47\", \"56\", \"57\"], \"mode\": \"lines\", \"name\": \"accuracy_max\", \"stepped\": true, \"type\": \"scatter\", \"data\": [0.9717230609057783, 0.9717230609057783, 0.9717230609057783, 0.9717230609057783, 0.9717230609057783, 0.9717230609057783, 0.9717230609057783, 0.9717230609057783, 0.9717230609057783, 0.9717230609057783, 0.9717230609057783, 0.9717230609057783, 0.9717230609057783, 0.9717230609057783, 0.9717230609057783, 0.9717230609057783, 0.9717230609057783, 0.9717230609057783, 0.9717230609057783, 0.9717230609057783, 0.9717230609057783, 0.9717230609057783, 0.9717230609057783, 0.9835085892764186, 0.9835085892764186, 0.9835085892764186, 0.9923407947249696, 0.9923407947249696, 0.9923407947249696, 0.9923407947249696, 0.9923407947249696, 0.9923407947249696, 0.9923407947249696, 0.9923407947249696, 0.9923407947249696, 0.9923407947249696, 0.9923407947249696, 0.9923407947249696, 0.9923407947249696, 0.9923407947249696, 0.9923407947249696, 0.9923407947249696, 0.9923407947249696, 0.9923407947249696, 0.9923407947249696, 0.9923407947249696, 0.9923407947249696, 0.9929290300190873, 0.9935207357279194, 0.9935207357279194]}], \"f1_score_weighted\": [{\"categories\": [\"0\", \"1\", \"2\", \"3\", \"4\", \"5\", \"6\", \"7\", \"8\", \"9\", \"10\", \"11\", \"12\", \"13\", \"14\", \"15\", \"16\", \"17\", \"18\", \"19\", \"20\", \"21\", \"22\", \"23\", \"24\", \"25\", \"26\", \"27\", \"28\", \"29\", \"30\", \"31\", \"32\", \"33\", \"34\", \"35\", \"36\", \"37\", \"38\", \"39\", \"40\", \"41\", \"42\", \"43\", \"44\", \"45\", \"46\", \"47\", \"56\", \"57\"], \"mode\": \"markers\", \"name\": \"f1_score_weighted\", \"stepped\": false, \"type\": \"scatter\", \"data\": [0.9718250256879714, 0.9660116741973714, 0.8658164878281388, 0.9160891946861469, 0.9280476871901276, 0.8492337532002081, 0.9219029246915242, 0.7555616529767372, 0.9132559158758662, 0.9649504365490633, 0.8842863519670612, 0.7962899575679536, 0.8109932978292465, 0.956247008556409, 0.8384473924219831, 0.9511185288152217, 0.8729935090367068, 0.8814138477257432, 0.8986852489688045, 0.9299555097248428, 0.9034147486964258, 0.7772431285864332, 0.9380477265378531, 0.9836027389307315, 0.9461093160199479, 0.8497336798038958, 0.9923807186937985, 0.9847380575606349, 0.9853286783208896, 0.9812555285500164, 0.9376531125513756, 0.982849322430891, 0.9515493384587048, 0.9273183676369607, 0.9393118801423193, 0.005686119685842931, 0.9343665837179408, 0.9812479344789974, 0.9589959512420794, 0.9793862022816547, 0.013160848376979265, 0.9263232023877459, 0.9794541020287312, 0.9451886156377707, 0.9806552739770753, 0.015549173954148102, 0.9794002877258121, 0.9929631157415851, 0.9935362853562728, 0.9900094217394919]}, {\"categories\": [\"0\", \"1\", \"2\", \"3\", \"4\", \"5\", \"6\", \"7\", \"8\", \"9\", \"10\", \"11\", \"12\", \"13\", \"14\", \"15\", \"16\", \"17\", \"18\", \"19\", \"20\", \"21\", \"22\", \"23\", \"24\", \"25\", \"26\", \"27\", \"28\", \"29\", \"30\", \"31\", \"32\", \"33\", \"34\", \"35\", \"36\", \"37\", \"38\", \"39\", \"40\", \"41\", \"42\", \"43\", \"44\", \"45\", \"46\", \"47\", \"56\", \"57\"], \"mode\": \"lines\", \"name\": \"f1_score_weighted_max\", \"stepped\": true, \"type\": \"scatter\", \"data\": [0.9718250256879714, 0.9718250256879714, 0.9718250256879714, 0.9718250256879714, 0.9718250256879714, 0.9718250256879714, 0.9718250256879714, 0.9718250256879714, 0.9718250256879714, 0.9718250256879714, 0.9718250256879714, 0.9718250256879714, 0.9718250256879714, 0.9718250256879714, 0.9718250256879714, 0.9718250256879714, 0.9718250256879714, 0.9718250256879714, 0.9718250256879714, 0.9718250256879714, 0.9718250256879714, 0.9718250256879714, 0.9718250256879714, 0.9836027389307315, 0.9836027389307315, 0.9836027389307315, 0.9923807186937985, 0.9923807186937985, 0.9923807186937985, 0.9923807186937985, 0.9923807186937985, 0.9923807186937985, 0.9923807186937985, 0.9923807186937985, 0.9923807186937985, 0.9923807186937985, 0.9923807186937985, 0.9923807186937985, 0.9923807186937985, 0.9923807186937985, 0.9923807186937985, 0.9923807186937985, 0.9923807186937985, 0.9923807186937985, 0.9923807186937985, 0.9923807186937985, 0.9923807186937985, 0.9929631157415851, 0.9935362853562728, 0.9935362853562728]}], \"balanced_accuracy\": [{\"categories\": [\"0\", \"1\", \"2\", \"3\", \"4\", \"5\", \"6\", \"7\", \"8\", \"9\", \"10\", \"11\", \"12\", \"13\", \"14\", \"15\", \"16\", \"17\", \"18\", \"19\", \"20\", \"21\", \"22\", \"23\", \"24\", \"25\", \"26\", \"27\", \"28\", \"29\", \"30\", \"31\", \"32\", \"33\", \"34\", \"35\", \"36\", \"37\", \"38\", \"39\", \"40\", \"41\", \"42\", \"43\", \"44\", \"45\", \"46\", \"47\", \"56\", \"57\"], \"mode\": \"markers\", \"name\": \"balanced_accuracy\", \"stepped\": false, \"type\": \"scatter\", \"data\": [0.9728713905925368, 0.9669559300747956, 0.8678674909598426, 0.9183681204740568, 0.9280892783151037, 0.8539075053355308, 0.9227991112594232, 0.779906294428751, 0.9148678610736714, 0.9649388496985459, 0.8873156211611823, 0.8183800737818243, 0.8200664524912706, 0.9573600271547791, 0.8439796519494479, 0.9511706457366176, 0.874436401870042, 0.8839767356497612, 0.8996841798840542, 0.9312839802300135, 0.9028180404127802, 0.7785773637479775, 0.9379698844682067, 0.9835038328518666, 0.9473853533063374, 0.8521293682105033, 0.9923162998604175, 0.9847516520996858, 0.9852921926402264, 0.9806966762740034, 0.9392518773720274, 0.9833375809178129, 0.9514591680750627, 0.9279214466146557, 0.9394697233788893, 0.04664277180406213, 0.9352836799305217, 0.9808077873851145, 0.9589308187722463, 0.9793492935872093, 0.1, 0.926373850377446, 0.9788207743981016, 0.945998077213541, 0.9800719962944846, 0.1, 0.9795315723640888, 0.9929412998604175, 0.9937012066203241, 0.9893887991364398]}, {\"categories\": [\"0\", \"1\", \"2\", \"3\", \"4\", \"5\", \"6\", \"7\", \"8\", \"9\", \"10\", \"11\", \"12\", \"13\", \"14\", \"15\", \"16\", \"17\", \"18\", \"19\", \"20\", \"21\", \"22\", \"23\", \"24\", \"25\", \"26\", \"27\", \"28\", \"29\", \"30\", \"31\", \"32\", \"33\", \"34\", \"35\", \"36\", \"37\", \"38\", \"39\", \"40\", \"41\", \"42\", \"43\", \"44\", \"45\", \"46\", \"47\", \"56\", \"57\"], \"mode\": \"lines\", \"name\": \"balanced_accuracy_max\", \"stepped\": true, \"type\": \"scatter\", \"data\": [0.9728713905925368, 0.9728713905925368, 0.9728713905925368, 0.9728713905925368, 0.9728713905925368, 0.9728713905925368, 0.9728713905925368, 0.9728713905925368, 0.9728713905925368, 0.9728713905925368, 0.9728713905925368, 0.9728713905925368, 0.9728713905925368, 0.9728713905925368, 0.9728713905925368, 0.9728713905925368, 0.9728713905925368, 0.9728713905925368, 0.9728713905925368, 0.9728713905925368, 0.9728713905925368, 0.9728713905925368, 0.9728713905925368, 0.9835038328518666, 0.9835038328518666, 0.9835038328518666, 0.9923162998604175, 0.9923162998604175, 0.9923162998604175, 0.9923162998604175, 0.9923162998604175, 0.9923162998604175, 0.9923162998604175, 0.9923162998604175, 0.9923162998604175, 0.9923162998604175, 0.9923162998604175, 0.9923162998604175, 0.9923162998604175, 0.9923162998604175, 0.9923162998604175, 0.9923162998604175, 0.9923162998604175, 0.9923162998604175, 0.9923162998604175, 0.9923162998604175, 0.9923162998604175, 0.9929412998604175, 0.9937012066203241, 0.9937012066203241]}], \"AUC_macro\": [{\"categories\": [\"0\", \"1\", \"2\", \"3\", \"4\", \"5\", \"6\", \"7\", \"8\", \"9\", \"10\", \"11\", \"12\", \"13\", \"14\", \"15\", \"16\", \"17\", \"18\", \"19\", \"20\", \"21\", \"22\", \"23\", \"24\", \"25\", \"26\", \"27\", \"28\", \"29\", \"30\", \"31\", \"32\", \"33\", \"34\", \"35\", \"36\", \"37\", \"38\", \"39\", \"40\", \"41\", \"42\", \"43\", \"44\", \"45\", \"46\", \"47\", \"56\", \"57\"], \"mode\": \"markers\", \"name\": \"AUC_macro\", \"stepped\": false, \"type\": \"scatter\", \"data\": [0.9993745213704497, 0.9991184042671554, 0.9859795208689874, 0.9927873520120194, 0.9950697735906207, 0.982108288515344, 0.9948733064692554, 0.965724087374028, 0.9930677157811925, 0.9985372083193296, 0.9885895074820436, 0.9766073558550131, 0.9744086479744519, 0.9969700351082997, 0.9769041718123347, 0.9977677849820749, 0.9856085502101395, 0.9866807920942421, 0.9896926880610902, 0.99586646169536, 0.9917565010005933, 0.9704485914020944, 0.9947676929813589, 0.999559537874379, 0.9980243397459535, 0.9856003382285798, 0.9999196835500852, 0.9995301838061181, 0.999540219757056, 0.9995226649871354, 0.9970047162816933, 0.9987480579930965, 0.9979479056179557, 0.9953066736487873, 0.9967432190766884, 0.01894197447443626, 0.9957491211151733, 0.999536095298333, 0.9981934933771093, 0.9994368586106139, 0.04591731182132416, 0.994907360351756, 0.9995016986988517, 0.9976783307226473, 0.9995129458320194, 0.5602635024760539, 0.9994229912577124, 0.9999236685327684, 0.9999382413314072, 0.9999135580040998]}, {\"categories\": [\"0\", \"1\", \"2\", \"3\", \"4\", \"5\", \"6\", \"7\", \"8\", \"9\", \"10\", \"11\", \"12\", \"13\", \"14\", \"15\", \"16\", \"17\", \"18\", \"19\", \"20\", \"21\", \"22\", \"23\", \"24\", \"25\", \"26\", \"27\", \"28\", \"29\", \"30\", \"31\", \"32\", \"33\", \"34\", \"35\", \"36\", \"37\", \"38\", \"39\", \"40\", \"41\", \"42\", \"43\", \"44\", \"45\", \"46\", \"47\", \"56\", \"57\"], \"mode\": \"lines\", \"name\": \"AUC_macro_max\", \"stepped\": true, \"type\": \"scatter\", \"data\": [0.9993745213704497, 0.9993745213704497, 0.9993745213704497, 0.9993745213704497, 0.9993745213704497, 0.9993745213704497, 0.9993745213704497, 0.9993745213704497, 0.9993745213704497, 0.9993745213704497, 0.9993745213704497, 0.9993745213704497, 0.9993745213704497, 0.9993745213704497, 0.9993745213704497, 0.9993745213704497, 0.9993745213704497, 0.9993745213704497, 0.9993745213704497, 0.9993745213704497, 0.9993745213704497, 0.9993745213704497, 0.9993745213704497, 0.999559537874379, 0.999559537874379, 0.999559537874379, 0.9999196835500852, 0.9999196835500852, 0.9999196835500852, 0.9999196835500852, 0.9999196835500852, 0.9999196835500852, 0.9999196835500852, 0.9999196835500852, 0.9999196835500852, 0.9999196835500852, 0.9999196835500852, 0.9999196835500852, 0.9999196835500852, 0.9999196835500852, 0.9999196835500852, 0.9999196835500852, 0.9999196835500852, 0.9999196835500852, 0.9999196835500852, 0.9999196835500852, 0.9999196835500852, 0.9999236685327684, 0.9999382413314072, 0.9999382413314072]}], \"average_precision_score_micro\": [{\"categories\": [\"0\", \"1\", \"2\", \"3\", \"4\", \"5\", \"6\", \"7\", \"8\", \"9\", \"10\", \"11\", \"12\", \"13\", \"14\", \"15\", \"16\", \"17\", \"18\", \"19\", \"20\", \"21\", \"22\", \"23\", \"24\", \"25\", \"26\", \"27\", \"28\", \"29\", \"30\", \"31\", \"32\", \"33\", \"34\", \"35\", \"36\", \"37\", \"38\", \"39\", \"40\", \"41\", \"42\", \"43\", \"44\", \"45\", \"46\", \"47\", \"56\", \"57\"], \"mode\": \"markers\", \"name\": \"average_precision_score_micro\", \"stepped\": false, \"type\": \"scatter\", \"data\": [0.9956185400535358, 0.9944065996446663, 0.9338676714852043, 0.9606005061561564, 0.9759169749654806, 0.916103430604642, 0.974863090695783, 0.8418087674577871, 0.9636179268388064, 0.99332692937852, 0.9360333291339226, 0.8703957281223497, 0.8658813126455254, 0.9883446036097989, 0.8973119966225103, 0.9880139570458759, 0.93008827862869, 0.927287182141623, 0.9492095291682927, 0.976846784884103, 0.959384458769431, 0.8459889303547012, 0.9755361929658839, 0.997595919574074, 0.9873562041216492, 0.9230700304688085, 0.9995754282124849, 0.9976805990561189, 0.997670161529495, 0.9973007252595986, 0.982144314368897, 0.9962843137920316, 0.9888445696249251, 0.9740367033377302, 0.9819406188873329, 0.08030159512334932, 0.9766734416450124, 0.9973190492568198, 0.9904537489691181, 0.9965962485549319, 0.08394371755002059, 0.9743259471961743, 0.9972298393705076, 0.9862002445201465, 0.9973140049163568, 0.09996196437341964, 0.9966256966735813, 0.9995958726043028, 0.999621670867841, 0.9991925094946821]}, {\"categories\": [\"0\", \"1\", \"2\", \"3\", \"4\", \"5\", \"6\", \"7\", \"8\", \"9\", \"10\", \"11\", \"12\", \"13\", \"14\", \"15\", \"16\", \"17\", \"18\", \"19\", \"20\", \"21\", \"22\", \"23\", \"24\", \"25\", \"26\", \"27\", \"28\", \"29\", \"30\", \"31\", \"32\", \"33\", \"34\", \"35\", \"36\", \"37\", \"38\", \"39\", \"40\", \"41\", \"42\", \"43\", \"44\", \"45\", \"46\", \"47\", \"56\", \"57\"], \"mode\": \"lines\", \"name\": \"average_precision_score_micro_max\", \"stepped\": true, \"type\": \"scatter\", \"data\": [0.9956185400535358, 0.9956185400535358, 0.9956185400535358, 0.9956185400535358, 0.9956185400535358, 0.9956185400535358, 0.9956185400535358, 0.9956185400535358, 0.9956185400535358, 0.9956185400535358, 0.9956185400535358, 0.9956185400535358, 0.9956185400535358, 0.9956185400535358, 0.9956185400535358, 0.9956185400535358, 0.9956185400535358, 0.9956185400535358, 0.9956185400535358, 0.9956185400535358, 0.9956185400535358, 0.9956185400535358, 0.9956185400535358, 0.997595919574074, 0.997595919574074, 0.997595919574074, 0.9995754282124849, 0.9995754282124849, 0.9995754282124849, 0.9995754282124849, 0.9995754282124849, 0.9995754282124849, 0.9995754282124849, 0.9995754282124849, 0.9995754282124849, 0.9995754282124849, 0.9995754282124849, 0.9995754282124849, 0.9995754282124849, 0.9995754282124849, 0.9995754282124849, 0.9995754282124849, 0.9995754282124849, 0.9995754282124849, 0.9995754282124849, 0.9995754282124849, 0.9995754282124849, 0.9995958726043028, 0.999621670867841, 0.999621670867841]}], \"average_precision_score_macro\": [{\"categories\": [\"0\", \"1\", \"2\", \"3\", \"4\", \"5\", \"6\", \"7\", \"8\", \"9\", \"10\", \"11\", \"12\", \"13\", \"14\", \"15\", \"16\", \"17\", \"18\", \"19\", \"20\", \"21\", \"22\", \"23\", \"24\", \"25\", \"26\", \"27\", \"28\", \"29\", \"30\", \"31\", \"32\", \"33\", \"34\", \"35\", \"36\", \"37\", \"38\", \"39\", \"40\", \"41\", \"42\", \"43\", \"44\", \"45\", \"46\", \"47\", \"56\", \"57\"], \"mode\": \"markers\", \"name\": \"average_precision_score_macro\", \"stepped\": false, \"type\": \"scatter\", \"data\": [0.9961104269616887, 0.994582006511337, 0.9313025990184076, 0.9629923835490726, 0.9725837049233192, 0.9149168563853556, 0.9724735174371573, 0.851328297358922, 0.9617785975068619, 0.9916630619939133, 0.9405289405870846, 0.8935447100344849, 0.8876891848907296, 0.9862227356247857, 0.8972018371036953, 0.9855898154126871, 0.9304725175591736, 0.9339932784347171, 0.947422364799124, 0.9740839482329502, 0.955445479009134, 0.8624274292205613, 0.971789170054066, 0.9973005813357876, 0.98700117203449, 0.9217736119359132, 0.9994353139745005, 0.9972310891999638, 0.9972746908603541, 0.9971450025120516, 0.9783585418466441, 0.9956816618970477, 0.9867819294821212, 0.9724565269896217, 0.9806076294727131, 0.05359500910585132, 0.9750900144516675, 0.997217691156998, 0.987545998247491, 0.9963554646736634, 0.05467812354410353, 0.9703507508668195, 0.997053762155941, 0.9841868083683716, 0.9970245696951341, 0.13349180325455673, 0.9962807196034384, 0.9994633184020779, 0.999528552756796, 0.9993498971633171]}, {\"categories\": [\"0\", \"1\", \"2\", \"3\", \"4\", \"5\", \"6\", \"7\", \"8\", \"9\", \"10\", \"11\", \"12\", \"13\", \"14\", \"15\", \"16\", \"17\", \"18\", \"19\", \"20\", \"21\", \"22\", \"23\", \"24\", \"25\", \"26\", \"27\", \"28\", \"29\", \"30\", \"31\", \"32\", \"33\", \"34\", \"35\", \"36\", \"37\", \"38\", \"39\", \"40\", \"41\", \"42\", \"43\", \"44\", \"45\", \"46\", \"47\", \"56\", \"57\"], \"mode\": \"lines\", \"name\": \"average_precision_score_macro_max\", \"stepped\": true, \"type\": \"scatter\", \"data\": [0.9961104269616887, 0.9961104269616887, 0.9961104269616887, 0.9961104269616887, 0.9961104269616887, 0.9961104269616887, 0.9961104269616887, 0.9961104269616887, 0.9961104269616887, 0.9961104269616887, 0.9961104269616887, 0.9961104269616887, 0.9961104269616887, 0.9961104269616887, 0.9961104269616887, 0.9961104269616887, 0.9961104269616887, 0.9961104269616887, 0.9961104269616887, 0.9961104269616887, 0.9961104269616887, 0.9961104269616887, 0.9961104269616887, 0.9973005813357876, 0.9973005813357876, 0.9973005813357876, 0.9994353139745005, 0.9994353139745005, 0.9994353139745005, 0.9994353139745005, 0.9994353139745005, 0.9994353139745005, 0.9994353139745005, 0.9994353139745005, 0.9994353139745005, 0.9994353139745005, 0.9994353139745005, 0.9994353139745005, 0.9994353139745005, 0.9994353139745005, 0.9994353139745005, 0.9994353139745005, 0.9994353139745005, 0.9994353139745005, 0.9994353139745005, 0.9994353139745005, 0.9994353139745005, 0.9994633184020779, 0.999528552756796, 0.999528552756796]}], \"recall_score_weighted\": [{\"categories\": [\"0\", \"1\", \"2\", \"3\", \"4\", \"5\", \"6\", \"7\", \"8\", \"9\", \"10\", \"11\", \"12\", \"13\", \"14\", \"15\", \"16\", \"17\", \"18\", \"19\", \"20\", \"21\", \"22\", \"23\", \"24\", \"25\", \"26\", \"27\", \"28\", \"29\", \"30\", \"31\", \"32\", \"33\", \"34\", \"35\", \"36\", \"37\", \"38\", \"39\", \"40\", \"41\", \"42\", \"43\", \"44\", \"45\", \"46\", \"47\", \"56\", \"57\"], \"mode\": \"markers\", \"name\": \"recall_score_weighted\", \"stepped\": false, \"type\": \"scatter\", \"data\": [0.9717230609057783, 0.9658320319278154, 0.8668106888773208, 0.9163404476834982, 0.9281155648099947, 0.8509092486552143, 0.9222071837584591, 0.7743345479784834, 0.9139892417143848, 0.9652385910116259, 0.8856966857539476, 0.8143796633697727, 0.8185025160506679, 0.9564081207704321, 0.8426513968419226, 0.9510949158424433, 0.8744907166406385, 0.883343744577477, 0.8986534790907512, 0.929875065070276, 0.9033610966510498, 0.7855092833593614, 0.9381415929203539, 0.9835085892764186, 0.9457921221585979, 0.8497622765920527, 0.9923407947249696, 0.9846867950720111, 0.985276765573486, 0.9811573833073052, 0.9375446815894499, 0.9829134131528718, 0.9516727398924172, 0.9275238591011625, 0.9393059170570883, 0.03711087975013014, 0.9345878882526462, 0.9811573833073052, 0.9593527676557349, 0.9793857365955232, 0.08426513968419226, 0.926338712476141, 0.9793874718028805, 0.9452021516571231, 0.980565677598473, 0.0919174041297935, 0.9793857365955232, 0.9929290300190873, 0.9935207357279194, 0.9899843831337846]}, {\"categories\": [\"0\", \"1\", \"2\", \"3\", \"4\", \"5\", \"6\", \"7\", \"8\", \"9\", \"10\", \"11\", \"12\", \"13\", \"14\", \"15\", \"16\", \"17\", \"18\", \"19\", \"20\", \"21\", \"22\", \"23\", \"24\", \"25\", \"26\", \"27\", \"28\", \"29\", \"30\", \"31\", \"32\", \"33\", \"34\", \"35\", \"36\", \"37\", \"38\", \"39\", \"40\", \"41\", \"42\", \"43\", \"44\", \"45\", \"46\", \"47\", \"56\", \"57\"], \"mode\": \"lines\", \"name\": \"recall_score_weighted_max\", \"stepped\": true, \"type\": \"scatter\", \"data\": [0.9717230609057783, 0.9717230609057783, 0.9717230609057783, 0.9717230609057783, 0.9717230609057783, 0.9717230609057783, 0.9717230609057783, 0.9717230609057783, 0.9717230609057783, 0.9717230609057783, 0.9717230609057783, 0.9717230609057783, 0.9717230609057783, 0.9717230609057783, 0.9717230609057783, 0.9717230609057783, 0.9717230609057783, 0.9717230609057783, 0.9717230609057783, 0.9717230609057783, 0.9717230609057783, 0.9717230609057783, 0.9717230609057783, 0.9835085892764186, 0.9835085892764186, 0.9835085892764186, 0.9923407947249696, 0.9923407947249696, 0.9923407947249696, 0.9923407947249696, 0.9923407947249696, 0.9923407947249696, 0.9923407947249696, 0.9923407947249696, 0.9923407947249696, 0.9923407947249696, 0.9923407947249696, 0.9923407947249696, 0.9923407947249696, 0.9923407947249696, 0.9923407947249696, 0.9923407947249696, 0.9923407947249696, 0.9923407947249696, 0.9923407947249696, 0.9923407947249696, 0.9923407947249696, 0.9929290300190873, 0.9935207357279194, 0.9935207357279194]}], \"norm_macro_recall\": [{\"categories\": [\"0\", \"1\", \"2\", \"3\", \"4\", \"5\", \"6\", \"7\", \"8\", \"9\", \"10\", \"11\", \"12\", \"13\", \"14\", \"15\", \"16\", \"17\", \"18\", \"19\", \"20\", \"21\", \"22\", \"23\", \"24\", \"25\", \"26\", \"27\", \"28\", \"29\", \"30\", \"31\", \"32\", \"33\", \"34\", \"35\", \"36\", \"37\", \"38\", \"39\", \"40\", \"41\", \"42\", \"43\", \"44\", \"45\", \"46\", \"47\", \"56\", \"57\"], \"mode\": \"markers\", \"name\": \"norm_macro_recall\", \"stepped\": false, \"type\": \"scatter\", \"data\": [0.9698571006583743, 0.9632843667497728, 0.8531861010664917, 0.9092979116378409, 0.920099198127893, 0.8376750059283676, 0.9142212347326926, 0.7554514382541678, 0.9054087345263013, 0.9610431663317177, 0.8747951346235361, 0.798200081979805, 0.800073836101412, 0.952622252394199, 0.826644057721609, 0.9457451619295751, 0.8604848909667133, 0.8710852618330678, 0.8885379776489492, 0.9236488669222371, 0.8920200449030891, 0.7539748486088639, 0.9310776494091186, 0.9816709253909629, 0.9415392814514861, 0.8356992980116704, 0.9914625554004639, 0.9830573912218734, 0.9836579918224739, 0.9785518625266704, 0.9325020859689195, 0.981486201019792, 0.9460657423056251, 0.9199127184607285, 0.9327441370876548, 0.0, 0.9280929777005797, 0.9786753193167937, 0.954367576413607, 0.9770547706524548, 0.0, 0.9181931670860513, 0.9764675271090016, 0.9399978635706011, 0.9778577736605385, 0.0, 0.9772573026267655, 0.9921569998449083, 0.9930013406892492, 0.9882097768182663]}, {\"categories\": [\"0\", \"1\", \"2\", \"3\", \"4\", \"5\", \"6\", \"7\", \"8\", \"9\", \"10\", \"11\", \"12\", \"13\", \"14\", \"15\", \"16\", \"17\", \"18\", \"19\", \"20\", \"21\", \"22\", \"23\", \"24\", \"25\", \"26\", \"27\", \"28\", \"29\", \"30\", \"31\", \"32\", \"33\", \"34\", \"35\", \"36\", \"37\", \"38\", \"39\", \"40\", \"41\", \"42\", \"43\", \"44\", \"45\", \"46\", \"47\", \"56\", \"57\"], \"mode\": \"lines\", \"name\": \"norm_macro_recall_max\", \"stepped\": true, \"type\": \"scatter\", \"data\": [0.9698571006583743, 0.9698571006583743, 0.9698571006583743, 0.9698571006583743, 0.9698571006583743, 0.9698571006583743, 0.9698571006583743, 0.9698571006583743, 0.9698571006583743, 0.9698571006583743, 0.9698571006583743, 0.9698571006583743, 0.9698571006583743, 0.9698571006583743, 0.9698571006583743, 0.9698571006583743, 0.9698571006583743, 0.9698571006583743, 0.9698571006583743, 0.9698571006583743, 0.9698571006583743, 0.9698571006583743, 0.9698571006583743, 0.9816709253909629, 0.9816709253909629, 0.9816709253909629, 0.9914625554004639, 0.9914625554004639, 0.9914625554004639, 0.9914625554004639, 0.9914625554004639, 0.9914625554004639, 0.9914625554004639, 0.9914625554004639, 0.9914625554004639, 0.9914625554004639, 0.9914625554004639, 0.9914625554004639, 0.9914625554004639, 0.9914625554004639, 0.9914625554004639, 0.9914625554004639, 0.9914625554004639, 0.9914625554004639, 0.9914625554004639, 0.9914625554004639, 0.9914625554004639, 0.9921569998449083, 0.9930013406892492, 0.9930013406892492]}], \"recall_score_micro\": [{\"categories\": [\"0\", \"1\", \"2\", \"3\", \"4\", \"5\", \"6\", \"7\", \"8\", \"9\", \"10\", \"11\", \"12\", \"13\", \"14\", \"15\", \"16\", \"17\", \"18\", \"19\", \"20\", \"21\", \"22\", \"23\", \"24\", \"25\", \"26\", \"27\", \"28\", \"29\", \"30\", \"31\", \"32\", \"33\", \"34\", \"35\", \"36\", \"37\", \"38\", \"39\", \"40\", \"41\", \"42\", \"43\", \"44\", \"45\", \"46\", \"47\", \"56\", \"57\"], \"mode\": \"markers\", \"name\": \"recall_score_micro\", \"stepped\": false, \"type\": \"scatter\", \"data\": [0.9717230609057783, 0.9658320319278154, 0.8668106888773208, 0.9163404476834982, 0.9281155648099947, 0.8509092486552143, 0.9222071837584591, 0.7743345479784834, 0.9139892417143848, 0.9652385910116259, 0.8856966857539476, 0.8143796633697727, 0.8185025160506679, 0.9564081207704321, 0.8426513968419226, 0.9510949158424433, 0.8744907166406385, 0.883343744577477, 0.8986534790907512, 0.929875065070276, 0.9033610966510498, 0.7855092833593614, 0.9381415929203539, 0.9835085892764186, 0.9457921221585979, 0.8497622765920527, 0.9923407947249696, 0.9846867950720111, 0.985276765573486, 0.9811573833073052, 0.9375446815894499, 0.9829134131528718, 0.9516727398924172, 0.9275238591011625, 0.9393059170570883, 0.03711087975013014, 0.9345878882526462, 0.9811573833073052, 0.9593527676557349, 0.9793857365955232, 0.08426513968419226, 0.926338712476141, 0.9793874718028805, 0.9452021516571231, 0.980565677598473, 0.0919174041297935, 0.9793857365955232, 0.9929290300190873, 0.9935207357279194, 0.9899843831337846]}, {\"categories\": [\"0\", \"1\", \"2\", \"3\", \"4\", \"5\", \"6\", \"7\", \"8\", \"9\", \"10\", \"11\", \"12\", \"13\", \"14\", \"15\", \"16\", \"17\", \"18\", \"19\", \"20\", \"21\", \"22\", \"23\", \"24\", \"25\", \"26\", \"27\", \"28\", \"29\", \"30\", \"31\", \"32\", \"33\", \"34\", \"35\", \"36\", \"37\", \"38\", \"39\", \"40\", \"41\", \"42\", \"43\", \"44\", \"45\", \"46\", \"47\", \"56\", \"57\"], \"mode\": \"lines\", \"name\": \"recall_score_micro_max\", \"stepped\": true, \"type\": \"scatter\", \"data\": [0.9717230609057783, 0.9717230609057783, 0.9717230609057783, 0.9717230609057783, 0.9717230609057783, 0.9717230609057783, 0.9717230609057783, 0.9717230609057783, 0.9717230609057783, 0.9717230609057783, 0.9717230609057783, 0.9717230609057783, 0.9717230609057783, 0.9717230609057783, 0.9717230609057783, 0.9717230609057783, 0.9717230609057783, 0.9717230609057783, 0.9717230609057783, 0.9717230609057783, 0.9717230609057783, 0.9717230609057783, 0.9717230609057783, 0.9835085892764186, 0.9835085892764186, 0.9835085892764186, 0.9923407947249696, 0.9923407947249696, 0.9923407947249696, 0.9923407947249696, 0.9923407947249696, 0.9923407947249696, 0.9923407947249696, 0.9923407947249696, 0.9923407947249696, 0.9923407947249696, 0.9923407947249696, 0.9923407947249696, 0.9923407947249696, 0.9923407947249696, 0.9923407947249696, 0.9923407947249696, 0.9923407947249696, 0.9923407947249696, 0.9923407947249696, 0.9923407947249696, 0.9923407947249696, 0.9929290300190873, 0.9935207357279194, 0.9935207357279194]}], \"precision_score_micro\": [{\"categories\": [\"0\", \"1\", \"2\", \"3\", \"4\", \"5\", \"6\", \"7\", \"8\", \"9\", \"10\", \"11\", \"12\", \"13\", \"14\", \"15\", \"16\", \"17\", \"18\", \"19\", \"20\", \"21\", \"22\", \"23\", \"24\", \"25\", \"26\", \"27\", \"28\", \"29\", \"30\", \"31\", \"32\", \"33\", \"34\", \"35\", \"36\", \"37\", \"38\", \"39\", \"40\", \"41\", \"42\", \"43\", \"44\", \"45\", \"46\", \"47\", \"56\", \"57\"], \"mode\": \"markers\", \"name\": \"precision_score_micro\", \"stepped\": false, \"type\": \"scatter\", \"data\": [0.9717230609057783, 0.9658320319278154, 0.8668106888773208, 0.9163404476834982, 0.9281155648099947, 0.8509092486552143, 0.9222071837584591, 0.7743345479784834, 0.9139892417143848, 0.9652385910116259, 0.8856966857539476, 0.8143796633697727, 0.8185025160506679, 0.9564081207704321, 0.8426513968419226, 0.9510949158424433, 0.8744907166406385, 0.883343744577477, 0.8986534790907512, 0.929875065070276, 0.9033610966510498, 0.7855092833593614, 0.9381415929203539, 0.9835085892764186, 0.9457921221585979, 0.8497622765920527, 0.9923407947249696, 0.9846867950720111, 0.985276765573486, 0.9811573833073052, 0.9375446815894499, 0.9829134131528718, 0.9516727398924172, 0.9275238591011625, 0.9393059170570883, 0.03711087975013014, 0.9345878882526462, 0.9811573833073052, 0.9593527676557349, 0.9793857365955232, 0.08426513968419226, 0.926338712476141, 0.9793874718028805, 0.9452021516571231, 0.980565677598473, 0.0919174041297935, 0.9793857365955232, 0.9929290300190873, 0.9935207357279194, 0.9899843831337846]}, {\"categories\": [\"0\", \"1\", \"2\", \"3\", \"4\", \"5\", \"6\", \"7\", \"8\", \"9\", \"10\", \"11\", \"12\", \"13\", \"14\", \"15\", \"16\", \"17\", \"18\", \"19\", \"20\", \"21\", \"22\", \"23\", \"24\", \"25\", \"26\", \"27\", \"28\", \"29\", \"30\", \"31\", \"32\", \"33\", \"34\", \"35\", \"36\", \"37\", \"38\", \"39\", \"40\", \"41\", \"42\", \"43\", \"44\", \"45\", \"46\", \"47\", \"56\", \"57\"], \"mode\": \"lines\", \"name\": \"precision_score_micro_max\", \"stepped\": true, \"type\": \"scatter\", \"data\": [0.9717230609057783, 0.9717230609057783, 0.9717230609057783, 0.9717230609057783, 0.9717230609057783, 0.9717230609057783, 0.9717230609057783, 0.9717230609057783, 0.9717230609057783, 0.9717230609057783, 0.9717230609057783, 0.9717230609057783, 0.9717230609057783, 0.9717230609057783, 0.9717230609057783, 0.9717230609057783, 0.9717230609057783, 0.9717230609057783, 0.9717230609057783, 0.9717230609057783, 0.9717230609057783, 0.9717230609057783, 0.9717230609057783, 0.9835085892764186, 0.9835085892764186, 0.9835085892764186, 0.9923407947249696, 0.9923407947249696, 0.9923407947249696, 0.9923407947249696, 0.9923407947249696, 0.9923407947249696, 0.9923407947249696, 0.9923407947249696, 0.9923407947249696, 0.9923407947249696, 0.9923407947249696, 0.9923407947249696, 0.9923407947249696, 0.9923407947249696, 0.9923407947249696, 0.9923407947249696, 0.9923407947249696, 0.9923407947249696, 0.9923407947249696, 0.9923407947249696, 0.9923407947249696, 0.9929290300190873, 0.9935207357279194, 0.9935207357279194]}]}, \"metricName\": null, \"primaryMetricName\": \"AUC_weighted\", \"showLegend\": false}, \"run_metrics\": [{\"name\": \"experiment_status\", \"run_id\": \"AutoML_3d5d6ba0-f3ac-4b65-82f1-eebd553cf63b\", \"categories\": [0, 1, 2, 3, 4, 5], \"series\": [{\"data\": [\"DatasetEvaluation\", \"FeaturesGeneration\", \"DatasetFeaturization\", \"DatasetFeaturizationCompleted\", \"DatasetCrossValidationSplit\", \"ModelSelection\"]}]}, {\"name\": \"experiment_status_description\", \"run_id\": \"AutoML_3d5d6ba0-f3ac-4b65-82f1-eebd553cf63b\", \"categories\": [0, 1, 2, 3, 4, 5], \"series\": [{\"data\": [\"Gathering dataset statistics.\", \"Generating features for the dataset.\", \"Beginning to fit featurizers and featurize the dataset.\", \"Completed fit featurizers and featurizing the dataset.\", \"Generating individually featurized CV splits.\", \"Beginning model selection.\"]}]}, {\"name\": \"f1_score_macro\", \"run_id\": \"AutoML_3d5d6ba0-f3ac-4b65-82f1-eebd553cf63b\", \"categories\": [0], \"series\": [{\"data\": [0.9936528319052751]}]}, {\"name\": \"AUC_macro\", \"run_id\": \"AutoML_3d5d6ba0-f3ac-4b65-82f1-eebd553cf63b\", \"categories\": [0], \"series\": [{\"data\": [0.9999382413314072]}]}, {\"name\": \"balanced_accuracy\", \"run_id\": \"AutoML_3d5d6ba0-f3ac-4b65-82f1-eebd553cf63b\", \"categories\": [0], \"series\": [{\"data\": [0.9937012066203241]}]}, {\"name\": \"AUC_micro\", \"run_id\": \"AutoML_3d5d6ba0-f3ac-4b65-82f1-eebd553cf63b\", \"categories\": [0], \"series\": [{\"data\": [0.9999541836256866]}]}, {\"name\": \"recall_score_weighted\", \"run_id\": \"AutoML_3d5d6ba0-f3ac-4b65-82f1-eebd553cf63b\", \"categories\": [0], \"series\": [{\"data\": [0.9935207357279194]}]}, {\"name\": \"norm_macro_recall\", \"run_id\": \"AutoML_3d5d6ba0-f3ac-4b65-82f1-eebd553cf63b\", \"categories\": [0], \"series\": [{\"data\": [0.9930013406892492]}]}, {\"name\": \"f1_score_weighted\", \"run_id\": \"AutoML_3d5d6ba0-f3ac-4b65-82f1-eebd553cf63b\", \"categories\": [0], \"series\": [{\"data\": [0.9935362853562728]}]}, {\"name\": \"average_precision_score_macro\", \"run_id\": \"AutoML_3d5d6ba0-f3ac-4b65-82f1-eebd553cf63b\", \"categories\": [0], \"series\": [{\"data\": [0.999528552756796]}]}, {\"name\": \"precision_score_micro\", \"run_id\": \"AutoML_3d5d6ba0-f3ac-4b65-82f1-eebd553cf63b\", \"categories\": [0], \"series\": [{\"data\": [0.9935207357279194]}]}, {\"name\": \"matthews_correlation\", \"run_id\": \"AutoML_3d5d6ba0-f3ac-4b65-82f1-eebd553cf63b\", \"categories\": [0], \"series\": [{\"data\": [0.9928064643264939]}]}, {\"name\": \"accuracy\", \"run_id\": \"AutoML_3d5d6ba0-f3ac-4b65-82f1-eebd553cf63b\", \"categories\": [0], \"series\": [{\"data\": [0.9935207357279194]}]}, {\"name\": \"average_precision_score_micro\", \"run_id\": \"AutoML_3d5d6ba0-f3ac-4b65-82f1-eebd553cf63b\", \"categories\": [0], \"series\": [{\"data\": [0.999621670867841]}]}, {\"name\": \"log_loss\", \"run_id\": \"AutoML_3d5d6ba0-f3ac-4b65-82f1-eebd553cf63b\", \"categories\": [0], \"series\": [{\"data\": [0.11834882224715455]}]}, {\"name\": \"precision_score_macro\", \"run_id\": \"AutoML_3d5d6ba0-f3ac-4b65-82f1-eebd553cf63b\", \"categories\": [0], \"series\": [{\"data\": [0.9937847615520028]}]}, {\"name\": \"AUC_weighted\", \"run_id\": \"AutoML_3d5d6ba0-f3ac-4b65-82f1-eebd553cf63b\", \"categories\": [0], \"series\": [{\"data\": [0.9999362467163821]}]}, {\"name\": \"precision_score_weighted\", \"run_id\": \"AutoML_3d5d6ba0-f3ac-4b65-82f1-eebd553cf63b\", \"categories\": [0], \"series\": [{\"data\": [0.9937333023817289]}]}, {\"name\": \"average_precision_score_weighted\", \"run_id\": \"AutoML_3d5d6ba0-f3ac-4b65-82f1-eebd553cf63b\", \"categories\": [0], \"series\": [{\"data\": [0.9995133018064548]}]}, {\"name\": \"recall_score_micro\", \"run_id\": \"AutoML_3d5d6ba0-f3ac-4b65-82f1-eebd553cf63b\", \"categories\": [0], \"series\": [{\"data\": [0.9935207357279194]}]}, {\"name\": \"f1_score_micro\", \"run_id\": \"AutoML_3d5d6ba0-f3ac-4b65-82f1-eebd553cf63b\", \"categories\": [0], \"series\": [{\"data\": [0.9935207357279194]}]}, {\"name\": \"recall_score_macro\", \"run_id\": \"AutoML_3d5d6ba0-f3ac-4b65-82f1-eebd553cf63b\", \"categories\": [0], \"series\": [{\"data\": [0.9937012066203241]}]}, {\"name\": \"weighted_accuracy\", \"run_id\": \"AutoML_3d5d6ba0-f3ac-4b65-82f1-eebd553cf63b\", \"categories\": [0], \"series\": [{\"data\": [0.993398768754685]}]}], \"run_logs\": \"\\nRun is completed.\", \"graph\": {}, \"widget_settings\": {\"childWidgetDisplay\": \"popup\", \"send_telemetry\": false, \"log_level\": \"INFO\", \"sdk_version\": \"1.20.0\"}, \"loading\": false}"
          },
          "metadata": {}
        }
      ],
      "execution_count": 15,
      "metadata": {
        "gather": {
          "logged": 1612692542062
        },
        "jupyter": {
          "outputs_hidden": false,
          "source_hidden": false
        },
        "nteract": {
          "transient": {
            "deleting": false
          }
        }
      }
    },
    {
      "cell_type": "code",
      "source": [
        "children = list(remote_run.get_children())\n",
        "metricslist = {}\n",
        "for run in children:\n",
        "    properties = run.get_properties()\n",
        "    metrics = {k: v for k, v in run.get_metrics().items() if isinstance(v, float)}\n",
        "    metricslist[int(properties['iteration'])] = metrics\n",
        "\n",
        "import pandas as pd\n",
        "rundata = pd.DataFrame(metricslist).sort_index(1)\n",
        "rundata"
      ],
      "outputs": [
        {
          "output_type": "execute_result",
          "execution_count": 16,
          "data": {
            "text/plain": "                                         0         1         2         3  \\\nweighted_accuracy                 0.970819  0.964709  0.865567  0.914493   \nrecall_score_macro                0.972871  0.966956  0.867867  0.918368   \nf1_score_macro                    0.971599  0.965691  0.865198  0.914825   \nf1_score_micro                    0.971723  0.965832  0.866811  0.916340   \naverage_precision_score_micro     0.995619  0.994407  0.933868  0.960601   \nmatthews_correlation              0.968621  0.962129  0.852438  0.907503   \nbalanced_accuracy                 0.972871  0.966956  0.867867  0.918368   \naverage_precision_score_macro     0.996110  0.994582  0.931303  0.962992   \nrecall_score_micro                0.971723  0.965832  0.866811  0.916340   \nAUC_weighted                      0.999341  0.999124  0.985896  0.992856   \nprecision_score_macro             0.971306  0.965905  0.868713  0.917270   \naverage_precision_score_weighted  0.995993  0.994749  0.932386  0.963793   \nlog_loss                          0.093565  0.122223  0.841482  1.069305   \nprecision_score_weighted          0.972846  0.967643  0.871029  0.921359   \nf1_score_weighted                 0.971825  0.966012  0.865816  0.916089   \nAUC_micro                         0.999283  0.999121  0.986992  0.992838   \nprecision_score_micro             0.971723  0.965832  0.866811  0.916340   \nnorm_macro_recall                 0.969857  0.963284  0.853186  0.909298   \nrecall_score_weighted             0.971723  0.965832  0.866811  0.916340   \naccuracy                          0.971723  0.965832  0.866811  0.916340   \nAUC_macro                         0.999375  0.999118  0.985980  0.992787   \n\n                                         4         5         6         7  \\\nweighted_accuracy                 0.927988  0.847546  0.921275  0.769292   \nrecall_score_macro                0.928089  0.853908  0.922799  0.779906   \nf1_score_macro                    0.926950  0.847563  0.922084  0.756580   \nf1_score_micro                    0.928116  0.850909  0.922207  0.774335   \naverage_precision_score_micro     0.975917  0.916103  0.974863  0.841809   \nmatthews_correlation              0.920316  0.835427  0.913726  0.753180   \nbalanced_accuracy                 0.928089  0.853908  0.922799  0.779906   \naverage_precision_score_macro     0.972584  0.914917  0.972474  0.851328   \nrecall_score_micro                0.928116  0.850909  0.922207  0.774335   \nAUC_weighted                      0.995109  0.981873  0.994865  0.965151   \nprecision_score_macro             0.929140  0.853903  0.924563  0.774345   \naverage_precision_score_weighted  0.973274  0.915520  0.972819  0.852501   \nlog_loss                          0.650012  0.942782  0.554517  1.148546   \nprecision_score_weighted          0.931204  0.859304  0.924789  0.779023   \nf1_score_weighted                 0.928048  0.849234  0.921903  0.755562   \nAUC_micro                         0.995648  0.982672  0.995520  0.966279   \nprecision_score_micro             0.928116  0.850909  0.922207  0.774335   \nnorm_macro_recall                 0.920099  0.837675  0.914221  0.755451   \nrecall_score_weighted             0.928116  0.850909  0.922207  0.774335   \naccuracy                          0.928116  0.850909  0.922207  0.774335   \nAUC_macro                         0.995070  0.982108  0.994873  0.965724   \n\n                                         8         9  ...  48  49  50  51  52  \\\nweighted_accuracy                 0.912683  0.965527  ... NaN NaN NaN NaN NaN   \nrecall_score_macro                0.914868  0.964939  ... NaN NaN NaN NaN NaN   \nf1_score_macro                    0.912386  0.963804  ... NaN NaN NaN NaN NaN   \nf1_score_micro                    0.913989  0.965239  ... NaN NaN NaN NaN NaN   \naverage_precision_score_micro     0.963618  0.993327  ... NaN NaN NaN NaN NaN   \nmatthews_correlation              0.904709  0.961492  ... NaN NaN NaN NaN NaN   \nbalanced_accuracy                 0.914868  0.964939  ... NaN NaN NaN NaN NaN   \naverage_precision_score_macro     0.961779  0.991663  ... NaN NaN NaN NaN NaN   \nrecall_score_micro                0.913989  0.965239  ... NaN NaN NaN NaN NaN   \nAUC_weighted                      0.993055  0.998644  ... NaN NaN NaN NaN NaN   \nprecision_score_macro             0.914065  0.964622  ... NaN NaN NaN NaN NaN   \naverage_precision_score_weighted  0.962055  0.992819  ... NaN NaN NaN NaN NaN   \nlog_loss                          0.790757  0.179115  ... NaN NaN NaN NaN NaN   \nprecision_score_weighted          0.916603  0.966538  ... NaN NaN NaN NaN NaN   \nf1_score_weighted                 0.913256  0.964950  ... NaN NaN NaN NaN NaN   \nAUC_micro                         0.993776  0.998757  ... NaN NaN NaN NaN NaN   \nprecision_score_micro             0.913989  0.965239  ... NaN NaN NaN NaN NaN   \nnorm_macro_recall                 0.905409  0.961043  ... NaN NaN NaN NaN NaN   \nrecall_score_weighted             0.913989  0.965239  ... NaN NaN NaN NaN NaN   \naccuracy                          0.913989  0.965239  ... NaN NaN NaN NaN NaN   \nAUC_macro                         0.993068  0.998537  ... NaN NaN NaN NaN NaN   \n\n                                  53  54  55        56        57  \nweighted_accuracy                NaN NaN NaN  0.993399  0.990451  \nrecall_score_macro               NaN NaN NaN  0.993701  0.989389  \nf1_score_macro                   NaN NaN NaN  0.993653  0.989791  \nf1_score_micro                   NaN NaN NaN  0.993521  0.989984  \naverage_precision_score_micro    NaN NaN NaN  0.999622  0.999193  \nmatthews_correlation             NaN NaN NaN  0.992806  0.988878  \nbalanced_accuracy                NaN NaN NaN  0.993701  0.989389  \naverage_precision_score_macro    NaN NaN NaN  0.999529  0.999350  \nrecall_score_micro               NaN NaN NaN  0.993521  0.989984  \nAUC_weighted                     NaN NaN NaN  0.999936  0.999911  \nprecision_score_macro            NaN NaN NaN  0.993785  0.990518  \naverage_precision_score_weighted NaN NaN NaN  0.999513  0.999336  \nlog_loss                         NaN NaN NaN  0.118349  0.054599  \nprecision_score_weighted         NaN NaN NaN  0.993733  0.990341  \nf1_score_weighted                NaN NaN NaN  0.993536  0.990009  \nAUC_micro                        NaN NaN NaN  0.999954  0.999894  \nprecision_score_micro            NaN NaN NaN  0.993521  0.989984  \nnorm_macro_recall                NaN NaN NaN  0.993001  0.988210  \nrecall_score_weighted            NaN NaN NaN  0.993521  0.989984  \naccuracy                         NaN NaN NaN  0.993521  0.989984  \nAUC_macro                        NaN NaN NaN  0.999938  0.999914  \n\n[21 rows x 58 columns]",
            "text/html": "<div>\n<style scoped>\n    .dataframe tbody tr th:only-of-type {\n        vertical-align: middle;\n    }\n\n    .dataframe tbody tr th {\n        vertical-align: top;\n    }\n\n    .dataframe thead th {\n        text-align: right;\n    }\n</style>\n<table border=\"1\" class=\"dataframe\">\n  <thead>\n    <tr style=\"text-align: right;\">\n      <th></th>\n      <th>0</th>\n      <th>1</th>\n      <th>2</th>\n      <th>3</th>\n      <th>4</th>\n      <th>5</th>\n      <th>6</th>\n      <th>7</th>\n      <th>8</th>\n      <th>9</th>\n      <th>...</th>\n      <th>48</th>\n      <th>49</th>\n      <th>50</th>\n      <th>51</th>\n      <th>52</th>\n      <th>53</th>\n      <th>54</th>\n      <th>55</th>\n      <th>56</th>\n      <th>57</th>\n    </tr>\n  </thead>\n  <tbody>\n    <tr>\n      <th>weighted_accuracy</th>\n      <td>0.970819</td>\n      <td>0.964709</td>\n      <td>0.865567</td>\n      <td>0.914493</td>\n      <td>0.927988</td>\n      <td>0.847546</td>\n      <td>0.921275</td>\n      <td>0.769292</td>\n      <td>0.912683</td>\n      <td>0.965527</td>\n      <td>...</td>\n      <td>NaN</td>\n      <td>NaN</td>\n      <td>NaN</td>\n      <td>NaN</td>\n      <td>NaN</td>\n      <td>NaN</td>\n      <td>NaN</td>\n      <td>NaN</td>\n      <td>0.993399</td>\n      <td>0.990451</td>\n    </tr>\n    <tr>\n      <th>recall_score_macro</th>\n      <td>0.972871</td>\n      <td>0.966956</td>\n      <td>0.867867</td>\n      <td>0.918368</td>\n      <td>0.928089</td>\n      <td>0.853908</td>\n      <td>0.922799</td>\n      <td>0.779906</td>\n      <td>0.914868</td>\n      <td>0.964939</td>\n      <td>...</td>\n      <td>NaN</td>\n      <td>NaN</td>\n      <td>NaN</td>\n      <td>NaN</td>\n      <td>NaN</td>\n      <td>NaN</td>\n      <td>NaN</td>\n      <td>NaN</td>\n      <td>0.993701</td>\n      <td>0.989389</td>\n    </tr>\n    <tr>\n      <th>f1_score_macro</th>\n      <td>0.971599</td>\n      <td>0.965691</td>\n      <td>0.865198</td>\n      <td>0.914825</td>\n      <td>0.926950</td>\n      <td>0.847563</td>\n      <td>0.922084</td>\n      <td>0.756580</td>\n      <td>0.912386</td>\n      <td>0.963804</td>\n      <td>...</td>\n      <td>NaN</td>\n      <td>NaN</td>\n      <td>NaN</td>\n      <td>NaN</td>\n      <td>NaN</td>\n      <td>NaN</td>\n      <td>NaN</td>\n      <td>NaN</td>\n      <td>0.993653</td>\n      <td>0.989791</td>\n    </tr>\n    <tr>\n      <th>f1_score_micro</th>\n      <td>0.971723</td>\n      <td>0.965832</td>\n      <td>0.866811</td>\n      <td>0.916340</td>\n      <td>0.928116</td>\n      <td>0.850909</td>\n      <td>0.922207</td>\n      <td>0.774335</td>\n      <td>0.913989</td>\n      <td>0.965239</td>\n      <td>...</td>\n      <td>NaN</td>\n      <td>NaN</td>\n      <td>NaN</td>\n      <td>NaN</td>\n      <td>NaN</td>\n      <td>NaN</td>\n      <td>NaN</td>\n      <td>NaN</td>\n      <td>0.993521</td>\n      <td>0.989984</td>\n    </tr>\n    <tr>\n      <th>average_precision_score_micro</th>\n      <td>0.995619</td>\n      <td>0.994407</td>\n      <td>0.933868</td>\n      <td>0.960601</td>\n      <td>0.975917</td>\n      <td>0.916103</td>\n      <td>0.974863</td>\n      <td>0.841809</td>\n      <td>0.963618</td>\n      <td>0.993327</td>\n      <td>...</td>\n      <td>NaN</td>\n      <td>NaN</td>\n      <td>NaN</td>\n      <td>NaN</td>\n      <td>NaN</td>\n      <td>NaN</td>\n      <td>NaN</td>\n      <td>NaN</td>\n      <td>0.999622</td>\n      <td>0.999193</td>\n    </tr>\n    <tr>\n      <th>matthews_correlation</th>\n      <td>0.968621</td>\n      <td>0.962129</td>\n      <td>0.852438</td>\n      <td>0.907503</td>\n      <td>0.920316</td>\n      <td>0.835427</td>\n      <td>0.913726</td>\n      <td>0.753180</td>\n      <td>0.904709</td>\n      <td>0.961492</td>\n      <td>...</td>\n      <td>NaN</td>\n      <td>NaN</td>\n      <td>NaN</td>\n      <td>NaN</td>\n      <td>NaN</td>\n      <td>NaN</td>\n      <td>NaN</td>\n      <td>NaN</td>\n      <td>0.992806</td>\n      <td>0.988878</td>\n    </tr>\n    <tr>\n      <th>balanced_accuracy</th>\n      <td>0.972871</td>\n      <td>0.966956</td>\n      <td>0.867867</td>\n      <td>0.918368</td>\n      <td>0.928089</td>\n      <td>0.853908</td>\n      <td>0.922799</td>\n      <td>0.779906</td>\n      <td>0.914868</td>\n      <td>0.964939</td>\n      <td>...</td>\n      <td>NaN</td>\n      <td>NaN</td>\n      <td>NaN</td>\n      <td>NaN</td>\n      <td>NaN</td>\n      <td>NaN</td>\n      <td>NaN</td>\n      <td>NaN</td>\n      <td>0.993701</td>\n      <td>0.989389</td>\n    </tr>\n    <tr>\n      <th>average_precision_score_macro</th>\n      <td>0.996110</td>\n      <td>0.994582</td>\n      <td>0.931303</td>\n      <td>0.962992</td>\n      <td>0.972584</td>\n      <td>0.914917</td>\n      <td>0.972474</td>\n      <td>0.851328</td>\n      <td>0.961779</td>\n      <td>0.991663</td>\n      <td>...</td>\n      <td>NaN</td>\n      <td>NaN</td>\n      <td>NaN</td>\n      <td>NaN</td>\n      <td>NaN</td>\n      <td>NaN</td>\n      <td>NaN</td>\n      <td>NaN</td>\n      <td>0.999529</td>\n      <td>0.999350</td>\n    </tr>\n    <tr>\n      <th>recall_score_micro</th>\n      <td>0.971723</td>\n      <td>0.965832</td>\n      <td>0.866811</td>\n      <td>0.916340</td>\n      <td>0.928116</td>\n      <td>0.850909</td>\n      <td>0.922207</td>\n      <td>0.774335</td>\n      <td>0.913989</td>\n      <td>0.965239</td>\n      <td>...</td>\n      <td>NaN</td>\n      <td>NaN</td>\n      <td>NaN</td>\n      <td>NaN</td>\n      <td>NaN</td>\n      <td>NaN</td>\n      <td>NaN</td>\n      <td>NaN</td>\n      <td>0.993521</td>\n      <td>0.989984</td>\n    </tr>\n    <tr>\n      <th>AUC_weighted</th>\n      <td>0.999341</td>\n      <td>0.999124</td>\n      <td>0.985896</td>\n      <td>0.992856</td>\n      <td>0.995109</td>\n      <td>0.981873</td>\n      <td>0.994865</td>\n      <td>0.965151</td>\n      <td>0.993055</td>\n      <td>0.998644</td>\n      <td>...</td>\n      <td>NaN</td>\n      <td>NaN</td>\n      <td>NaN</td>\n      <td>NaN</td>\n      <td>NaN</td>\n      <td>NaN</td>\n      <td>NaN</td>\n      <td>NaN</td>\n      <td>0.999936</td>\n      <td>0.999911</td>\n    </tr>\n    <tr>\n      <th>precision_score_macro</th>\n      <td>0.971306</td>\n      <td>0.965905</td>\n      <td>0.868713</td>\n      <td>0.917270</td>\n      <td>0.929140</td>\n      <td>0.853903</td>\n      <td>0.924563</td>\n      <td>0.774345</td>\n      <td>0.914065</td>\n      <td>0.964622</td>\n      <td>...</td>\n      <td>NaN</td>\n      <td>NaN</td>\n      <td>NaN</td>\n      <td>NaN</td>\n      <td>NaN</td>\n      <td>NaN</td>\n      <td>NaN</td>\n      <td>NaN</td>\n      <td>0.993785</td>\n      <td>0.990518</td>\n    </tr>\n    <tr>\n      <th>average_precision_score_weighted</th>\n      <td>0.995993</td>\n      <td>0.994749</td>\n      <td>0.932386</td>\n      <td>0.963793</td>\n      <td>0.973274</td>\n      <td>0.915520</td>\n      <td>0.972819</td>\n      <td>0.852501</td>\n      <td>0.962055</td>\n      <td>0.992819</td>\n      <td>...</td>\n      <td>NaN</td>\n      <td>NaN</td>\n      <td>NaN</td>\n      <td>NaN</td>\n      <td>NaN</td>\n      <td>NaN</td>\n      <td>NaN</td>\n      <td>NaN</td>\n      <td>0.999513</td>\n      <td>0.999336</td>\n    </tr>\n    <tr>\n      <th>log_loss</th>\n      <td>0.093565</td>\n      <td>0.122223</td>\n      <td>0.841482</td>\n      <td>1.069305</td>\n      <td>0.650012</td>\n      <td>0.942782</td>\n      <td>0.554517</td>\n      <td>1.148546</td>\n      <td>0.790757</td>\n      <td>0.179115</td>\n      <td>...</td>\n      <td>NaN</td>\n      <td>NaN</td>\n      <td>NaN</td>\n      <td>NaN</td>\n      <td>NaN</td>\n      <td>NaN</td>\n      <td>NaN</td>\n      <td>NaN</td>\n      <td>0.118349</td>\n      <td>0.054599</td>\n    </tr>\n    <tr>\n      <th>precision_score_weighted</th>\n      <td>0.972846</td>\n      <td>0.967643</td>\n      <td>0.871029</td>\n      <td>0.921359</td>\n      <td>0.931204</td>\n      <td>0.859304</td>\n      <td>0.924789</td>\n      <td>0.779023</td>\n      <td>0.916603</td>\n      <td>0.966538</td>\n      <td>...</td>\n      <td>NaN</td>\n      <td>NaN</td>\n      <td>NaN</td>\n      <td>NaN</td>\n      <td>NaN</td>\n      <td>NaN</td>\n      <td>NaN</td>\n      <td>NaN</td>\n      <td>0.993733</td>\n      <td>0.990341</td>\n    </tr>\n    <tr>\n      <th>f1_score_weighted</th>\n      <td>0.971825</td>\n      <td>0.966012</td>\n      <td>0.865816</td>\n      <td>0.916089</td>\n      <td>0.928048</td>\n      <td>0.849234</td>\n      <td>0.921903</td>\n      <td>0.755562</td>\n      <td>0.913256</td>\n      <td>0.964950</td>\n      <td>...</td>\n      <td>NaN</td>\n      <td>NaN</td>\n      <td>NaN</td>\n      <td>NaN</td>\n      <td>NaN</td>\n      <td>NaN</td>\n      <td>NaN</td>\n      <td>NaN</td>\n      <td>0.993536</td>\n      <td>0.990009</td>\n    </tr>\n    <tr>\n      <th>AUC_micro</th>\n      <td>0.999283</td>\n      <td>0.999121</td>\n      <td>0.986992</td>\n      <td>0.992838</td>\n      <td>0.995648</td>\n      <td>0.982672</td>\n      <td>0.995520</td>\n      <td>0.966279</td>\n      <td>0.993776</td>\n      <td>0.998757</td>\n      <td>...</td>\n      <td>NaN</td>\n      <td>NaN</td>\n      <td>NaN</td>\n      <td>NaN</td>\n      <td>NaN</td>\n      <td>NaN</td>\n      <td>NaN</td>\n      <td>NaN</td>\n      <td>0.999954</td>\n      <td>0.999894</td>\n    </tr>\n    <tr>\n      <th>precision_score_micro</th>\n      <td>0.971723</td>\n      <td>0.965832</td>\n      <td>0.866811</td>\n      <td>0.916340</td>\n      <td>0.928116</td>\n      <td>0.850909</td>\n      <td>0.922207</td>\n      <td>0.774335</td>\n      <td>0.913989</td>\n      <td>0.965239</td>\n      <td>...</td>\n      <td>NaN</td>\n      <td>NaN</td>\n      <td>NaN</td>\n      <td>NaN</td>\n      <td>NaN</td>\n      <td>NaN</td>\n      <td>NaN</td>\n      <td>NaN</td>\n      <td>0.993521</td>\n      <td>0.989984</td>\n    </tr>\n    <tr>\n      <th>norm_macro_recall</th>\n      <td>0.969857</td>\n      <td>0.963284</td>\n      <td>0.853186</td>\n      <td>0.909298</td>\n      <td>0.920099</td>\n      <td>0.837675</td>\n      <td>0.914221</td>\n      <td>0.755451</td>\n      <td>0.905409</td>\n      <td>0.961043</td>\n      <td>...</td>\n      <td>NaN</td>\n      <td>NaN</td>\n      <td>NaN</td>\n      <td>NaN</td>\n      <td>NaN</td>\n      <td>NaN</td>\n      <td>NaN</td>\n      <td>NaN</td>\n      <td>0.993001</td>\n      <td>0.988210</td>\n    </tr>\n    <tr>\n      <th>recall_score_weighted</th>\n      <td>0.971723</td>\n      <td>0.965832</td>\n      <td>0.866811</td>\n      <td>0.916340</td>\n      <td>0.928116</td>\n      <td>0.850909</td>\n      <td>0.922207</td>\n      <td>0.774335</td>\n      <td>0.913989</td>\n      <td>0.965239</td>\n      <td>...</td>\n      <td>NaN</td>\n      <td>NaN</td>\n      <td>NaN</td>\n      <td>NaN</td>\n      <td>NaN</td>\n      <td>NaN</td>\n      <td>NaN</td>\n      <td>NaN</td>\n      <td>0.993521</td>\n      <td>0.989984</td>\n    </tr>\n    <tr>\n      <th>accuracy</th>\n      <td>0.971723</td>\n      <td>0.965832</td>\n      <td>0.866811</td>\n      <td>0.916340</td>\n      <td>0.928116</td>\n      <td>0.850909</td>\n      <td>0.922207</td>\n      <td>0.774335</td>\n      <td>0.913989</td>\n      <td>0.965239</td>\n      <td>...</td>\n      <td>NaN</td>\n      <td>NaN</td>\n      <td>NaN</td>\n      <td>NaN</td>\n      <td>NaN</td>\n      <td>NaN</td>\n      <td>NaN</td>\n      <td>NaN</td>\n      <td>0.993521</td>\n      <td>0.989984</td>\n    </tr>\n    <tr>\n      <th>AUC_macro</th>\n      <td>0.999375</td>\n      <td>0.999118</td>\n      <td>0.985980</td>\n      <td>0.992787</td>\n      <td>0.995070</td>\n      <td>0.982108</td>\n      <td>0.994873</td>\n      <td>0.965724</td>\n      <td>0.993068</td>\n      <td>0.998537</td>\n      <td>...</td>\n      <td>NaN</td>\n      <td>NaN</td>\n      <td>NaN</td>\n      <td>NaN</td>\n      <td>NaN</td>\n      <td>NaN</td>\n      <td>NaN</td>\n      <td>NaN</td>\n      <td>0.999938</td>\n      <td>0.999914</td>\n    </tr>\n  </tbody>\n</table>\n<p>21 rows × 58 columns</p>\n</div>"
          },
          "metadata": {}
        }
      ],
      "execution_count": 16,
      "metadata": {
        "gather": {
          "logged": 1612692704528
        }
      }
    },
    {
      "cell_type": "markdown",
      "source": [
        "## Best Model\n",
        "\n",
        "TODO: In the cell below, get the best model from the automl experiments and display all the properties of the model.\n",
        "\n"
      ],
      "metadata": {}
    },
    {
      "cell_type": "code",
      "source": [
        "best_run, fitted_model = remote_run.get_output()\n",
        "best_run_metrics = best_run.get_metrics()"
      ],
      "outputs": [
        {
          "output_type": "stream",
          "name": "stderr",
          "text": [
            "WARNING:root:The version of the SDK does not match the version the model was trained on.\n",
            "WARNING:root:The consistency in the result may not be guaranteed.\n",
            "WARNING:root:Package:azureml-automl-core, training version:1.21.0, current version:1.20.0\n",
            "Package:azureml-automl-runtime, training version:1.21.0, current version:1.20.0\n",
            "Package:azureml-core, training version:1.21.0.post1, current version:1.20.0\n",
            "Package:azureml-dataprep, training version:2.8.2, current version:2.7.3\n",
            "Package:azureml-dataprep-native, training version:28.0.0, current version:27.0.0\n",
            "Package:azureml-dataprep-rslex, training version:1.6.0, current version:1.5.0\n",
            "Package:azureml-dataset-runtime, training version:1.21.0, current version:1.20.0\n",
            "Package:azureml-defaults, training version:1.21.0, current version:1.20.0\n",
            "Package:azureml-interpret, training version:1.21.0, current version:1.20.0\n",
            "Package:azureml-pipeline-core, training version:1.21.0, current version:1.20.0\n",
            "Package:azureml-telemetry, training version:1.21.0, current version:1.20.0\n",
            "Package:azureml-train-automl-client, training version:1.21.0, current version:1.20.0\n",
            "Package:azureml-train-automl-runtime, training version:1.21.0, current version:1.20.0\n",
            "WARNING:root:Please ensure the version of your local conda dependencies match the version on which your model was trained in order to properly retrieve your model.\n"
          ]
        }
      ],
      "execution_count": 17,
      "metadata": {
        "gather": {
          "logged": 1612692736469
        },
        "jupyter": {
          "outputs_hidden": false,
          "source_hidden": false
        },
        "nteract": {
          "transient": {
            "deleting": false
          }
        }
      }
    },
    {
      "cell_type": "code",
      "source": [
        "#TODO: Save the best model\n",
        "os.makedirs('./outputs', exist_ok=True)\n",
        "\n",
        "joblib.dump(fitted_model, filename='outputs/automl.joblib')\n",
        "\n",
        "model_name = best_run.properties['model_name']\n",
        "model_name"
      ],
      "outputs": [
        {
          "output_type": "execute_result",
          "execution_count": 18,
          "data": {
            "text/plain": "'AutoML3d5d6ba0f56'"
          },
          "metadata": {}
        }
      ],
      "execution_count": 18,
      "metadata": {
        "gather": {
          "logged": 1612692751852
        },
        "jupyter": {
          "outputs_hidden": false,
          "source_hidden": false
        },
        "nteract": {
          "transient": {
            "deleting": false
          }
        }
      }
    },
    {
      "cell_type": "markdown",
      "source": [
        "## Model Deployment\n",
        "\n",
        "Remember you have to deploy only one of the two models you trained.. Perform the steps in the rest of this notebook only if you wish to deploy this model.\n",
        "\n",
        "TODO: In the cell below, register the model, create an inference config and deploy the model as a web service."
      ],
      "metadata": {}
    },
    {
      "cell_type": "code",
      "source": [
        "script_file = 'score.py'\n",
        "\n",
        "best_run.download_file('outputs/scoring_file_v_1_0_0.py', script_file)"
      ],
      "outputs": [],
      "execution_count": 19,
      "metadata": {
        "gather": {
          "logged": 1612692754956
        },
        "jupyter": {
          "outputs_hidden": false,
          "source_hidden": false
        },
        "nteract": {
          "transient": {
            "deleting": false
          }
        }
      }
    },
    {
      "cell_type": "code",
      "source": [
        "# register model in workspace\n",
        "description = 'Automated Machine Learning Model'\n",
        "tags = None\n",
        "model1 = remote_run.register_model(model_name = model_name, description=description, tags=tags)\n",
        "remote_run.model_id # Use this id to deploy the model as a web service in Azure"
      ],
      "outputs": [
        {
          "output_type": "execute_result",
          "execution_count": 21,
          "data": {
            "text/plain": "'AutoML3d5d6ba0f56'"
          },
          "metadata": {}
        }
      ],
      "execution_count": 21,
      "metadata": {
        "gather": {
          "logged": 1612692766307
        }
      }
    },
    {
      "cell_type": "code",
      "source": [
        "remote_run.get_portal_url()\n",
        "env = best_run.get_environment()\n",
        "\n",
        "script_file = 'score.py'\n",
        "\n",
        "inference_config = InferenceConfig(entry_script = script_file, environment = env)\n",
        "\n",
        "aci_config = AciWebservice.deploy_configuration(cpu_cores = 1, memory_gb = 1)\n",
        "\n",
        "aci_service_name = 'automl-mnist-classifier'\n",
        "print(aci_service_name)"
      ],
      "outputs": [
        {
          "output_type": "stream",
          "name": "stdout",
          "text": [
            "automl-mnist-classifier\n"
          ]
        }
      ],
      "execution_count": 22,
      "metadata": {
        "gather": {
          "logged": 1612692769200
        }
      }
    },
    {
      "cell_type": "code",
      "source": [
        "print('Best Run Id: ', best_run.id)\n",
        "print('\\n Accuracy:', best_run_metrics['accuracy'])\n",
        "print(fitted_model._final_estimator)\n",
        "print(best_run.get_tags())"
      ],
      "outputs": [
        {
          "output_type": "stream",
          "name": "stdout",
          "text": [
            "Best Run Id:  AutoML_3d5d6ba0-f3ac-4b65-82f1-eebd553cf63b_56\n",
            "\n",
            " Accuracy: 0.9935207357279194\n",
            "PreFittedSoftVotingClassifier(classification_labels=None,\n",
            "                              estimators=[('47',\n",
            "                                           Pipeline(memory=None,\n",
            "                                                    steps=[('minmaxscaler',\n",
            "                                                            MinMaxScaler(copy=True,\n",
            "                                                                         feature_range=(0,\n",
            "                                                                                        1))),\n",
            "                                                           ('svcwrapper',\n",
            "                                                            SVCWrapper(C=51.79474679231202,\n",
            "                                                                       break_ties=False,\n",
            "                                                                       cache_size=200,\n",
            "                                                                       class_weight=None,\n",
            "                                                                       coef0=0.0,\n",
            "                                                                       decision_function_shape='ovr',\n",
            "                                                                       degree=3,\n",
            "                                                                       gamma='scale',\n",
            "                                                                       kernel='rbf',\n",
            "                                                                       max_iter=-1,\n",
            "                                                                       pro...\n",
            "                                                    steps=[('standardscalerwrapper',\n",
            "                                                            <azureml.automl.runtime.shared.model_wrappers.StandardScalerWrapper object at 0x7ff6afe6c8d0>),\n",
            "                                                           ('kneighborsclassifier',\n",
            "                                                            KNeighborsClassifier(algorithm='auto',\n",
            "                                                                                 leaf_size=30,\n",
            "                                                                                 metric='manhattan',\n",
            "                                                                                 metric_params=None,\n",
            "                                                                                 n_jobs=1,\n",
            "                                                                                 n_neighbors=16,\n",
            "                                                                                 p=2,\n",
            "                                                                                 weights='distance'))],\n",
            "                                                    verbose=False))],\n",
            "                              flatten_transform=None,\n",
            "                              weights=[0.375, 0.125, 0.125, 0.125, 0.125,\n",
            "                                       0.125])\n",
            "{'_aml_system_azureml.automlComponent': 'AutoML', '_aml_system_ComputeTargetStatus': '{\"AllocationState\":\"steady\",\"PreparingNodeCount\":0,\"RunningNodeCount\":5,\"CurrentNodeCount\":5}', 'ensembled_iterations': '[47, 26, 23, 28, 27, 34]', 'ensembled_algorithms': \"['SVM', 'SVM', 'SVM', 'SVM', 'SVM', 'KNN']\", 'ensemble_weights': '[0.375, 0.125, 0.125, 0.125, 0.125, 0.125]', 'best_individual_pipeline_score': '0.9999229223740785', 'best_individual_iteration': '47', '_aml_system_automl_is_child_run_end_telemetry_event_logged': 'True'}\n"
          ]
        }
      ],
      "execution_count": 23,
      "metadata": {
        "gather": {
          "logged": 1612692772880
        }
      }
    },
    {
      "cell_type": "code",
      "source": [
        "service = Model.deploy(ws, aci_service_name, [model1], inference_config, aci_config)\n",
        "service.wait_for_deployment(True)\n",
        "print(\"State: \" + service.state)\n",
        "print(\"Scoring URI: \" + service.scoring_uri)"
      ],
      "outputs": [
        {
          "output_type": "stream",
          "name": "stdout",
          "text": [
            "Tips: You can try get_logs(): https://aka.ms/debugimage#dockerlog or local deployment: https://aka.ms/debugimage#debug-locally to debug if deployment takes longer than 10 minutes.\n",
            "Running................................................\n",
            "Succeeded\n",
            "ACI service creation operation finished, operation \"Succeeded\"\n",
            "State: Healthy\n",
            "Scoring URI: http://1b456f09-aa6e-454d-a631-cbd51a1edcf7.southcentralus.azurecontainer.io/score\n"
          ]
        }
      ],
      "execution_count": 30,
      "metadata": {
        "gather": {
          "logged": 1612693272663
        }
      }
    },
    {
      "cell_type": "code",
      "source": [
        "from azureml.automl.core.shared import constants\r\n",
        "best_run.download_file(constants.CONDA_ENV_FILE_PATH, 'env.yml')"
      ],
      "outputs": [],
      "execution_count": 31,
      "metadata": {
        "collapsed": true,
        "jupyter": {
          "source_hidden": false,
          "outputs_hidden": false
        },
        "nteract": {
          "transient": {
            "deleting": false
          }
        },
        "gather": {
          "logged": 1612693314844
        }
      }
    },
    {
      "cell_type": "markdown",
      "source": [
        "TODO: In the cell below, send a request to the web service you deployed to test it."
      ],
      "metadata": {
        "collapsed": true,
        "gather": {
          "logged": 1598431657736
        },
        "jupyter": {
          "outputs_hidden": false,
          "source_hidden": false
        },
        "nteract": {
          "transient": {
            "deleting": false
          }
        }
      }
    },
    {
      "cell_type": "code",
      "source": [
        "%run endpoint.py"
      ],
      "outputs": [
        {
          "output_type": "stream",
          "name": "stdout",
          "text": [
            "POST to URL:  http://1b456f09-aa6e-454d-a631-cbd51a1edcf7.southcentralus.azurecontainer.io/score\n",
            "label: 4\n",
            "Prediction: \n",
            "{\"result\": [4]}\n"
          ]
        }
      ],
      "execution_count": 34,
      "metadata": {
        "collapsed": true,
        "jupyter": {
          "source_hidden": false,
          "outputs_hidden": false
        },
        "nteract": {
          "transient": {
            "deleting": false
          }
        }
      }
    },
    {
      "cell_type": "markdown",
      "source": [
        "TODO: In the cell below, print the logs of the web service and delete the service"
      ],
      "metadata": {
        "collapsed": true,
        "gather": {
          "logged": 1598432765711
        },
        "jupyter": {
          "outputs_hidden": false,
          "source_hidden": false
        },
        "nteract": {
          "transient": {
            "deleting": false
          }
        }
      }
    },
    {
      "cell_type": "code",
      "source": [
        "service.get_logs()"
      ],
      "outputs": [
        {
          "output_type": "execute_result",
          "execution_count": 35,
          "data": {
            "text/plain": "'2021-02-07T10:20:57,413389894+00:00 - rsyslog/run \\n2021-02-07T10:20:57,415384413+00:00 - nginx/run \\n2021-02-07T10:20:57,415694116+00:00 - iot-server/run \\n/usr/sbin/nginx: /azureml-envs/azureml_20a8278aa8b20dd48cc50f56a6d2586c/lib/libcrypto.so.1.0.0: no version information available (required by /usr/sbin/nginx)\\n/usr/sbin/nginx: /azureml-envs/azureml_20a8278aa8b20dd48cc50f56a6d2586c/lib/libcrypto.so.1.0.0: no version information available (required by /usr/sbin/nginx)\\n/usr/sbin/nginx: /azureml-envs/azureml_20a8278aa8b20dd48cc50f56a6d2586c/lib/libssl.so.1.0.0: no version information available (required by /usr/sbin/nginx)\\n/usr/sbin/nginx: /azureml-envs/azureml_20a8278aa8b20dd48cc50f56a6d2586c/lib/libssl.so.1.0.0: no version information available (required by /usr/sbin/nginx)\\n/usr/sbin/nginx: /azureml-envs/azureml_20a8278aa8b20dd48cc50f56a6d2586c/lib/libssl.so.1.0.0: no version information available (required by /usr/sbin/nginx)\\n2021-02-07T10:20:57,418093338+00:00 - gunicorn/run \\nrsyslogd: /azureml-envs/azureml_20a8278aa8b20dd48cc50f56a6d2586c/lib/libuuid.so.1: no version information available (required by rsyslogd)\\nEdgeHubConnectionString and IOTEDGE_IOTHUBHOSTNAME are not set. Exiting...\\n2021-02-07T10:20:57,541473790+00:00 - iot-server/finish 1 0\\n2021-02-07T10:20:57,543016404+00:00 - Exit code 1 is normal. Not restarting iot-server.\\nStarting gunicorn 19.9.0\\nListening at: http://127.0.0.1:31311 (13)\\nUsing worker: sync\\nworker timeout is set to 300\\nBooting worker with pid: 42\\nSPARK_HOME not set. Skipping PySpark Initialization.\\nGenerating new fontManager, this may take some time...\\nInitializing logger\\n2021-02-07 10:20:58,639 | root | INFO | Starting up app insights client\\n2021-02-07 10:20:58,639 | root | INFO | Starting up request id generator\\n2021-02-07 10:20:58,640 | root | INFO | Starting up app insight hooks\\n2021-02-07 10:20:58,640 | root | INFO | Invoking user\\'s init function\\n2021-02-07 10:21:01,189 | root | INFO | Users\\'s init has completed successfully\\n2021-02-07 10:21:01,191 | root | INFO | Skipping middleware: dbg_model_info as it\\'s not enabled.\\n2021-02-07 10:21:01,191 | root | INFO | Skipping middleware: dbg_resource_usage as it\\'s not enabled.\\n2021-02-07 10:21:01,193 | root | INFO | Scoring timeout is found from os.environ: 60000 ms\\n2021-02-07 10:21:07,697 | root | INFO | 200\\n127.0.0.1 - - [07/Feb/2021:10:21:07 +0000] \"GET /swagger.json HTTP/1.0\" 200 5675 \"-\" \"Go-http-client/1.1\"\\n2021-02-07 10:21:12,092 | root | INFO | 200\\n127.0.0.1 - - [07/Feb/2021:10:21:12 +0000] \"GET /swagger.json HTTP/1.0\" 200 5675 \"-\" \"Go-http-client/1.1\"\\n2021-02-07 10:23:04,673 | root | INFO | Validation Request Content-Type\\n2021-02-07 10:23:04,674 | root | INFO | Scoring Timer is set to 60.0 seconds\\n2021-02-07 10:23:04,879 | root | INFO | 200\\n127.0.0.1 - - [07/Feb/2021:10:23:04 +0000] \"POST /score HTTP/1.0\" 200 19 \"-\" \"python-requests/2.25.1\"\\n'"
          },
          "metadata": {}
        }
      ],
      "execution_count": 35,
      "metadata": {
        "gather": {
          "logged": 1612693390177
        }
      }
    },
    {
      "cell_type": "markdown",
      "source": [
        "## Cleanup Resources"
      ],
      "metadata": {
        "nteract": {
          "transient": {
            "deleting": false
          }
        }
      }
    },
    {
      "cell_type": "code",
      "source": [
        "service.delete()"
      ],
      "outputs": [],
      "execution_count": 36,
      "metadata": {
        "jupyter": {
          "outputs_hidden": false,
          "source_hidden": false
        },
        "nteract": {
          "transient": {
            "deleting": false
          }
        },
        "gather": {
          "logged": 1612693396394
        }
      }
    }
  ],
  "metadata": {
    "kernel_info": {
      "name": "python3"
    },
    "kernelspec": {
      "name": "python3",
      "language": "python",
      "display_name": "Python 3"
    },
    "language_info": {
      "name": "python",
      "version": "3.6.9",
      "mimetype": "text/x-python",
      "codemirror_mode": {
        "name": "ipython",
        "version": 3
      },
      "pygments_lexer": "ipython3",
      "nbconvert_exporter": "python",
      "file_extension": ".py"
    },
    "nteract": {
      "version": "nteract-front-end@1.0.0"
    }
  },
  "nbformat": 4,
  "nbformat_minor": 2
}